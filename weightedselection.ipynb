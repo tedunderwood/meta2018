{
 "cells": [
  {
   "cell_type": "markdown",
   "metadata": {},
   "source": [
    "# Weighted sample of fiction\n",
    "\n",
    "What if we selected titles proportional to their representation in the library? Instead of giving each title the same chance to be selected, we could give chances proportional to the number of contemporary copies in Hathi, where \"contemporary\" means \"within 25 years of first appearance.\""
   ]
  },
  {
   "cell_type": "code",
   "execution_count": 1,
   "metadata": {},
   "outputs": [],
   "source": [
    "# first, we \"import\" some modules we'll be using\n",
    "\n",
    "import pandas as pd\n",
    "import random\n",
    "from collections import Counter\n",
    "import numpy as np\n",
    "from matplotlib import pyplot as plt\n",
    "%matplotlib inline"
   ]
  },
  {
   "cell_type": "markdown",
   "metadata": {},
   "source": [
    "Now actually read in the metadata."
   ]
  },
  {
   "cell_type": "code",
   "execution_count": 2,
   "metadata": {},
   "outputs": [
    {
     "data": {
      "text/html": [
       "<div>\n",
       "<table border=\"1\" class=\"dataframe\">\n",
       "  <thead>\n",
       "    <tr style=\"text-align: right;\">\n",
       "      <th></th>\n",
       "      <th>docid</th>\n",
       "      <th>oldauthor</th>\n",
       "      <th>author</th>\n",
       "      <th>authordate</th>\n",
       "      <th>inferreddate</th>\n",
       "      <th>latestcomp</th>\n",
       "      <th>datetype</th>\n",
       "      <th>startdate</th>\n",
       "      <th>enddate</th>\n",
       "      <th>imprint</th>\n",
       "      <th>...</th>\n",
       "      <th>recordid</th>\n",
       "      <th>instances</th>\n",
       "      <th>allcopiesofwork</th>\n",
       "      <th>copiesin25yrs</th>\n",
       "      <th>enumcron</th>\n",
       "      <th>volnum</th>\n",
       "      <th>title</th>\n",
       "      <th>parttitle</th>\n",
       "      <th>earlyedition</th>\n",
       "      <th>shorttitle</th>\n",
       "    </tr>\n",
       "  </thead>\n",
       "  <tbody>\n",
       "    <tr>\n",
       "      <th>0</th>\n",
       "      <td>mdp.39015031913893</td>\n",
       "      <td>Spencer, Louise Reid</td>\n",
       "      <td>Spencer, Louise Reid</td>\n",
       "      <td>NaN</td>\n",
       "      <td>0</td>\n",
       "      <td>2100</td>\n",
       "      <td>|</td>\n",
       "      <td>||||</td>\n",
       "      <td>||||</td>\n",
       "      <td>Thomas Y. Crowell company|1945</td>\n",
       "      <td>...</td>\n",
       "      <td>8744</td>\n",
       "      <td>1</td>\n",
       "      <td>1</td>\n",
       "      <td>1</td>\n",
       "      <td>NaN</td>\n",
       "      <td>NaN</td>\n",
       "      <td>Guerrilla wife | $c: [by] Louise Reid Spencer.</td>\n",
       "      <td>NaN</td>\n",
       "      <td>True</td>\n",
       "      <td>Guerrilla wife</td>\n",
       "    </tr>\n",
       "    <tr>\n",
       "      <th>1</th>\n",
       "      <td>mdp.39015003936864</td>\n",
       "      <td>Baker, Robert H</td>\n",
       "      <td>Baker, Robert H</td>\n",
       "      <td>NaN</td>\n",
       "      <td>0</td>\n",
       "      <td>2100</td>\n",
       "      <td>n</td>\n",
       "      <td></td>\n",
       "      <td></td>\n",
       "      <td>Port Washington, N.Y.|Ashley Books|197-?].</td>\n",
       "      <td>...</td>\n",
       "      <td>39757</td>\n",
       "      <td>1</td>\n",
       "      <td>1</td>\n",
       "      <td>1</td>\n",
       "      <td>NaN</td>\n",
       "      <td>NaN</td>\n",
       "      <td>The suburbs : | a novel / | $c: by Robert H. B...</td>\n",
       "      <td>NaN</td>\n",
       "      <td>True</td>\n",
       "      <td>The suburbs : a novel</td>\n",
       "    </tr>\n",
       "    <tr>\n",
       "      <th>2</th>\n",
       "      <td>mdp.39015068342305</td>\n",
       "      <td>Dickens, Charles</td>\n",
       "      <td>Dickens, Charles</td>\n",
       "      <td>1812-1870.</td>\n",
       "      <td>0</td>\n",
       "      <td>1870</td>\n",
       "      <td>n</td>\n",
       "      <td></td>\n",
       "      <td></td>\n",
       "      <td>New York|The American news company|n.d.</td>\n",
       "      <td>...</td>\n",
       "      <td>119996</td>\n",
       "      <td>1</td>\n",
       "      <td>1</td>\n",
       "      <td>1</td>\n",
       "      <td>NaN</td>\n",
       "      <td>NaN</td>\n",
       "      <td>Edwin Drood. | $c: By Charles Dickens. With il...</td>\n",
       "      <td>NaN</td>\n",
       "      <td>True</td>\n",
       "      <td>Edwin Drood</td>\n",
       "    </tr>\n",
       "    <tr>\n",
       "      <th>3</th>\n",
       "      <td>mdp.39015055066586</td>\n",
       "      <td>Stretton, Hesba</td>\n",
       "      <td>Stretton, Hesba</td>\n",
       "      <td>1832-1911.</td>\n",
       "      <td>0</td>\n",
       "      <td>1911</td>\n",
       "      <td>n</td>\n",
       "      <td></td>\n",
       "      <td></td>\n",
       "      <td>New York|Dodd, Mead &amp; co.|n.d.</td>\n",
       "      <td>...</td>\n",
       "      <td>122460</td>\n",
       "      <td>1</td>\n",
       "      <td>1</td>\n",
       "      <td>1</td>\n",
       "      <td>NaN</td>\n",
       "      <td>NaN</td>\n",
       "      <td>Carola, | $c: by Hesba Stretton.</td>\n",
       "      <td>NaN</td>\n",
       "      <td>True</td>\n",
       "      <td>Carola</td>\n",
       "    </tr>\n",
       "    <tr>\n",
       "      <th>4</th>\n",
       "      <td>mdp.39015055066594</td>\n",
       "      <td>Stretton,Hesba</td>\n",
       "      <td>Stretton, Hesba</td>\n",
       "      <td>1832-1911.</td>\n",
       "      <td>0</td>\n",
       "      <td>1911</td>\n",
       "      <td>n</td>\n",
       "      <td></td>\n",
       "      <td></td>\n",
       "      <td>New York|Dodd, Mead &amp; co.|n.d.</td>\n",
       "      <td>...</td>\n",
       "      <td>122464</td>\n",
       "      <td>1</td>\n",
       "      <td>1</td>\n",
       "      <td>1</td>\n",
       "      <td>NaN</td>\n",
       "      <td>NaN</td>\n",
       "      <td>In prison &amp; out. | $c: By Hesba Stretton.</td>\n",
       "      <td>NaN</td>\n",
       "      <td>True</td>\n",
       "      <td>In prison &amp; out</td>\n",
       "    </tr>\n",
       "  </tbody>\n",
       "</table>\n",
       "<p>5 rows × 28 columns</p>\n",
       "</div>"
      ],
      "text/plain": [
       "                docid             oldauthor                author  authordate  \\\n",
       "0  mdp.39015031913893  Spencer, Louise Reid  Spencer, Louise Reid         NaN   \n",
       "1  mdp.39015003936864       Baker, Robert H       Baker, Robert H         NaN   \n",
       "2  mdp.39015068342305      Dickens, Charles      Dickens, Charles  1812-1870.   \n",
       "3  mdp.39015055066586       Stretton, Hesba       Stretton, Hesba  1832-1911.   \n",
       "4  mdp.39015055066594        Stretton,Hesba       Stretton, Hesba  1832-1911.   \n",
       "\n",
       "   inferreddate  latestcomp datetype startdate enddate  \\\n",
       "0             0        2100        |      ||||    ||||   \n",
       "1             0        2100        n                     \n",
       "2             0        1870        n                     \n",
       "3             0        1911        n                     \n",
       "4             0        1911        n                     \n",
       "\n",
       "                                      imprint          ...           recordid  \\\n",
       "0              Thomas Y. Crowell company|1945          ...               8744   \n",
       "1  Port Washington, N.Y.|Ashley Books|197-?].          ...              39757   \n",
       "2     New York|The American news company|n.d.          ...             119996   \n",
       "3              New York|Dodd, Mead & co.|n.d.          ...             122460   \n",
       "4              New York|Dodd, Mead & co.|n.d.          ...             122464   \n",
       "\n",
       "  instances allcopiesofwork copiesin25yrs enumcron volnum  \\\n",
       "0         1               1             1      NaN    NaN   \n",
       "1         1               1             1      NaN    NaN   \n",
       "2         1               1             1      NaN    NaN   \n",
       "3         1               1             1      NaN    NaN   \n",
       "4         1               1             1      NaN    NaN   \n",
       "\n",
       "                                               title parttitle  earlyedition  \\\n",
       "0     Guerrilla wife | $c: [by] Louise Reid Spencer.       NaN          True   \n",
       "1  The suburbs : | a novel / | $c: by Robert H. B...       NaN          True   \n",
       "2  Edwin Drood. | $c: By Charles Dickens. With il...       NaN          True   \n",
       "3                   Carola, | $c: by Hesba Stretton.       NaN          True   \n",
       "4          In prison & out. | $c: By Hesba Stretton.       NaN          True   \n",
       "\n",
       "              shorttitle  \n",
       "0         Guerrilla wife  \n",
       "1  The suburbs : a novel  \n",
       "2            Edwin Drood  \n",
       "3                 Carola  \n",
       "4        In prison & out  \n",
       "\n",
       "[5 rows x 28 columns]"
      ]
     },
     "execution_count": 2,
     "metadata": {},
     "output_type": "execute_result"
    }
   ],
   "source": [
    "meta = pd.read_csv('../noveltmmeta/workmeta.tsv', sep = '\\t', low_memory = False)\n",
    "meta.head()"
   ]
  },
  {
   "cell_type": "code",
   "execution_count": 3,
   "metadata": {},
   "outputs": [
    {
     "data": {
      "text/plain": [
       "(138137, 28)"
      ]
     },
     "execution_count": 3,
     "metadata": {},
     "output_type": "execute_result"
    }
   ],
   "source": [
    "meta.shape\n"
   ]
  },
  {
   "cell_type": "markdown",
   "metadata": {},
   "source": [
    "Let's only use volumes that are published near their author's lifespan."
   ]
  },
  {
   "cell_type": "code",
   "execution_count": 4,
   "metadata": {},
   "outputs": [
    {
     "data": {
      "text/plain": [
       "(129023, 28)"
      ]
     },
     "execution_count": 4,
     "metadata": {},
     "output_type": "execute_result"
    }
   ],
   "source": [
    "meta = meta.loc[meta.earlyedition == True, : ]\n",
    "meta.shape"
   ]
  },
  {
   "cell_type": "markdown",
   "metadata": {},
   "source": [
    "### Histogram by number of copies\n",
    "\n",
    "First, let's explore the basic concept of the thing we're attempting. \n",
    "\n",
    "Our first sample gave each *title* an equal chance of appearing, even though some titles appear many times in Hathi, and some only once.\n",
    "\n",
    "We want to create a sample where often-reprinted works have a greater chance of appearing. Occurrences in Hathi are by no means exactly == actual # of reprints, but we trust that there is some relationship. We're only going to count reprints in the first 25 years, because long-term canonicity is a different question, and might require yet another sample.\n",
    "\n",
    "To start, let's consider how titles are distributed across different levels of representation."
   ]
  },
  {
   "cell_type": "code",
   "execution_count": 5,
   "metadata": {},
   "outputs": [
    {
     "data": {
      "text/html": [
       "<div>\n",
       "<table border=\"1\" class=\"dataframe\">\n",
       "  <thead>\n",
       "    <tr style=\"text-align: right;\">\n",
       "      <th></th>\n",
       "      <th>docid</th>\n",
       "    </tr>\n",
       "    <tr>\n",
       "      <th>copiesin25yrs</th>\n",
       "      <th></th>\n",
       "    </tr>\n",
       "  </thead>\n",
       "  <tbody>\n",
       "    <tr>\n",
       "      <th>1</th>\n",
       "      <td>88077</td>\n",
       "    </tr>\n",
       "    <tr>\n",
       "      <th>2</th>\n",
       "      <td>23147</td>\n",
       "    </tr>\n",
       "    <tr>\n",
       "      <th>3</th>\n",
       "      <td>10290</td>\n",
       "    </tr>\n",
       "    <tr>\n",
       "      <th>4</th>\n",
       "      <td>3317</td>\n",
       "    </tr>\n",
       "    <tr>\n",
       "      <th>5</th>\n",
       "      <td>1598</td>\n",
       "    </tr>\n",
       "  </tbody>\n",
       "</table>\n",
       "</div>"
      ],
      "text/plain": [
       "               docid\n",
       "copiesin25yrs       \n",
       "1              88077\n",
       "2              23147\n",
       "3              10290\n",
       "4               3317\n",
       "5               1598"
      ]
     },
     "execution_count": 5,
     "metadata": {},
     "output_type": "execute_result"
    }
   ],
   "source": [
    "bycopies = meta.groupby('copiesin25yrs').agg({'docid': 'count'})\n",
    "bycopies.head()\n"
   ]
  },
  {
   "cell_type": "markdown",
   "metadata": {},
   "source": [
    "We're going to want to sample titles with a probability proportional to the total number of copies. Let's generate that probability:"
   ]
  },
  {
   "cell_type": "code",
   "execution_count": 6,
   "metadata": {},
   "outputs": [
    {
     "data": {
      "text/html": [
       "<div>\n",
       "<table border=\"1\" class=\"dataframe\">\n",
       "  <thead>\n",
       "    <tr style=\"text-align: right;\">\n",
       "      <th></th>\n",
       "      <th>docid</th>\n",
       "      <th>totalcopies</th>\n",
       "      <th>cumulative</th>\n",
       "    </tr>\n",
       "    <tr>\n",
       "      <th>copiesin25yrs</th>\n",
       "      <th></th>\n",
       "      <th></th>\n",
       "      <th></th>\n",
       "    </tr>\n",
       "  </thead>\n",
       "  <tbody>\n",
       "    <tr>\n",
       "      <th>1</th>\n",
       "      <td>88077</td>\n",
       "      <td>0.423297</td>\n",
       "      <td>0.423297</td>\n",
       "    </tr>\n",
       "    <tr>\n",
       "      <th>2</th>\n",
       "      <td>23147</td>\n",
       "      <td>0.222488</td>\n",
       "      <td>0.645785</td>\n",
       "    </tr>\n",
       "    <tr>\n",
       "      <th>3</th>\n",
       "      <td>10290</td>\n",
       "      <td>0.148361</td>\n",
       "      <td>0.794145</td>\n",
       "    </tr>\n",
       "    <tr>\n",
       "      <th>4</th>\n",
       "      <td>3317</td>\n",
       "      <td>0.063766</td>\n",
       "      <td>0.857911</td>\n",
       "    </tr>\n",
       "    <tr>\n",
       "      <th>5</th>\n",
       "      <td>1598</td>\n",
       "      <td>0.038400</td>\n",
       "      <td>0.896311</td>\n",
       "    </tr>\n",
       "    <tr>\n",
       "      <th>6</th>\n",
       "      <td>1048</td>\n",
       "      <td>0.030220</td>\n",
       "      <td>0.926531</td>\n",
       "    </tr>\n",
       "    <tr>\n",
       "      <th>7</th>\n",
       "      <td>466</td>\n",
       "      <td>0.015677</td>\n",
       "      <td>0.942208</td>\n",
       "    </tr>\n",
       "    <tr>\n",
       "      <th>8</th>\n",
       "      <td>308</td>\n",
       "      <td>0.011842</td>\n",
       "      <td>0.954050</td>\n",
       "    </tr>\n",
       "    <tr>\n",
       "      <th>9</th>\n",
       "      <td>210</td>\n",
       "      <td>0.009083</td>\n",
       "      <td>0.963133</td>\n",
       "    </tr>\n",
       "    <tr>\n",
       "      <th>10</th>\n",
       "      <td>138</td>\n",
       "      <td>0.006632</td>\n",
       "      <td>0.969766</td>\n",
       "    </tr>\n",
       "    <tr>\n",
       "      <th>11</th>\n",
       "      <td>93</td>\n",
       "      <td>0.004917</td>\n",
       "      <td>0.974682</td>\n",
       "    </tr>\n",
       "    <tr>\n",
       "      <th>12</th>\n",
       "      <td>96</td>\n",
       "      <td>0.005536</td>\n",
       "      <td>0.980219</td>\n",
       "    </tr>\n",
       "    <tr>\n",
       "      <th>13</th>\n",
       "      <td>51</td>\n",
       "      <td>0.003186</td>\n",
       "      <td>0.983405</td>\n",
       "    </tr>\n",
       "    <tr>\n",
       "      <th>14</th>\n",
       "      <td>33</td>\n",
       "      <td>0.002220</td>\n",
       "      <td>0.985625</td>\n",
       "    </tr>\n",
       "    <tr>\n",
       "      <th>15</th>\n",
       "      <td>26</td>\n",
       "      <td>0.001874</td>\n",
       "      <td>0.987500</td>\n",
       "    </tr>\n",
       "    <tr>\n",
       "      <th>16</th>\n",
       "      <td>31</td>\n",
       "      <td>0.002384</td>\n",
       "      <td>0.989883</td>\n",
       "    </tr>\n",
       "    <tr>\n",
       "      <th>17</th>\n",
       "      <td>3</td>\n",
       "      <td>0.000245</td>\n",
       "      <td>0.990129</td>\n",
       "    </tr>\n",
       "    <tr>\n",
       "      <th>18</th>\n",
       "      <td>16</td>\n",
       "      <td>0.001384</td>\n",
       "      <td>0.991513</td>\n",
       "    </tr>\n",
       "    <tr>\n",
       "      <th>19</th>\n",
       "      <td>8</td>\n",
       "      <td>0.000731</td>\n",
       "      <td>0.992243</td>\n",
       "    </tr>\n",
       "    <tr>\n",
       "      <th>20</th>\n",
       "      <td>23</td>\n",
       "      <td>0.002211</td>\n",
       "      <td>0.994454</td>\n",
       "    </tr>\n",
       "    <tr>\n",
       "      <th>21</th>\n",
       "      <td>7</td>\n",
       "      <td>0.000706</td>\n",
       "      <td>0.995160</td>\n",
       "    </tr>\n",
       "    <tr>\n",
       "      <th>22</th>\n",
       "      <td>3</td>\n",
       "      <td>0.000317</td>\n",
       "      <td>0.995478</td>\n",
       "    </tr>\n",
       "    <tr>\n",
       "      <th>23</th>\n",
       "      <td>4</td>\n",
       "      <td>0.000442</td>\n",
       "      <td>0.995920</td>\n",
       "    </tr>\n",
       "    <tr>\n",
       "      <th>24</th>\n",
       "      <td>6</td>\n",
       "      <td>0.000692</td>\n",
       "      <td>0.996612</td>\n",
       "    </tr>\n",
       "    <tr>\n",
       "      <th>25</th>\n",
       "      <td>4</td>\n",
       "      <td>0.000481</td>\n",
       "      <td>0.997092</td>\n",
       "    </tr>\n",
       "    <tr>\n",
       "      <th>26</th>\n",
       "      <td>7</td>\n",
       "      <td>0.000875</td>\n",
       "      <td>0.997967</td>\n",
       "    </tr>\n",
       "    <tr>\n",
       "      <th>27</th>\n",
       "      <td>1</td>\n",
       "      <td>0.000130</td>\n",
       "      <td>0.998097</td>\n",
       "    </tr>\n",
       "    <tr>\n",
       "      <th>28</th>\n",
       "      <td>5</td>\n",
       "      <td>0.000673</td>\n",
       "      <td>0.998770</td>\n",
       "    </tr>\n",
       "    <tr>\n",
       "      <th>29</th>\n",
       "      <td>1</td>\n",
       "      <td>0.000139</td>\n",
       "      <td>0.998909</td>\n",
       "    </tr>\n",
       "    <tr>\n",
       "      <th>30</th>\n",
       "      <td>2</td>\n",
       "      <td>0.000288</td>\n",
       "      <td>0.999197</td>\n",
       "    </tr>\n",
       "    <tr>\n",
       "      <th>32</th>\n",
       "      <td>1</td>\n",
       "      <td>0.000154</td>\n",
       "      <td>0.999351</td>\n",
       "    </tr>\n",
       "    <tr>\n",
       "      <th>37</th>\n",
       "      <td>1</td>\n",
       "      <td>0.000178</td>\n",
       "      <td>0.999529</td>\n",
       "    </tr>\n",
       "    <tr>\n",
       "      <th>49</th>\n",
       "      <td>2</td>\n",
       "      <td>0.000471</td>\n",
       "      <td>1.000000</td>\n",
       "    </tr>\n",
       "  </tbody>\n",
       "</table>\n",
       "</div>"
      ],
      "text/plain": [
       "               docid  totalcopies  cumulative\n",
       "copiesin25yrs                                \n",
       "1              88077     0.423297    0.423297\n",
       "2              23147     0.222488    0.645785\n",
       "3              10290     0.148361    0.794145\n",
       "4               3317     0.063766    0.857911\n",
       "5               1598     0.038400    0.896311\n",
       "6               1048     0.030220    0.926531\n",
       "7                466     0.015677    0.942208\n",
       "8                308     0.011842    0.954050\n",
       "9                210     0.009083    0.963133\n",
       "10               138     0.006632    0.969766\n",
       "11                93     0.004917    0.974682\n",
       "12                96     0.005536    0.980219\n",
       "13                51     0.003186    0.983405\n",
       "14                33     0.002220    0.985625\n",
       "15                26     0.001874    0.987500\n",
       "16                31     0.002384    0.989883\n",
       "17                 3     0.000245    0.990129\n",
       "18                16     0.001384    0.991513\n",
       "19                 8     0.000731    0.992243\n",
       "20                23     0.002211    0.994454\n",
       "21                 7     0.000706    0.995160\n",
       "22                 3     0.000317    0.995478\n",
       "23                 4     0.000442    0.995920\n",
       "24                 6     0.000692    0.996612\n",
       "25                 4     0.000481    0.997092\n",
       "26                 7     0.000875    0.997967\n",
       "27                 1     0.000130    0.998097\n",
       "28                 5     0.000673    0.998770\n",
       "29                 1     0.000139    0.998909\n",
       "30                 2     0.000288    0.999197\n",
       "32                 1     0.000154    0.999351\n",
       "37                 1     0.000178    0.999529\n",
       "49                 2     0.000471    1.000000"
      ]
     },
     "execution_count": 6,
     "metadata": {},
     "output_type": "execute_result"
    }
   ],
   "source": [
    "totalcopies = []\n",
    "for idx, row in bycopies.iterrows():\n",
    "    copies = int(idx) * row['docid']\n",
    "    totalcopies.append(copies)\n",
    "totalcopies = np.array(totalcopies) / np.sum(totalcopies)\n",
    "bycopies = bycopies.assign(totalcopies = totalcopies)\n",
    "\n",
    "cumulativeprob = []\n",
    "cumulate = 0\n",
    "for idx, row in bycopies.iterrows():\n",
    "    cumulate += row['totalcopies']\n",
    "    cumulativeprob.append(cumulate)\n",
    "    \n",
    "bycopies = bycopies.assign(cumulative = cumulativeprob)\n",
    "bycopies"
   ]
  },
  {
   "cell_type": "markdown",
   "metadata": {},
   "source": [
    "### Now load our first sample\n",
    "\n",
    "Here every title had an equal chance of being picked."
   ]
  },
  {
   "cell_type": "code",
   "execution_count": 36,
   "metadata": {},
   "outputs": [
    {
     "data": {
      "text/plain": [
       "(2730, 28)"
      ]
     },
     "execution_count": 36,
     "metadata": {},
     "output_type": "execute_result"
    }
   ],
   "source": [
    "first = pd.read_csv('firstsample.tsv', sep = '\\t')\n",
    "first.shape"
   ]
  },
  {
   "cell_type": "code",
   "execution_count": 37,
   "metadata": {},
   "outputs": [
    {
     "data": {
      "text/html": [
       "<div>\n",
       "<table border=\"1\" class=\"dataframe\">\n",
       "  <thead>\n",
       "    <tr style=\"text-align: right;\">\n",
       "      <th></th>\n",
       "      <th>docid</th>\n",
       "    </tr>\n",
       "    <tr>\n",
       "      <th>copiesin25yrs</th>\n",
       "      <th></th>\n",
       "    </tr>\n",
       "  </thead>\n",
       "  <tbody>\n",
       "    <tr>\n",
       "      <th>1</th>\n",
       "      <td>1655</td>\n",
       "    </tr>\n",
       "    <tr>\n",
       "      <th>2</th>\n",
       "      <td>489</td>\n",
       "    </tr>\n",
       "    <tr>\n",
       "      <th>3</th>\n",
       "      <td>330</td>\n",
       "    </tr>\n",
       "    <tr>\n",
       "      <th>4</th>\n",
       "      <td>126</td>\n",
       "    </tr>\n",
       "    <tr>\n",
       "      <th>5</th>\n",
       "      <td>34</td>\n",
       "    </tr>\n",
       "    <tr>\n",
       "      <th>6</th>\n",
       "      <td>33</td>\n",
       "    </tr>\n",
       "    <tr>\n",
       "      <th>7</th>\n",
       "      <td>28</td>\n",
       "    </tr>\n",
       "    <tr>\n",
       "      <th>8</th>\n",
       "      <td>9</td>\n",
       "    </tr>\n",
       "    <tr>\n",
       "      <th>9</th>\n",
       "      <td>6</td>\n",
       "    </tr>\n",
       "    <tr>\n",
       "      <th>10</th>\n",
       "      <td>5</td>\n",
       "    </tr>\n",
       "    <tr>\n",
       "      <th>11</th>\n",
       "      <td>4</td>\n",
       "    </tr>\n",
       "    <tr>\n",
       "      <th>12</th>\n",
       "      <td>5</td>\n",
       "    </tr>\n",
       "    <tr>\n",
       "      <th>13</th>\n",
       "      <td>4</td>\n",
       "    </tr>\n",
       "    <tr>\n",
       "      <th>15</th>\n",
       "      <td>1</td>\n",
       "    </tr>\n",
       "    <tr>\n",
       "      <th>16</th>\n",
       "      <td>1</td>\n",
       "    </tr>\n",
       "  </tbody>\n",
       "</table>\n",
       "</div>"
      ],
      "text/plain": [
       "               docid\n",
       "copiesin25yrs       \n",
       "1               1655\n",
       "2                489\n",
       "3                330\n",
       "4                126\n",
       "5                 34\n",
       "6                 33\n",
       "7                 28\n",
       "8                  9\n",
       "9                  6\n",
       "10                 5\n",
       "11                 4\n",
       "12                 5\n",
       "13                 4\n",
       "15                 1\n",
       "16                 1"
      ]
     },
     "execution_count": 37,
     "metadata": {},
     "output_type": "execute_result"
    }
   ],
   "source": [
    "firstbycopies = first.groupby('copiesin25yrs').agg({'docid': 'count'})\n",
    "firstbycopies"
   ]
  },
  {
   "cell_type": "markdown",
   "metadata": {},
   "source": [
    "### Generate a distribution proportional to copy counts"
   ]
  },
  {
   "cell_type": "code",
   "execution_count": 38,
   "metadata": {},
   "outputs": [
    {
     "name": "stdout",
     "output_type": "stream",
     "text": [
      "1 1163\n",
      "2 615\n",
      "3 401\n",
      "4 168\n",
      "5 101\n",
      "6 88\n",
      "7 31\n",
      "8 34\n",
      "9 31\n",
      "10 14\n",
      "11 18\n",
      "12 12\n",
      "13 7\n",
      "14 6\n",
      "15 6\n",
      "16 5\n",
      "17 0\n",
      "18 3\n",
      "19 2\n",
      "20 4\n",
      "21 3\n",
      "22 0\n",
      "23 1\n",
      "24 3\n",
      "25 2\n",
      "26 3\n",
      "27 0\n",
      "28 2\n",
      "29 0\n"
     ]
    }
   ],
   "source": [
    "copycounts = []\n",
    "cumulist = list(bycopies.cumulative)\n",
    "for i in range(0, 2730):\n",
    "    prob = random.uniform(0, 1)\n",
    "    n = next(x[0] for x in enumerate(cumulist) if x[1] > prob)\n",
    "    copycounts.append(n + 1)\n",
    "\n",
    "xs = []\n",
    "ys = []\n",
    "proportional = Counter(copycounts)\n",
    "for n in range(1, 30):\n",
    "    print(n, proportional[n])\n",
    "    xs.append(n)\n",
    "    ys.append(proportional[n])"
   ]
  },
  {
   "cell_type": "markdown",
   "metadata": {},
   "source": [
    "### Now visualize the difference"
   ]
  },
  {
   "cell_type": "code",
   "execution_count": 39,
   "metadata": {},
   "outputs": [],
   "source": [
    "from pylab import rcParams\n",
    "rcParams['figure.figsize'] = 9, 6"
   ]
  },
  {
   "cell_type": "code",
   "execution_count": 40,
   "metadata": {},
   "outputs": [
    {
     "data": {
      "image/png": "[encoded data removed]",
      "text/plain": [
       "<matplotlib.figure.Figure at 0x11a9c6208>"
      ]
     },
     "metadata": {},
     "output_type": "display_data"
    }
   ],
   "source": [
    "plt.plot([x+1 for x in range(15)], firstbycopies['docid'])\n",
    "plt.plot(xs[0:15], ys[0:15], color = 'r')\n",
    "plt.show()"
   ]
  },
  {
   "cell_type": "markdown",
   "metadata": {},
   "source": [
    "Basically, the change we need to make is represented by the difference between the red and blue lines. We need to subtract about 500 titles that are only represented once, and add 500 titles that are represented by 2 -> copies."
   ]
  },
  {
   "cell_type": "code",
   "execution_count": 44,
   "metadata": {},
   "outputs": [
    {
     "name": "stdout",
     "output_type": "stream",
     "text": [
      "2 126\n",
      "3 71\n",
      "4 42\n",
      "5 67\n",
      "6 55\n",
      "7 3\n",
      "8 25\n",
      "9 25\n",
      "10 9\n",
      "11 14\n",
      "12 7\n",
      "13 3\n",
      "14 6\n",
      "15 5\n",
      "16 4\n",
      "17 0\n",
      "18 3\n",
      "19 2\n",
      "20 4\n",
      "21 3\n",
      "22 0\n",
      "23 1\n",
      "24 3\n",
      "25 2\n",
      "26 3\n",
      "27 0\n",
      "28 2\n",
      "29 0\n",
      "\n",
      "remove: 492\n",
      "add:  485\n"
     ]
    }
   ],
   "source": [
    "needed = dict()\n",
    "for i in range(2, 30):\n",
    "    if i in firstbycopies.index:\n",
    "        needed[i] = ys[i-1] - firstbycopies.loc[i, 'docid']\n",
    "    else:\n",
    "        needed[i] = ys[i-1]\n",
    "\n",
    "add = 0\n",
    "for i in range(2, 30):\n",
    "    print(i, needed[i])\n",
    "    add += needed[i]\n",
    "\n",
    "print()   \n",
    "print('remove:',firstbycopies.loc[1, 'docid'] - ys[0])\n",
    "print('add: ', add)"
   ]
  },
  {
   "cell_type": "markdown",
   "metadata": {},
   "source": [
    "However, here's the rub: we want these additions and deletions to be evenly distributed across time, and we want the sampling to reflect local conditions in each decade. To achieve that, we're going to need to do everything we did above *in each decade.*"
   ]
  },
  {
   "cell_type": "code",
   "execution_count": 47,
   "metadata": {},
   "outputs": [
    {
     "data": {
      "text/plain": [
       "23"
      ]
     },
     "execution_count": 47,
     "metadata": {},
     "output_type": "execute_result"
    }
   ],
   "source": [
    "492 // 21"
   ]
  },
  {
   "cell_type": "markdown",
   "metadata": {},
   "source": [
    "So, add 23 vols in each decade."
   ]
  },
  {
   "cell_type": "code",
   "execution_count": 62,
   "metadata": {},
   "outputs": [
    {
     "name": "stdout",
     "output_type": "stream",
     "text": [
      "error\n"
     ]
    }
   ],
   "source": [
    "alreadysampled = set(first.docid)\n",
    "selected = []\n",
    "\n",
    "for decade_floor in range(1800, 2010, 10):\n",
    "    dmeta = meta.loc[(meta.inferreddate >= decade_floor) & (meta.inferreddate < (decade_floor + 10)), : ]\n",
    "    grouped = dmeta.groupby('copiesin25yrs')\n",
    "    bycopies = grouped.agg({'docid': 'count'})\n",
    "    \n",
    "    # vols that can be selected\n",
    "    toselect = dict()\n",
    "    for numcopies, df in grouped:\n",
    "        toselect[numcopies] = []\n",
    "        for d in df.docid:\n",
    "            if d not in alreadysampled:\n",
    "                toselect[numcopies].append(d)\n",
    "        random.shuffle(toselect[numcopies])\n",
    "               \n",
    "    totalcopies = []\n",
    "    binlabels = []\n",
    "    for idx, row in bycopies.iterrows():\n",
    "        if idx == 1:\n",
    "            continue\n",
    "        else:\n",
    "            binlabels.append(idx)\n",
    "            \n",
    "        copies = int(idx) * row['docid']\n",
    "        totalcopies.append(copies)\n",
    "    totalprob = np.array(totalcopies) / np.sum(totalcopies)\n",
    "\n",
    "    cumulativeprob = []\n",
    "    cumulate = 0\n",
    "    \n",
    "    for prob in totalprob:\n",
    "        cumulate += prob\n",
    "        cumulativeprob.append(cumulate)\n",
    "        \n",
    "    copycounts = []\n",
    "    for i in range(0, 23):\n",
    "        prob = random.uniform(0, 1)\n",
    "        for label, threshold in zip(binlabels, cumulativeprob):\n",
    "            if threshold > prob:\n",
    "                copycounts.append(label)\n",
    "                break\n",
    "\n",
    "    for acount in copycounts:\n",
    "        if len(toselect[acount]) > 0:\n",
    "            chosen = toselect[acount].pop()\n",
    "            selected.append(chosen)\n",
    "        else:\n",
    "            print('error')\n"
   ]
  },
  {
   "cell_type": "code",
   "execution_count": 63,
   "metadata": {},
   "outputs": [
    {
     "data": {
      "text/plain": [
       "482"
      ]
     },
     "execution_count": 63,
     "metadata": {},
     "output_type": "execute_result"
    }
   ],
   "source": [
    "len(selected)"
   ]
  },
  {
   "cell_type": "code",
   "execution_count": 64,
   "metadata": {},
   "outputs": [],
   "source": [
    "thechosen = meta.loc[meta.docid.isin(selected), : ]\n",
    "thechosen.to_csv('oft_reprinted.csv', index = False)"
   ]
  },
  {
   "cell_type": "code",
   "execution_count": 65,
   "metadata": {},
   "outputs": [
    {
     "data": {
      "text/plain": [
       "<matplotlib.collections.PathCollection at 0x107494828>"
      ]
     },
     "execution_count": 65,
     "metadata": {},
     "output_type": "execute_result"
    },
    {
     "data": {
      "image/png": "[encoded data removed]",
      "text/plain": [
       "<matplotlib.figure.Figure at 0x11752b860>"
      ]
     },
     "metadata": {},
     "output_type": "display_data"
    }
   ],
   "source": [
    "plt.scatter(thechosen.inferreddate, [random.uniform(0,1) for x in range(482)])"
   ]
  },
  {
   "cell_type": "code",
   "execution_count": 66,
   "metadata": {},
   "outputs": [
    {
     "data": {
      "text/plain": [
       "<matplotlib.collections.PathCollection at 0x122fdf4e0>"
      ]
     },
     "execution_count": 66,
     "metadata": {},
     "output_type": "execute_result"
    },
    {
     "data": {
      "image/png": "[encoded data removed]",
      "text/plain": [
       "<matplotlib.figure.Figure at 0x13e0c5470>"
      ]
     },
     "metadata": {},
     "output_type": "display_data"
    }
   ],
   "source": [
    "plt.scatter(thechosen.inferreddate, thechosen.copiesin25yrs)"
   ]
  },
  {
   "cell_type": "markdown",
   "metadata": {},
   "source": [
    "Interesting relation to time."
   ]
  },
  {
   "cell_type": "code",
   "execution_count": 68,
   "metadata": {},
   "outputs": [],
   "source": [
    "random.shuffle(selected)"
   ]
  },
  {
   "cell_type": "code",
   "execution_count": 73,
   "metadata": {},
   "outputs": [],
   "source": [
    "p = selected[0 : 200]\n",
    "j = selected[200 : 400]\n",
    "t = selected[400 : ]"
   ]
  },
  {
   "cell_type": "code",
   "execution_count": 74,
   "metadata": {},
   "outputs": [],
   "source": [
    "p.extend(random.sample(j, 25))\n",
    "p.extend(random.sample(t, 25))"
   ]
  },
  {
   "cell_type": "code",
   "execution_count": 75,
   "metadata": {},
   "outputs": [],
   "source": [
    "j.extend(random.sample(p, 25))\n",
    "j.extend(random.sample(t, 25))"
   ]
  },
  {
   "cell_type": "code",
   "execution_count": 76,
   "metadata": {},
   "outputs": [],
   "source": [
    "t.extend(random.sample(p, 25))\n",
    "t.extend(random.sample(j, 25))"
   ]
  },
  {
   "cell_type": "code",
   "execution_count": 81,
   "metadata": {},
   "outputs": [
    {
     "data": {
      "text/plain": [
       "Index(['docid', 'author', 'realname', 'pseudonym', 'gender', 'nationality',\n",
       "       'authordate', 'inferreddate', 'firstpub', 'latestcomp',\n",
       "       'allcopiesofwork', 'copiesin25yrs', 'enumcron', 'imprint', 'genres',\n",
       "       'subjects', 'category', 'shorttitle'],\n",
       "      dtype='object')"
      ]
     },
     "execution_count": 81,
     "metadata": {},
     "output_type": "execute_result"
    }
   ],
   "source": [
    "patrick = pd.read_csv('patrick.tsv')\n",
    "cols = patrick.columns\n",
    "cols"
   ]
  },
  {
   "cell_type": "code",
   "execution_count": 82,
   "metadata": {},
   "outputs": [
    {
     "data": {
      "text/plain": [
       "(250, 18)"
      ]
     },
     "execution_count": 82,
     "metadata": {},
     "output_type": "execute_result"
    }
   ],
   "source": [
    "patrick = meta.loc[meta.docid.isin(p), cols]\n",
    "patrick.shape"
   ]
  },
  {
   "cell_type": "code",
   "execution_count": 84,
   "metadata": {},
   "outputs": [],
   "source": [
    "patrick.to_csv('copies/patrickmanycopies.csv', index = False)"
   ]
  },
  {
   "cell_type": "code",
   "execution_count": 86,
   "metadata": {},
   "outputs": [],
   "source": [
    "jessica = meta.loc[meta.docid.isin(j), cols]\n",
    "jessica.to_csv('copies/jessicamanycopies.csv', index = False)"
   ]
  },
  {
   "cell_type": "code",
   "execution_count": 87,
   "metadata": {},
   "outputs": [],
   "source": [
    "ted = meta.loc[meta.docid.isin(t), cols]\n",
    "ted.to_csv('copies/tedmanycopies.csv', index = False)"
   ]
  },
  {
   "cell_type": "code",
   "execution_count": null,
   "metadata": {},
   "outputs": [],
   "source": []
  }
 ],
 "metadata": {
  "anaconda-cloud": {},
  "kernelspec": {
   "display_name": "Python 3",
   "language": "python",
   "name": "python3"
  },
  "language_info": {
   "codemirror_mode": {
    "name": "ipython",
    "version": 3
   },
   "file_extension": ".py",
   "mimetype": "text/x-python",
   "name": "python",
   "nbconvert_exporter": "python",
   "pygments_lexer": "ipython3",
   "version": "3.5.2"
  }
 },
 "nbformat": 4,
 "nbformat_minor": 1
}
