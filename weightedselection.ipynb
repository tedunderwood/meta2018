{
 "cells": [
  {
   "cell_type": "markdown",
   "metadata": {},
   "source": [
    "# Weighted sample of fiction\n",
    "\n",
    "What if we selected titles proportional to their representation in the library? Instead of giving each title the same chance to be selected, we could give chances proportional to the number of contemporary copies in Hathi, where \"contemporary\" means \"within 25 years of first appearance.\""
   ]
  },
  {
   "cell_type": "code",
   "execution_count": 10,
   "metadata": {},
   "outputs": [],
   "source": [
    "# first, we \"import\" some modules we'll be using\n",
    "\n",
    "import pandas as pd\n",
    "import random\n",
    "from collections import Counter\n",
    "import numpy as np"
   ]
  },
  {
   "cell_type": "markdown",
   "metadata": {},
   "source": [
    "Now actually read in the metadata."
   ]
  },
  {
   "cell_type": "code",
   "execution_count": 3,
   "metadata": {},
   "outputs": [
    {
     "data": {
      "text/html": [
       "<div>\n",
       "<table border=\"1\" class=\"dataframe\">\n",
       "  <thead>\n",
       "    <tr style=\"text-align: right;\">\n",
       "      <th></th>\n",
       "      <th>docid</th>\n",
       "      <th>oldauthor</th>\n",
       "      <th>author</th>\n",
       "      <th>authordate</th>\n",
       "      <th>inferreddate</th>\n",
       "      <th>latestcomp</th>\n",
       "      <th>datetype</th>\n",
       "      <th>startdate</th>\n",
       "      <th>enddate</th>\n",
       "      <th>imprint</th>\n",
       "      <th>...</th>\n",
       "      <th>recordid</th>\n",
       "      <th>instances</th>\n",
       "      <th>allcopiesofwork</th>\n",
       "      <th>copiesin25yrs</th>\n",
       "      <th>enumcron</th>\n",
       "      <th>volnum</th>\n",
       "      <th>title</th>\n",
       "      <th>parttitle</th>\n",
       "      <th>earlyedition</th>\n",
       "      <th>shorttitle</th>\n",
       "    </tr>\n",
       "  </thead>\n",
       "  <tbody>\n",
       "    <tr>\n",
       "      <th>0</th>\n",
       "      <td>mdp.39015031913893</td>\n",
       "      <td>Spencer, Louise Reid</td>\n",
       "      <td>Spencer, Louise Reid</td>\n",
       "      <td>NaN</td>\n",
       "      <td>0</td>\n",
       "      <td>2100</td>\n",
       "      <td>|</td>\n",
       "      <td>||||</td>\n",
       "      <td>||||</td>\n",
       "      <td>Thomas Y. Crowell company|1945</td>\n",
       "      <td>...</td>\n",
       "      <td>8744</td>\n",
       "      <td>1</td>\n",
       "      <td>1</td>\n",
       "      <td>1</td>\n",
       "      <td>NaN</td>\n",
       "      <td>NaN</td>\n",
       "      <td>Guerrilla wife | $c: [by] Louise Reid Spencer.</td>\n",
       "      <td>NaN</td>\n",
       "      <td>True</td>\n",
       "      <td>Guerrilla wife</td>\n",
       "    </tr>\n",
       "    <tr>\n",
       "      <th>1</th>\n",
       "      <td>mdp.39015003936864</td>\n",
       "      <td>Baker, Robert H</td>\n",
       "      <td>Baker, Robert H</td>\n",
       "      <td>NaN</td>\n",
       "      <td>0</td>\n",
       "      <td>2100</td>\n",
       "      <td>n</td>\n",
       "      <td></td>\n",
       "      <td></td>\n",
       "      <td>Port Washington, N.Y.|Ashley Books|197-?].</td>\n",
       "      <td>...</td>\n",
       "      <td>39757</td>\n",
       "      <td>1</td>\n",
       "      <td>1</td>\n",
       "      <td>1</td>\n",
       "      <td>NaN</td>\n",
       "      <td>NaN</td>\n",
       "      <td>The suburbs : | a novel / | $c: by Robert H. B...</td>\n",
       "      <td>NaN</td>\n",
       "      <td>True</td>\n",
       "      <td>The suburbs : a novel</td>\n",
       "    </tr>\n",
       "    <tr>\n",
       "      <th>2</th>\n",
       "      <td>mdp.39015068342305</td>\n",
       "      <td>Dickens, Charles</td>\n",
       "      <td>Dickens, Charles</td>\n",
       "      <td>1812-1870.</td>\n",
       "      <td>0</td>\n",
       "      <td>1870</td>\n",
       "      <td>n</td>\n",
       "      <td></td>\n",
       "      <td></td>\n",
       "      <td>New York|The American news company|n.d.</td>\n",
       "      <td>...</td>\n",
       "      <td>119996</td>\n",
       "      <td>1</td>\n",
       "      <td>1</td>\n",
       "      <td>1</td>\n",
       "      <td>NaN</td>\n",
       "      <td>NaN</td>\n",
       "      <td>Edwin Drood. | $c: By Charles Dickens. With il...</td>\n",
       "      <td>NaN</td>\n",
       "      <td>True</td>\n",
       "      <td>Edwin Drood</td>\n",
       "    </tr>\n",
       "    <tr>\n",
       "      <th>3</th>\n",
       "      <td>mdp.39015055066586</td>\n",
       "      <td>Stretton, Hesba</td>\n",
       "      <td>Stretton, Hesba</td>\n",
       "      <td>1832-1911.</td>\n",
       "      <td>0</td>\n",
       "      <td>1911</td>\n",
       "      <td>n</td>\n",
       "      <td></td>\n",
       "      <td></td>\n",
       "      <td>New York|Dodd, Mead &amp; co.|n.d.</td>\n",
       "      <td>...</td>\n",
       "      <td>122460</td>\n",
       "      <td>1</td>\n",
       "      <td>1</td>\n",
       "      <td>1</td>\n",
       "      <td>NaN</td>\n",
       "      <td>NaN</td>\n",
       "      <td>Carola, | $c: by Hesba Stretton.</td>\n",
       "      <td>NaN</td>\n",
       "      <td>True</td>\n",
       "      <td>Carola</td>\n",
       "    </tr>\n",
       "    <tr>\n",
       "      <th>4</th>\n",
       "      <td>mdp.39015055066594</td>\n",
       "      <td>Stretton,Hesba</td>\n",
       "      <td>Stretton, Hesba</td>\n",
       "      <td>1832-1911.</td>\n",
       "      <td>0</td>\n",
       "      <td>1911</td>\n",
       "      <td>n</td>\n",
       "      <td></td>\n",
       "      <td></td>\n",
       "      <td>New York|Dodd, Mead &amp; co.|n.d.</td>\n",
       "      <td>...</td>\n",
       "      <td>122464</td>\n",
       "      <td>1</td>\n",
       "      <td>1</td>\n",
       "      <td>1</td>\n",
       "      <td>NaN</td>\n",
       "      <td>NaN</td>\n",
       "      <td>In prison &amp; out. | $c: By Hesba Stretton.</td>\n",
       "      <td>NaN</td>\n",
       "      <td>True</td>\n",
       "      <td>In prison &amp; out</td>\n",
       "    </tr>\n",
       "  </tbody>\n",
       "</table>\n",
       "<p>5 rows × 28 columns</p>\n",
       "</div>"
      ],
      "text/plain": [
       "                docid             oldauthor                author  authordate  \\\n",
       "0  mdp.39015031913893  Spencer, Louise Reid  Spencer, Louise Reid         NaN   \n",
       "1  mdp.39015003936864       Baker, Robert H       Baker, Robert H         NaN   \n",
       "2  mdp.39015068342305      Dickens, Charles      Dickens, Charles  1812-1870.   \n",
       "3  mdp.39015055066586       Stretton, Hesba       Stretton, Hesba  1832-1911.   \n",
       "4  mdp.39015055066594        Stretton,Hesba       Stretton, Hesba  1832-1911.   \n",
       "\n",
       "   inferreddate  latestcomp datetype startdate enddate  \\\n",
       "0             0        2100        |      ||||    ||||   \n",
       "1             0        2100        n                     \n",
       "2             0        1870        n                     \n",
       "3             0        1911        n                     \n",
       "4             0        1911        n                     \n",
       "\n",
       "                                      imprint          ...           recordid  \\\n",
       "0              Thomas Y. Crowell company|1945          ...               8744   \n",
       "1  Port Washington, N.Y.|Ashley Books|197-?].          ...              39757   \n",
       "2     New York|The American news company|n.d.          ...             119996   \n",
       "3              New York|Dodd, Mead & co.|n.d.          ...             122460   \n",
       "4              New York|Dodd, Mead & co.|n.d.          ...             122464   \n",
       "\n",
       "  instances allcopiesofwork copiesin25yrs enumcron volnum  \\\n",
       "0         1               1             1      NaN    NaN   \n",
       "1         1               1             1      NaN    NaN   \n",
       "2         1               1             1      NaN    NaN   \n",
       "3         1               1             1      NaN    NaN   \n",
       "4         1               1             1      NaN    NaN   \n",
       "\n",
       "                                               title parttitle  earlyedition  \\\n",
       "0     Guerrilla wife | $c: [by] Louise Reid Spencer.       NaN          True   \n",
       "1  The suburbs : | a novel / | $c: by Robert H. B...       NaN          True   \n",
       "2  Edwin Drood. | $c: By Charles Dickens. With il...       NaN          True   \n",
       "3                   Carola, | $c: by Hesba Stretton.       NaN          True   \n",
       "4          In prison & out. | $c: By Hesba Stretton.       NaN          True   \n",
       "\n",
       "              shorttitle  \n",
       "0         Guerrilla wife  \n",
       "1  The suburbs : a novel  \n",
       "2            Edwin Drood  \n",
       "3                 Carola  \n",
       "4        In prison & out  \n",
       "\n",
       "[5 rows x 28 columns]"
      ]
     },
     "execution_count": 3,
     "metadata": {},
     "output_type": "execute_result"
    }
   ],
   "source": [
    "meta = pd.read_csv('../noveltmmeta/workmeta.tsv', sep = '\\t', low_memory = False)\n",
    "meta.head()"
   ]
  },
  {
   "cell_type": "code",
   "execution_count": 4,
   "metadata": {},
   "outputs": [
    {
     "data": {
      "text/plain": [
       "(138137, 28)"
      ]
     },
     "execution_count": 4,
     "metadata": {},
     "output_type": "execute_result"
    }
   ],
   "source": [
    "meta.shape\n"
   ]
  },
  {
   "cell_type": "markdown",
   "metadata": {},
   "source": [
    "Let's only use volumes that are published near their author's lifespan."
   ]
  },
  {
   "cell_type": "code",
   "execution_count": 5,
   "metadata": {},
   "outputs": [
    {
     "data": {
      "text/plain": [
       "(129023, 28)"
      ]
     },
     "execution_count": 5,
     "metadata": {},
     "output_type": "execute_result"
    }
   ],
   "source": [
    "meta = meta.loc[meta.earlyedition == True, : ]\n",
    "meta.shape"
   ]
  },
  {
   "cell_type": "markdown",
   "metadata": {},
   "source": [
    "### Histogram by number of copies"
   ]
  },
  {
   "cell_type": "code",
   "execution_count": 8,
   "metadata": {},
   "outputs": [
    {
     "data": {
      "text/html": [
       "<div>\n",
       "<table border=\"1\" class=\"dataframe\">\n",
       "  <thead>\n",
       "    <tr style=\"text-align: right;\">\n",
       "      <th></th>\n",
       "      <th>docid</th>\n",
       "    </tr>\n",
       "    <tr>\n",
       "      <th>copiesin25yrs</th>\n",
       "      <th></th>\n",
       "    </tr>\n",
       "  </thead>\n",
       "  <tbody>\n",
       "    <tr>\n",
       "      <th>1</th>\n",
       "      <td>88077</td>\n",
       "    </tr>\n",
       "    <tr>\n",
       "      <th>2</th>\n",
       "      <td>23147</td>\n",
       "    </tr>\n",
       "    <tr>\n",
       "      <th>3</th>\n",
       "      <td>10290</td>\n",
       "    </tr>\n",
       "    <tr>\n",
       "      <th>4</th>\n",
       "      <td>3317</td>\n",
       "    </tr>\n",
       "    <tr>\n",
       "      <th>5</th>\n",
       "      <td>1598</td>\n",
       "    </tr>\n",
       "  </tbody>\n",
       "</table>\n",
       "</div>"
      ],
      "text/plain": [
       "               docid\n",
       "copiesin25yrs       \n",
       "1              88077\n",
       "2              23147\n",
       "3              10290\n",
       "4               3317\n",
       "5               1598"
      ]
     },
     "execution_count": 8,
     "metadata": {},
     "output_type": "execute_result"
    }
   ],
   "source": [
    "# To go through a pandas dataframe row by row, you can use the .iterrows() method.\n",
    "\n",
    "bycopies = meta.groupby('copiesin25yrs').agg({'docid': 'count'})\n",
    "bycopies.head()\n"
   ]
  },
  {
   "cell_type": "code",
   "execution_count": 13,
   "metadata": {},
   "outputs": [
    {
     "data": {
      "text/html": [
       "<div>\n",
       "<table border=\"1\" class=\"dataframe\">\n",
       "  <thead>\n",
       "    <tr style=\"text-align: right;\">\n",
       "      <th></th>\n",
       "      <th>docid</th>\n",
       "      <th>totalcopies</th>\n",
       "      <th>cumulative</th>\n",
       "    </tr>\n",
       "    <tr>\n",
       "      <th>copiesin25yrs</th>\n",
       "      <th></th>\n",
       "      <th></th>\n",
       "      <th></th>\n",
       "    </tr>\n",
       "  </thead>\n",
       "  <tbody>\n",
       "    <tr>\n",
       "      <th>1</th>\n",
       "      <td>88077</td>\n",
       "      <td>0.423297</td>\n",
       "      <td>0.423297</td>\n",
       "    </tr>\n",
       "    <tr>\n",
       "      <th>2</th>\n",
       "      <td>23147</td>\n",
       "      <td>0.222488</td>\n",
       "      <td>0.645785</td>\n",
       "    </tr>\n",
       "    <tr>\n",
       "      <th>3</th>\n",
       "      <td>10290</td>\n",
       "      <td>0.148361</td>\n",
       "      <td>0.794145</td>\n",
       "    </tr>\n",
       "    <tr>\n",
       "      <th>4</th>\n",
       "      <td>3317</td>\n",
       "      <td>0.063766</td>\n",
       "      <td>0.857911</td>\n",
       "    </tr>\n",
       "    <tr>\n",
       "      <th>5</th>\n",
       "      <td>1598</td>\n",
       "      <td>0.038400</td>\n",
       "      <td>0.896311</td>\n",
       "    </tr>\n",
       "    <tr>\n",
       "      <th>6</th>\n",
       "      <td>1048</td>\n",
       "      <td>0.030220</td>\n",
       "      <td>0.926531</td>\n",
       "    </tr>\n",
       "    <tr>\n",
       "      <th>7</th>\n",
       "      <td>466</td>\n",
       "      <td>0.015677</td>\n",
       "      <td>0.942208</td>\n",
       "    </tr>\n",
       "    <tr>\n",
       "      <th>8</th>\n",
       "      <td>308</td>\n",
       "      <td>0.011842</td>\n",
       "      <td>0.954050</td>\n",
       "    </tr>\n",
       "    <tr>\n",
       "      <th>9</th>\n",
       "      <td>210</td>\n",
       "      <td>0.009083</td>\n",
       "      <td>0.963133</td>\n",
       "    </tr>\n",
       "    <tr>\n",
       "      <th>10</th>\n",
       "      <td>138</td>\n",
       "      <td>0.006632</td>\n",
       "      <td>0.969766</td>\n",
       "    </tr>\n",
       "    <tr>\n",
       "      <th>11</th>\n",
       "      <td>93</td>\n",
       "      <td>0.004917</td>\n",
       "      <td>0.974682</td>\n",
       "    </tr>\n",
       "    <tr>\n",
       "      <th>12</th>\n",
       "      <td>96</td>\n",
       "      <td>0.005536</td>\n",
       "      <td>0.980219</td>\n",
       "    </tr>\n",
       "    <tr>\n",
       "      <th>13</th>\n",
       "      <td>51</td>\n",
       "      <td>0.003186</td>\n",
       "      <td>0.983405</td>\n",
       "    </tr>\n",
       "    <tr>\n",
       "      <th>14</th>\n",
       "      <td>33</td>\n",
       "      <td>0.002220</td>\n",
       "      <td>0.985625</td>\n",
       "    </tr>\n",
       "    <tr>\n",
       "      <th>15</th>\n",
       "      <td>26</td>\n",
       "      <td>0.001874</td>\n",
       "      <td>0.987500</td>\n",
       "    </tr>\n",
       "    <tr>\n",
       "      <th>16</th>\n",
       "      <td>31</td>\n",
       "      <td>0.002384</td>\n",
       "      <td>0.989883</td>\n",
       "    </tr>\n",
       "    <tr>\n",
       "      <th>17</th>\n",
       "      <td>3</td>\n",
       "      <td>0.000245</td>\n",
       "      <td>0.990129</td>\n",
       "    </tr>\n",
       "    <tr>\n",
       "      <th>18</th>\n",
       "      <td>16</td>\n",
       "      <td>0.001384</td>\n",
       "      <td>0.991513</td>\n",
       "    </tr>\n",
       "    <tr>\n",
       "      <th>19</th>\n",
       "      <td>8</td>\n",
       "      <td>0.000731</td>\n",
       "      <td>0.992243</td>\n",
       "    </tr>\n",
       "    <tr>\n",
       "      <th>20</th>\n",
       "      <td>23</td>\n",
       "      <td>0.002211</td>\n",
       "      <td>0.994454</td>\n",
       "    </tr>\n",
       "    <tr>\n",
       "      <th>21</th>\n",
       "      <td>7</td>\n",
       "      <td>0.000706</td>\n",
       "      <td>0.995160</td>\n",
       "    </tr>\n",
       "    <tr>\n",
       "      <th>22</th>\n",
       "      <td>3</td>\n",
       "      <td>0.000317</td>\n",
       "      <td>0.995478</td>\n",
       "    </tr>\n",
       "    <tr>\n",
       "      <th>23</th>\n",
       "      <td>4</td>\n",
       "      <td>0.000442</td>\n",
       "      <td>0.995920</td>\n",
       "    </tr>\n",
       "    <tr>\n",
       "      <th>24</th>\n",
       "      <td>6</td>\n",
       "      <td>0.000692</td>\n",
       "      <td>0.996612</td>\n",
       "    </tr>\n",
       "    <tr>\n",
       "      <th>25</th>\n",
       "      <td>4</td>\n",
       "      <td>0.000481</td>\n",
       "      <td>0.997092</td>\n",
       "    </tr>\n",
       "    <tr>\n",
       "      <th>26</th>\n",
       "      <td>7</td>\n",
       "      <td>0.000875</td>\n",
       "      <td>0.997967</td>\n",
       "    </tr>\n",
       "    <tr>\n",
       "      <th>27</th>\n",
       "      <td>1</td>\n",
       "      <td>0.000130</td>\n",
       "      <td>0.998097</td>\n",
       "    </tr>\n",
       "    <tr>\n",
       "      <th>28</th>\n",
       "      <td>5</td>\n",
       "      <td>0.000673</td>\n",
       "      <td>0.998770</td>\n",
       "    </tr>\n",
       "    <tr>\n",
       "      <th>29</th>\n",
       "      <td>1</td>\n",
       "      <td>0.000139</td>\n",
       "      <td>0.998909</td>\n",
       "    </tr>\n",
       "    <tr>\n",
       "      <th>30</th>\n",
       "      <td>2</td>\n",
       "      <td>0.000288</td>\n",
       "      <td>0.999197</td>\n",
       "    </tr>\n",
       "    <tr>\n",
       "      <th>32</th>\n",
       "      <td>1</td>\n",
       "      <td>0.000154</td>\n",
       "      <td>0.999351</td>\n",
       "    </tr>\n",
       "    <tr>\n",
       "      <th>37</th>\n",
       "      <td>1</td>\n",
       "      <td>0.000178</td>\n",
       "      <td>0.999529</td>\n",
       "    </tr>\n",
       "    <tr>\n",
       "      <th>49</th>\n",
       "      <td>2</td>\n",
       "      <td>0.000471</td>\n",
       "      <td>1.000000</td>\n",
       "    </tr>\n",
       "  </tbody>\n",
       "</table>\n",
       "</div>"
      ],
      "text/plain": [
       "               docid  totalcopies  cumulative\n",
       "copiesin25yrs                                \n",
       "1              88077     0.423297    0.423297\n",
       "2              23147     0.222488    0.645785\n",
       "3              10290     0.148361    0.794145\n",
       "4               3317     0.063766    0.857911\n",
       "5               1598     0.038400    0.896311\n",
       "6               1048     0.030220    0.926531\n",
       "7                466     0.015677    0.942208\n",
       "8                308     0.011842    0.954050\n",
       "9                210     0.009083    0.963133\n",
       "10               138     0.006632    0.969766\n",
       "11                93     0.004917    0.974682\n",
       "12                96     0.005536    0.980219\n",
       "13                51     0.003186    0.983405\n",
       "14                33     0.002220    0.985625\n",
       "15                26     0.001874    0.987500\n",
       "16                31     0.002384    0.989883\n",
       "17                 3     0.000245    0.990129\n",
       "18                16     0.001384    0.991513\n",
       "19                 8     0.000731    0.992243\n",
       "20                23     0.002211    0.994454\n",
       "21                 7     0.000706    0.995160\n",
       "22                 3     0.000317    0.995478\n",
       "23                 4     0.000442    0.995920\n",
       "24                 6     0.000692    0.996612\n",
       "25                 4     0.000481    0.997092\n",
       "26                 7     0.000875    0.997967\n",
       "27                 1     0.000130    0.998097\n",
       "28                 5     0.000673    0.998770\n",
       "29                 1     0.000139    0.998909\n",
       "30                 2     0.000288    0.999197\n",
       "32                 1     0.000154    0.999351\n",
       "37                 1     0.000178    0.999529\n",
       "49                 2     0.000471    1.000000"
      ]
     },
     "execution_count": 13,
     "metadata": {},
     "output_type": "execute_result"
    }
   ],
   "source": [
    "totalcopies = []\n",
    "for idx, row in bycopies.iterrows():\n",
    "    copies = int(idx) * row['docid']\n",
    "    totalcopies.append(copies)\n",
    "totalcopies = np.array(totalcopies) / np.sum(totalcopies)\n",
    "bycopies = bycopies.assign(totalcopies = totalcopies)\n",
    "\n",
    "cumulativeprob = []\n",
    "cumulate = 0\n",
    "for idx, row in bycopies.iterrows():\n",
    "    cumulate += row['totalcopies']\n",
    "    cumulativeprob.append(cumulate)\n",
    "    \n",
    "bycopies = bycopies.assign(cumulative = cumulativeprob)\n",
    "bycopies"
   ]
  },
  {
   "cell_type": "code",
   "execution_count": 14,
   "metadata": {},
   "outputs": [
    {
     "data": {
      "text/plain": [
       "(2730, 28)"
      ]
     },
     "execution_count": 14,
     "metadata": {},
     "output_type": "execute_result"
    }
   ],
   "source": [
    "first = pd.read_csv('firstsample.tsv', sep = '\\t')\n",
    "first.shape"
   ]
  },
  {
   "cell_type": "code",
   "execution_count": 15,
   "metadata": {},
   "outputs": [
    {
     "data": {
      "text/html": [
       "<div>\n",
       "<table border=\"1\" class=\"dataframe\">\n",
       "  <thead>\n",
       "    <tr style=\"text-align: right;\">\n",
       "      <th></th>\n",
       "      <th>docid</th>\n",
       "    </tr>\n",
       "    <tr>\n",
       "      <th>copiesin25yrs</th>\n",
       "      <th></th>\n",
       "    </tr>\n",
       "  </thead>\n",
       "  <tbody>\n",
       "    <tr>\n",
       "      <th>1</th>\n",
       "      <td>1655</td>\n",
       "    </tr>\n",
       "    <tr>\n",
       "      <th>2</th>\n",
       "      <td>489</td>\n",
       "    </tr>\n",
       "    <tr>\n",
       "      <th>3</th>\n",
       "      <td>330</td>\n",
       "    </tr>\n",
       "    <tr>\n",
       "      <th>4</th>\n",
       "      <td>126</td>\n",
       "    </tr>\n",
       "    <tr>\n",
       "      <th>5</th>\n",
       "      <td>34</td>\n",
       "    </tr>\n",
       "    <tr>\n",
       "      <th>6</th>\n",
       "      <td>33</td>\n",
       "    </tr>\n",
       "    <tr>\n",
       "      <th>7</th>\n",
       "      <td>28</td>\n",
       "    </tr>\n",
       "    <tr>\n",
       "      <th>8</th>\n",
       "      <td>9</td>\n",
       "    </tr>\n",
       "    <tr>\n",
       "      <th>9</th>\n",
       "      <td>6</td>\n",
       "    </tr>\n",
       "    <tr>\n",
       "      <th>10</th>\n",
       "      <td>5</td>\n",
       "    </tr>\n",
       "    <tr>\n",
       "      <th>11</th>\n",
       "      <td>4</td>\n",
       "    </tr>\n",
       "    <tr>\n",
       "      <th>12</th>\n",
       "      <td>5</td>\n",
       "    </tr>\n",
       "    <tr>\n",
       "      <th>13</th>\n",
       "      <td>4</td>\n",
       "    </tr>\n",
       "    <tr>\n",
       "      <th>15</th>\n",
       "      <td>1</td>\n",
       "    </tr>\n",
       "    <tr>\n",
       "      <th>16</th>\n",
       "      <td>1</td>\n",
       "    </tr>\n",
       "  </tbody>\n",
       "</table>\n",
       "</div>"
      ],
      "text/plain": [
       "               docid\n",
       "copiesin25yrs       \n",
       "1               1655\n",
       "2                489\n",
       "3                330\n",
       "4                126\n",
       "5                 34\n",
       "6                 33\n",
       "7                 28\n",
       "8                  9\n",
       "9                  6\n",
       "10                 5\n",
       "11                 4\n",
       "12                 5\n",
       "13                 4\n",
       "15                 1\n",
       "16                 1"
      ]
     },
     "execution_count": 15,
     "metadata": {},
     "output_type": "execute_result"
    }
   ],
   "source": [
    "firstbycopies = first.groupby('copiesin25yrs').agg({'docid': 'count'})\n",
    "firstbycopies"
   ]
  },
  {
   "cell_type": "code",
   "execution_count": 27,
   "metadata": {},
   "outputs": [
    {
     "name": "stdout",
     "output_type": "stream",
     "text": [
      "1 1159\n",
      "2 598\n",
      "3 401\n",
      "4 174\n",
      "5 99\n",
      "6 84\n",
      "7 50\n",
      "8 35\n",
      "9 25\n",
      "10 20\n",
      "11 11\n",
      "12 18\n",
      "13 8\n",
      "14 5\n",
      "15 6\n",
      "16 7\n",
      "17 0\n",
      "18 3\n",
      "19 5\n",
      "20 10\n",
      "21 2\n",
      "22 1\n",
      "23 0\n",
      "24 2\n",
      "25 0\n",
      "26 2\n",
      "27 0\n",
      "28 2\n",
      "29 0\n"
     ]
    }
   ],
   "source": [
    "copycounts = []\n",
    "cumulist = list(bycopies.cumulative)\n",
    "for i in range(0, 2730):\n",
    "    prob = random.uniform(0, 1)\n",
    "    n = next(x[0] for x in enumerate(cumulist) if x[1] > prob)\n",
    "    copycounts.append(n + 1)\n",
    "\n",
    "xs = []\n",
    "ys = []\n",
    "proportional = Counter(copycounts)\n",
    "for n in range(1, 30):\n",
    "    print(n, proportional[n])\n",
    "    xs.append(n)\n",
    "    ys.append(proportional[n])"
   ]
  },
  {
   "cell_type": "code",
   "execution_count": 19,
   "metadata": {},
   "outputs": [],
   "source": [
    "from matplotlib import pyplot as plt\n",
    "%matplotlib inline"
   ]
  },
  {
   "cell_type": "code",
   "execution_count": 39,
   "metadata": {},
   "outputs": [],
   "source": [
    "from pylab import rcParams\n",
    "rcParams['figure.figsize'] = 9, 6"
   ]
  },
  {
   "cell_type": "code",
   "execution_count": 40,
   "metadata": {},
   "outputs": [
    {
     "data": {
      "image/png": "[encoded data removed]",
      "text/plain": [
       "<matplotlib.figure.Figure at 0x13196b048>"
      ]
     },
     "metadata": {},
     "output_type": "display_data"
    }
   ],
   "source": [
    "plt.plot([x+1 for x in range(15)], firstbycopies['docid'])\n",
    "plt.plot(xs[0:15], ys[0:15], color = 'r')\n",
    "plt.show()"
   ]
  },
  {
   "cell_type": "code",
   "execution_count": 33,
   "metadata": {},
   "outputs": [
    {
     "name": "stdout",
     "output_type": "stream",
     "text": [
      "2 109\n",
      "3 71\n",
      "4 48\n",
      "5 65\n",
      "6 51\n",
      "7 22\n",
      "8 26\n",
      "9 19\n",
      "10 15\n",
      "11 7\n",
      "12 13\n",
      "13 4\n",
      "14 5\n",
      "15 5\n",
      "16 6\n",
      "17 0\n",
      "18 3\n",
      "19 5\n",
      "20 10\n"
     ]
    }
   ],
   "source": [
    "needed = dict()\n",
    "for i in range(2, 21):\n",
    "    if i in firstbycopies.index:\n",
    "        needed[i] = ys[i-1] - firstbycopies.loc[i, 'docid']\n",
    "    else:\n",
    "        needed[i] = ys[i-1]\n",
    "\n",
    "for i in range(2, 21):\n",
    "    print(i, needed[i])"
   ]
  },
  {
   "cell_type": "code",
   "execution_count": 34,
   "metadata": {},
   "outputs": [
    {
     "data": {
      "text/plain": [
       "126293"
      ]
     },
     "execution_count": 34,
     "metadata": {},
     "output_type": "execute_result"
    }
   ],
   "source": [
    "remaining = set(meta.docid) - set(first.docid)\n",
    "len(remaining)"
   ]
  },
  {
   "cell_type": "code",
   "execution_count": 35,
   "metadata": {},
   "outputs": [
    {
     "data": {
      "text/plain": [
       "(126293, 27)"
      ]
     },
     "execution_count": 35,
     "metadata": {},
     "output_type": "execute_result"
    }
   ],
   "source": [
    "meta.set_index('docid', inplace = True)\n",
    "left = meta.loc[remaining, : ]\n",
    "left.shape"
   ]
  },
  {
   "cell_type": "code",
   "execution_count": 36,
   "metadata": {},
   "outputs": [],
   "source": [
    "def extract_decade(date):\n",
    "    decade = 10* (date // 10)\n",
    "    return decade\n",
    "\n",
    "left = left.assign(dec = left.inferreddate.map(extract_decade))"
   ]
  },
  {
   "cell_type": "markdown",
   "metadata": {},
   "source": [
    "#### A little visualization\n",
    "\n",
    "What's the date distribution of these volumes, by the way?\n",
    "\n",
    "We can find out by counting the number of volumes in each \"file drawer.\"\n",
    "\n",
    "First we'll import a modules that's useful for plotting graphs. Then we'll go year by year from 1800 to 2009. We'll create a list of x coordinates that is simply the list of years, and a list of y coordinates that is the number of volumes in that year. The we just scatter plot (x, y)."
   ]
  },
  {
   "cell_type": "code",
   "execution_count": 12,
   "metadata": {},
   "outputs": [],
   "source": [
    "from matplotlib import pyplot as plt\n",
    "%matplotlib inline"
   ]
  },
  {
   "cell_type": "code",
   "execution_count": 13,
   "metadata": {},
   "outputs": [
    {
     "data": {
      "image/png": "[encoded data removed]",
      "text/plain": [
       "<matplotlib.figure.Figure at 0x106fba2e8>"
      ]
     },
     "metadata": {},
     "output_type": "display_data"
    }
   ],
   "source": [
    "x = []\n",
    "y = []\n",
    "for year in range(1800, 2010):\n",
    "    x.append(year)\n",
    "    y.append(len(bydate[year]))\n",
    "plt.scatter(x, y)\n",
    "plt.show()"
   ]
  },
  {
   "cell_type": "markdown",
   "metadata": {},
   "source": [
    "You can see that the advent of copyright at 1923 makes a big difference in the size of the collection. I'm not exactly sure why; our collection is not limited to public-domain works. But possibly libraries have been less enthusiastic about digitizing fiction when it can't be made publicly available.\n",
    "\n",
    "We're going to flatten that out and select an evenly-distributed sample."
   ]
  },
  {
   "cell_type": "markdown",
   "metadata": {},
   "source": [
    "#### okay, let's finally select volumes\n",
    "\n",
    "I'm going to go year by year. From the file drawer for each year (```bydate[year]```) I'm going to draw thirteen books.\n",
    "\n",
    "Then I'll add them to a constantly-growing list called ```selected.```\n",
    "\n",
    "Notice how this echoes the counting strategy. Create a counter outside the loop; set it to zero; then loop through a sequence and add one to the counter ... Here we're extending a list instead of adding to a counter."
   ]
  },
  {
   "cell_type": "code",
   "execution_count": 14,
   "metadata": {},
   "outputs": [
    {
     "name": "stdout",
     "output_type": "stream",
     "text": [
      "2730\n"
     ]
    }
   ],
   "source": [
    "selected = list()\n",
    "\n",
    "for yr in range(1800, 2010):\n",
    "    selected.extend(random.sample(bydate[yr], 13))\n",
    "\n",
    "print(len(selected))"
   ]
  },
  {
   "cell_type": "markdown",
   "metadata": {},
   "source": [
    "Once we have a list of document ids we want to select, we can use them to extract the relevant rows from the table ```meta.```"
   ]
  },
  {
   "cell_type": "code",
   "execution_count": 15,
   "metadata": {},
   "outputs": [
    {
     "data": {
      "text/plain": [
       "(2730, 27)"
      ]
     },
     "execution_count": 15,
     "metadata": {},
     "output_type": "execute_result"
    }
   ],
   "source": [
    "# To create a table limited to those document ids, we can just use the \"docid\"\n",
    "# column to *index* meta\n",
    "\n",
    "meta.set_index('docid', inplace = True)\n",
    "\n",
    "# and then select those rows\n",
    "\n",
    "our_meta = meta.loc[selected, : ]\n",
    "our_meta.shape"
   ]
  },
  {
   "cell_type": "markdown",
   "metadata": {},
   "source": [
    "Now actually write that to disk."
   ]
  },
  {
   "cell_type": "code",
   "execution_count": 16,
   "metadata": {},
   "outputs": [],
   "source": [
    "our_meta.to_csv('firstsample.tsv', sep = '\\t')"
   ]
  },
  {
   "cell_type": "markdown",
   "metadata": {},
   "source": [
    "But in exploring this data with you, I quickly found that 28 full-width columns are overwhelming. So let's select a smaller set of twelve columns, and truncate some of them at 25 or 50 characters."
   ]
  },
  {
   "cell_type": "code",
   "execution_count": 47,
   "metadata": {},
   "outputs": [
    {
     "name": "stdout",
     "output_type": "stream",
     "text": [
      "(2730, 18)\n"
     ]
    },
    {
     "data": {
      "text/html": [
       "<div>\n",
       "<table border=\"1\" class=\"dataframe\">\n",
       "  <thead>\n",
       "    <tr style=\"text-align: right;\">\n",
       "      <th></th>\n",
       "      <th>docid</th>\n",
       "      <th>author</th>\n",
       "      <th>realname</th>\n",
       "      <th>pseudonym</th>\n",
       "      <th>gender</th>\n",
       "      <th>nationality</th>\n",
       "      <th>authordate</th>\n",
       "      <th>inferreddate</th>\n",
       "      <th>firstpub</th>\n",
       "      <th>latestcomp</th>\n",
       "      <th>allcopiesofwork</th>\n",
       "      <th>copiesin25yrs</th>\n",
       "      <th>enumcron</th>\n",
       "      <th>imprint</th>\n",
       "      <th>genres</th>\n",
       "      <th>subjects</th>\n",
       "      <th>category</th>\n",
       "      <th>shorttitle</th>\n",
       "    </tr>\n",
       "  </thead>\n",
       "  <tbody>\n",
       "    <tr>\n",
       "      <th>0</th>\n",
       "      <td>nyp.33433074911573</td>\n",
       "      <td>Smith, Charlotte Turner</td>\n",
       "      <td></td>\n",
       "      <td></td>\n",
       "      <td></td>\n",
       "      <td></td>\n",
       "      <td>1749-1806.</td>\n",
       "      <td>1800</td>\n",
       "      <td></td>\n",
       "      <td>1800</td>\n",
       "      <td>1</td>\n",
       "      <td>1</td>\n",
       "      <td>v. 4</td>\n",
       "      <td>London;Printed by and for</td>\n",
       "      <td>Fiction</td>\n",
       "      <td>English fiction</td>\n",
       "      <td></td>\n",
       "      <td>The Hungarian</td>\n",
       "    </tr>\n",
       "    <tr>\n",
       "      <th>1</th>\n",
       "      <td>nyp.33433074911581</td>\n",
       "      <td>Smith, Charlotte Turner</td>\n",
       "      <td></td>\n",
       "      <td></td>\n",
       "      <td></td>\n",
       "      <td></td>\n",
       "      <td>1749-1806.</td>\n",
       "      <td>1800</td>\n",
       "      <td></td>\n",
       "      <td>1800</td>\n",
       "      <td>1</td>\n",
       "      <td>1</td>\n",
       "      <td>v. 5</td>\n",
       "      <td>London;Printed by and for</td>\n",
       "      <td>Fiction</td>\n",
       "      <td>English fiction</td>\n",
       "      <td></td>\n",
       "      <td>The Hungarian (con't.) Leonora.  Guilelmine de...</td>\n",
       "    </tr>\n",
       "    <tr>\n",
       "      <th>2</th>\n",
       "      <td>njp.32101037604772</td>\n",
       "      <td>Du Bois, Edward</td>\n",
       "      <td></td>\n",
       "      <td></td>\n",
       "      <td></td>\n",
       "      <td></td>\n",
       "      <td>1774-1850.</td>\n",
       "      <td>1800</td>\n",
       "      <td></td>\n",
       "      <td>1800</td>\n",
       "      <td>1</td>\n",
       "      <td>1</td>\n",
       "      <td>NaN</td>\n",
       "      <td>London;Printed for J. Wri</td>\n",
       "      <td>Fiction</td>\n",
       "      <td>Godwin, William|1756-1836</td>\n",
       "      <td></td>\n",
       "      <td>St. Godwin: a tale of the sixteenth, seventeen...</td>\n",
       "    </tr>\n",
       "    <tr>\n",
       "      <th>3</th>\n",
       "      <td>hvd.hn2he3</td>\n",
       "      <td>Kendall, Edward Augustus</td>\n",
       "      <td></td>\n",
       "      <td></td>\n",
       "      <td></td>\n",
       "      <td></td>\n",
       "      <td>1776?-1842.</td>\n",
       "      <td>1800</td>\n",
       "      <td></td>\n",
       "      <td>1800</td>\n",
       "      <td>1</td>\n",
       "      <td>1</td>\n",
       "      <td>NaN</td>\n",
       "      <td>London;Printed for E. New</td>\n",
       "      <td>Juvenile audience|Fiction</td>\n",
       "      <td>Conduct of life|Children'</td>\n",
       "      <td></td>\n",
       "      <td>The stories of Senex, or, Little histories of ...</td>\n",
       "    </tr>\n",
       "    <tr>\n",
       "      <th>4</th>\n",
       "      <td>hvd.hn2he5</td>\n",
       "      <td>NaN</td>\n",
       "      <td></td>\n",
       "      <td></td>\n",
       "      <td></td>\n",
       "      <td></td>\n",
       "      <td>NaN</td>\n",
       "      <td>1800</td>\n",
       "      <td></td>\n",
       "      <td>1800</td>\n",
       "      <td>1</td>\n",
       "      <td>1</td>\n",
       "      <td>NaN</td>\n",
       "      <td>London;Printed for Vernor</td>\n",
       "      <td>Fiction</td>\n",
       "      <td></td>\n",
       "      <td></td>\n",
       "      <td>The Governess, or, Evening amusements at a boa...</td>\n",
       "    </tr>\n",
       "  </tbody>\n",
       "</table>\n",
       "</div>"
      ],
      "text/plain": [
       "                docid                    author realname pseudonym gender  \\\n",
       "0  nyp.33433074911573   Smith, Charlotte Turner                             \n",
       "1  nyp.33433074911581   Smith, Charlotte Turner                             \n",
       "2  njp.32101037604772           Du Bois, Edward                             \n",
       "3          hvd.hn2he3  Kendall, Edward Augustus                             \n",
       "4          hvd.hn2he5                       NaN                             \n",
       "\n",
       "  nationality   authordate  inferreddate firstpub  latestcomp  \\\n",
       "0               1749-1806.          1800                 1800   \n",
       "1               1749-1806.          1800                 1800   \n",
       "2               1774-1850.          1800                 1800   \n",
       "3              1776?-1842.          1800                 1800   \n",
       "4                      NaN          1800                 1800   \n",
       "\n",
       "   allcopiesofwork  copiesin25yrs enumcron                    imprint  \\\n",
       "0                1              1     v. 4  London;Printed by and for   \n",
       "1                1              1     v. 5  London;Printed by and for   \n",
       "2                1              1      NaN  London;Printed for J. Wri   \n",
       "3                1              1      NaN  London;Printed for E. New   \n",
       "4                1              1      NaN  London;Printed for Vernor   \n",
       "\n",
       "                      genres                   subjects category  \\\n",
       "0                    Fiction            English fiction            \n",
       "1                    Fiction            English fiction            \n",
       "2                    Fiction  Godwin, William|1756-1836            \n",
       "3  Juvenile audience|Fiction  Conduct of life|Children'            \n",
       "4                    Fiction                                       \n",
       "\n",
       "                                          shorttitle  \n",
       "0                                      The Hungarian  \n",
       "1  The Hungarian (con't.) Leonora.  Guilelmine de...  \n",
       "2  St. Godwin: a tale of the sixteenth, seventeen...  \n",
       "3  The stories of Senex, or, Little histories of ...  \n",
       "4  The Governess, or, Evening amusements at a boa...  "
      ]
     },
     "execution_count": 47,
     "metadata": {},
     "output_type": "execute_result"
    }
   ],
   "source": [
    "def truncate25(afield):\n",
    "    if pd.isnull(afield):\n",
    "        return ''\n",
    "    elif len(afield) <= 25:\n",
    "        return afield\n",
    "    else:\n",
    "        return afield[0:25]\n",
    "\n",
    "def shrinkframe(indf):\n",
    "    df = indf.copy()\n",
    "    df.reset_index(inplace = True)\n",
    "    newdf = df[['docid', 'author', 'authordate', 'inferreddate', 'latestcomp', 'allcopiesofwork', 'copiesin25yrs', 'enumcron']]\n",
    "    newdf = newdf.assign(imprint = df.imprint.map(truncate25))\n",
    "    newdf = newdf.assign(genres = df.genres.map(truncate25))\n",
    "    newdf = newdf.assign(subjects = df.subjects.map(truncate25))\n",
    "    newdf = newdf.assign(shorttitle = df.shorttitle)\n",
    "    newdf = newdf.assign(realname = '')\n",
    "    newdf = newdf.assign(pseudonym = '')\n",
    "    newdf = newdf.assign(category = '')\n",
    "    newdf = newdf.assign(firstpub = '')\n",
    "    newdf = newdf.assign(realname = '')\n",
    "    newdf = newdf.assign(gender = '')\n",
    "    newdf = newdf.assign(nationality = '')\n",
    "    newdf = newdf[['docid', 'author', 'realname', 'pseudonym', 'gender', 'nationality', 'authordate', \n",
    "                   'inferreddate', 'firstpub', 'latestcomp', 'allcopiesofwork', 'copiesin25yrs',\n",
    "                   'enumcron', 'imprint', 'genres', 'subjects', 'category', 'shorttitle']]\n",
    "    \n",
    "    return newdf\n",
    "\n",
    "shrunk = shrinkframe(our_meta)\n",
    "print(shrunk.shape)\n",
    "shrunk.head()"
   ]
  },
  {
   "cell_type": "markdown",
   "metadata": {},
   "source": [
    "Now we need to divide this dataframe into three parts for the three of us. I'm giving 1200 rows to both of you, and taking 330 rows for myself as a sample, so I know what kind of problems you're encountering.\n",
    "\n",
    "#### divide in three parts\n",
    "\n",
    "We start by shuffling the index of our_meta, which is just a numeric index right now."
   ]
  },
  {
   "cell_type": "code",
   "execution_count": 37,
   "metadata": {},
   "outputs": [
    {
     "data": {
      "text/plain": [
       "[2230,\n",
       " 241,\n",
       " 61,\n",
       " 1823,\n",
       " 559,\n",
       " 1494,\n",
       " 344,\n",
       " 994,\n",
       " 72,\n",
       " 1604,\n",
       " 713,\n",
       " 29,\n",
       " 721,\n",
       " 2311,\n",
       " 2006,\n",
       " 1244,\n",
       " 506,\n",
       " 1890,\n",
       " 1412,\n",
       " 1582]"
      ]
     },
     "execution_count": 37,
     "metadata": {},
     "output_type": "execute_result"
    }
   ],
   "source": [
    "indices = our_meta.index.tolist()\n",
    "random.shuffle(indices)\n",
    "indices[0:20]"
   ]
  },
  {
   "cell_type": "markdown",
   "metadata": {},
   "source": [
    "Then divide that random sequence into chunks like so:"
   ]
  },
  {
   "cell_type": "code",
   "execution_count": 38,
   "metadata": {},
   "outputs": [],
   "source": [
    "forjessica = indices[0: 1200]\n",
    "forpatrick = indices[1200: 2400]\n",
    "forted = indices[2400 : ]"
   ]
  },
  {
   "cell_type": "code",
   "execution_count": 48,
   "metadata": {},
   "outputs": [],
   "source": [
    "teddf = shrinkframe(our_meta.loc[forted, ])\n",
    "teddf.to_csv('ted.tsv', sep = '\\t', index = False)"
   ]
  },
  {
   "cell_type": "code",
   "execution_count": 49,
   "metadata": {},
   "outputs": [],
   "source": [
    "jessdf = shrinkframe(our_meta.loc[forjessica, ])\n",
    "jessdf.to_csv('jessica.tsv', sep = '\\t', index = False)"
   ]
  },
  {
   "cell_type": "code",
   "execution_count": 50,
   "metadata": {},
   "outputs": [],
   "source": [
    "patdf = shrinkframe(our_meta.loc[forpatrick, ])\n",
    "patdf.to_csv('patrick.tsv', sep = '\\t', index = False)"
   ]
  },
  {
   "cell_type": "markdown",
   "metadata": {},
   "source": [
    "### Sanity checks"
   ]
  },
  {
   "cell_type": "code",
   "execution_count": 51,
   "metadata": {},
   "outputs": [
    {
     "data": {
      "image/png": "[encoded data removed]",
      "text/plain": [
       "<matplotlib.figure.Figure at 0x1315409e8>"
      ]
     },
     "metadata": {},
     "output_type": "display_data"
    }
   ],
   "source": [
    "plt.hist(our_meta.inferreddate)\n",
    "plt.show()"
   ]
  },
  {
   "cell_type": "markdown",
   "metadata": {},
   "source": [
    "Good. even distribution across time"
   ]
  },
  {
   "cell_type": "code",
   "execution_count": 52,
   "metadata": {},
   "outputs": [
    {
     "data": {
      "text/plain": [
       "2009"
      ]
     },
     "execution_count": 52,
     "metadata": {},
     "output_type": "execute_result"
    }
   ],
   "source": [
    "max(our_meta.inferreddate)"
   ]
  },
  {
   "cell_type": "code",
   "execution_count": 53,
   "metadata": {},
   "outputs": [
    {
     "data": {
      "text/plain": [
       "1800"
      ]
     },
     "execution_count": 53,
     "metadata": {},
     "output_type": "execute_result"
    }
   ],
   "source": [
    "min(our_meta.inferreddate)"
   ]
  },
  {
   "cell_type": "code",
   "execution_count": null,
   "metadata": {},
   "outputs": [],
   "source": []
  }
 ],
 "metadata": {
  "anaconda-cloud": {},
  "kernelspec": {
   "display_name": "Python 3",
   "language": "python",
   "name": "python3"
  },
  "language_info": {
   "codemirror_mode": {
    "name": "ipython",
    "version": 3
   },
   "file_extension": ".py",
   "mimetype": "text/x-python",
   "name": "python",
   "nbconvert_exporter": "python",
   "pygments_lexer": "ipython3",
   "version": "3.5.2"
  }
 },
 "nbformat": 4,
 "nbformat_minor": 1
}
