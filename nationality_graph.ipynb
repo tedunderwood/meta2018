{
 "cells": [
  {
   "cell_type": "markdown",
   "metadata": {},
   "source": [
    "# Graphing nationality\n",
    "\n",
    "Our goal here is\n",
    "\n",
    "1. To count up the books ascribed to different nationalities.\n",
    "\n",
    "2. To graph the uk proportion over time.\n",
    "\n",
    "First let's import modules you need."
   ]
  },
  {
   "cell_type": "code",
   "execution_count": 2,
   "metadata": {
    "collapsed": true
   },
   "outputs": [],
   "source": [
    "# familiar pandas\n",
    "import pandas as pd\n",
    "\n",
    "# we'll need this for visualization\n",
    "from matplotlib import pyplot as plt\n",
    "\n",
    "# you won't need to say this if you're doing it in spyder\n",
    "%matplotlib inline"
   ]
  },
  {
   "cell_type": "markdown",
   "metadata": {},
   "source": [
    "## read in the data\n",
    "\n",
    "Right now we'll just use Patrick's data; we can add Jessica's as it's available.\n"
   ]
  },
  {
   "cell_type": "code",
   "execution_count": 11,
   "metadata": {
    "collapsed": true
   },
   "outputs": [],
   "source": [
    "# I use df as the variable name because it's a\n",
    "# pandas DataFrame.\n",
    "\n",
    "df = pd.read_csv('patrick.tsv', sep = '\\t')"
   ]
  },
  {
   "cell_type": "code",
   "execution_count": 12,
   "metadata": {
    "collapsed": false
   },
   "outputs": [
    {
     "data": {
      "text/html": [
       "<div>\n",
       "<table border=\"1\" class=\"dataframe\">\n",
       "  <thead>\n",
       "    <tr style=\"text-align: right;\">\n",
       "      <th></th>\n",
       "      <th>docid</th>\n",
       "      <th>author</th>\n",
       "      <th>realname</th>\n",
       "      <th>pseudonym</th>\n",
       "      <th>gender</th>\n",
       "      <th>nationality</th>\n",
       "      <th>authordate</th>\n",
       "      <th>inferreddate</th>\n",
       "      <th>firstpub</th>\n",
       "      <th>latestcomp</th>\n",
       "      <th>allcopiesofwork</th>\n",
       "      <th>copiesin25yrs</th>\n",
       "      <th>enumcron</th>\n",
       "      <th>imprint</th>\n",
       "      <th>genres</th>\n",
       "      <th>subjects</th>\n",
       "      <th>category</th>\n",
       "      <th>shorttitle</th>\n",
       "    </tr>\n",
       "  </thead>\n",
       "  <tbody>\n",
       "    <tr>\n",
       "      <th>0</th>\n",
       "      <td>nyp.33433076025596</td>\n",
       "      <td>M'Henry, James</td>\n",
       "      <td>McHenry, James</td>\n",
       "      <td>NaN</td>\n",
       "      <td>m</td>\n",
       "      <td>us</td>\n",
       "      <td>1785-1845.</td>\n",
       "      <td>1848</td>\n",
       "      <td>1823.0</td>\n",
       "      <td>1845</td>\n",
       "      <td>1</td>\n",
       "      <td>1</td>\n",
       "      <td>v. 1-2</td>\n",
       "      <td>Pittsburgh;M. P. Morse;18</td>\n",
       "      <td>NaN</td>\n",
       "      <td>1732-1799|Fiction|Washing</td>\n",
       "      <td>novel</td>\n",
       "      <td>The wilderness : or, Braddock's times; A tale ...</td>\n",
       "    </tr>\n",
       "    <tr>\n",
       "      <th>1</th>\n",
       "      <td>wu.89087902169</td>\n",
       "      <td>Applin, Arthur</td>\n",
       "      <td>NaN</td>\n",
       "      <td>Smith, Julian</td>\n",
       "      <td>m</td>\n",
       "      <td>uk</td>\n",
       "      <td>1883-</td>\n",
       "      <td>1929</td>\n",
       "      <td>NaN</td>\n",
       "      <td>1929</td>\n",
       "      <td>1</td>\n",
       "      <td>1</td>\n",
       "      <td>NaN</td>\n",
       "      <td>New York|H. Liveright|192</td>\n",
       "      <td>NotFiction</td>\n",
       "      <td>NaN</td>\n",
       "      <td>novel</td>\n",
       "      <td>The chronicles of a gigolo</td>\n",
       "    </tr>\n",
       "    <tr>\n",
       "      <th>2</th>\n",
       "      <td>uc1.$b323629</td>\n",
       "      <td>March, William</td>\n",
       "      <td>NaN</td>\n",
       "      <td>NaN</td>\n",
       "      <td>m</td>\n",
       "      <td>us</td>\n",
       "      <td>1893-1954.</td>\n",
       "      <td>1939</td>\n",
       "      <td>NaN</td>\n",
       "      <td>1939</td>\n",
       "      <td>2</td>\n",
       "      <td>2</td>\n",
       "      <td>NaN</td>\n",
       "      <td>Boston|Little, Brown and</td>\n",
       "      <td>NotFiction</td>\n",
       "      <td>NaN</td>\n",
       "      <td>shortstories</td>\n",
       "      <td>Some like them short</td>\n",
       "    </tr>\n",
       "    <tr>\n",
       "      <th>3</th>\n",
       "      <td>uc1.$b318317</td>\n",
       "      <td>Rosny, J. H., aÃ®nÃ©, pseud. of J. H. BoÃ«x</td>\n",
       "      <td>Boex, Joseph Henri Honoré</td>\n",
       "      <td>Rosny aîné</td>\n",
       "      <td>m</td>\n",
       "      <td>fr</td>\n",
       "      <td>1856-1940.</td>\n",
       "      <td>1924</td>\n",
       "      <td>NaN</td>\n",
       "      <td>1924</td>\n",
       "      <td>1</td>\n",
       "      <td>1</td>\n",
       "      <td>NaN</td>\n",
       "      <td>New York|R. M. McBride|19</td>\n",
       "      <td>NotFiction</td>\n",
       "      <td>NaN</td>\n",
       "      <td>novel</td>\n",
       "      <td>The giant cat; or, The quest of Aoun and Zouhr</td>\n",
       "    </tr>\n",
       "    <tr>\n",
       "      <th>4</th>\n",
       "      <td>mdp.39015005144137</td>\n",
       "      <td>von Strassburg, Gottfried</td>\n",
       "      <td>NaN</td>\n",
       "      <td>NaN</td>\n",
       "      <td>NaN</td>\n",
       "      <td>NaN</td>\n",
       "      <td>d. 1210</td>\n",
       "      <td>1960</td>\n",
       "      <td>NaN</td>\n",
       "      <td>1960</td>\n",
       "      <td>1</td>\n",
       "      <td>1</td>\n",
       "      <td>NaN</td>\n",
       "      <td>Baltimore|Penguin Books|1</td>\n",
       "      <td>NotFiction</td>\n",
       "      <td>Tristan|(Anglo-Norman poe</td>\n",
       "      <td>reprint</td>\n",
       "      <td>Tristan</td>\n",
       "    </tr>\n",
       "  </tbody>\n",
       "</table>\n",
       "</div>"
      ],
      "text/plain": [
       "                docid                                       author  \\\n",
       "0  nyp.33433076025596                               M'Henry, James   \n",
       "1      wu.89087902169                               Applin, Arthur   \n",
       "2        uc1.$b323629                               March, William   \n",
       "3        uc1.$b318317  Rosny, J. H., aÃ®nÃ©, pseud. of J. H. BoÃ«x   \n",
       "4  mdp.39015005144137                    von Strassburg, Gottfried   \n",
       "\n",
       "                    realname      pseudonym gender nationality  authordate  \\\n",
       "0             McHenry, James            NaN      m          us  1785-1845.   \n",
       "1                        NaN  Smith, Julian      m          uk       1883-   \n",
       "2                        NaN            NaN      m          us  1893-1954.   \n",
       "3  Boex, Joseph Henri Honoré    Rosny aîné       m          fr  1856-1940.   \n",
       "4                        NaN            NaN    NaN         NaN     d. 1210   \n",
       "\n",
       "   inferreddate  firstpub  latestcomp  allcopiesofwork  copiesin25yrs  \\\n",
       "0          1848    1823.0        1845                1              1   \n",
       "1          1929       NaN        1929                1              1   \n",
       "2          1939       NaN        1939                2              2   \n",
       "3          1924       NaN        1924                1              1   \n",
       "4          1960       NaN        1960                1              1   \n",
       "\n",
       "  enumcron                    imprint      genres                   subjects  \\\n",
       "0   v. 1-2  Pittsburgh;M. P. Morse;18         NaN  1732-1799|Fiction|Washing   \n",
       "1      NaN  New York|H. Liveright|192  NotFiction                        NaN   \n",
       "2      NaN  Boston|Little, Brown and   NotFiction                        NaN   \n",
       "3      NaN  New York|R. M. McBride|19  NotFiction                        NaN   \n",
       "4      NaN  Baltimore|Penguin Books|1  NotFiction  Tristan|(Anglo-Norman poe   \n",
       "\n",
       "       category                                         shorttitle  \n",
       "0         novel  The wilderness : or, Braddock's times; A tale ...  \n",
       "1         novel                         The chronicles of a gigolo  \n",
       "2  shortstories                               Some like them short  \n",
       "3         novel     The giant cat; or, The quest of Aoun and Zouhr  \n",
       "4       reprint                                            Tristan  "
      ]
     },
     "execution_count": 12,
     "metadata": {},
     "output_type": "execute_result"
    }
   ],
   "source": [
    "df.head()"
   ]
  },
  {
   "cell_type": "code",
   "execution_count": 5,
   "metadata": {
    "collapsed": false
   },
   "outputs": [
    {
     "data": {
      "text/plain": [
       "Index(['Unnamed: 0', 'docid', 'author', 'realname', 'pseudonym', 'gender',\n",
       "       'nationality', 'authordate', 'inferreddate', 'firstpub', 'latestcomp',\n",
       "       'allcopiesofwork', 'copiesin25yrs', 'enumcron', 'imprint', 'genres',\n",
       "       'subjects', 'category', 'shorttitle'],\n",
       "      dtype='object')"
      ]
     },
     "execution_count": 5,
     "metadata": {},
     "output_type": "execute_result"
    }
   ],
   "source": [
    "df.columns"
   ]
  },
  {
   "cell_type": "markdown",
   "metadata": {},
   "source": [
    "## table of nationalities\n",
    "\n",
    "Let's start by just counting how many we've got.\n",
    "\n",
    "We'll do it using a dictionary."
   ]
  },
  {
   "cell_type": "code",
   "execution_count": 6,
   "metadata": {
    "collapsed": false
   },
   "outputs": [],
   "source": [
    "nationalities = dict()\n",
    "\n",
    "for n in df.nationality:\n",
    "    if pd.isnull(n):\n",
    "        continue\n",
    "    elif n in nationalities:\n",
    "        # oh, we already have this one in the dictionary\n",
    "        nationalities[n] = nationalities[n] + 1\n",
    "        # just add one to the count\n",
    "    else:\n",
    "        # not in the dictionary; have to initialize it\n",
    "        nationalities[n] = 1\n"
   ]
  },
  {
   "cell_type": "code",
   "execution_count": 7,
   "metadata": {
    "collapsed": false
   },
   "outputs": [
    {
     "name": "stdout",
     "output_type": "stream",
     "text": [
      "36\n"
     ]
    }
   ],
   "source": [
    "# how many different codes are there?\n",
    "\n",
    "print(len(nationalities))"
   ]
  },
  {
   "cell_type": "code",
   "execution_count": 8,
   "metadata": {
    "collapsed": false
   },
   "outputs": [
    {
     "name": "stdout",
     "output_type": "stream",
     "text": [
      "nic 1\n",
      "au 10\n",
      "ar 1\n",
      "in 6\n",
      "gr 1\n",
      "tr 1\n",
      "jp 1\n",
      "it 1\n",
      "sa 8\n",
      "ni 2\n",
      "cl 1\n",
      "us 214\n",
      "den 1\n",
      "es 2\n",
      "cmr 1\n",
      "me 2\n",
      "aus 1\n",
      "ph 1\n",
      "ba 1\n",
      "ru 6\n",
      "ukr 1\n",
      "tri 1\n",
      "nz 3\n",
      "fr 25\n",
      "tu 1\n",
      "ca 7\n",
      "nor 1\n",
      "de 9\n",
      "uk 234\n",
      "pr 1\n",
      "ir 21\n",
      "arm 1\n",
      "no 1\n",
      "gk 1\n",
      "lit 1\n",
      "sw 3\n"
     ]
    }
   ],
   "source": [
    "# notice that you iterate through dictionaries\n",
    "# in a special way, using the .items() method\n",
    "\n",
    "for nationality, count in nationalities.items():\n",
    "    print(nationality, count)"
   ]
  },
  {
   "cell_type": "markdown",
   "metadata": {},
   "source": [
    "## Graphing the uk fraction\n",
    "\n",
    "Okay, now let's graph the fraction of \"uk\" nationalities across time. We're going to add a bit of complexity to count Scotland as part of UK. We're also only going to count rows where category == 'novel.'"
   ]
  },
  {
   "cell_type": "code",
   "execution_count": 9,
   "metadata": {
    "collapsed": false
   },
   "outputs": [],
   "source": [
    "# we create a set so we can check whether\n",
    "# a nationality is one of these\n",
    "\n",
    "united_kingdom = {'uk', 'scott', 'scot'}\n",
    "\n",
    "# We need to keep track of nationalities\n",
    "# in multiple periods, so let's create a dictionary\n",
    "# of periods.\n",
    "\n",
    "half_centuries = dict()\n",
    "\n",
    "# Then for each period, let's create a dictionary\n",
    "# that we can use to count uk or non-uk writers.\n",
    "\n",
    "for floor in range(1800, 2050, 50):\n",
    "    half_centuries[floor] = dict()\n",
    "    half_centuries[floor]['uk'] = 0\n",
    "    half_centuries[floor]['non-uk'] = 0\n",
    "    \n",
    "    # we're initializing the 'uk' and\n",
    "    # 'non-uk' categories in advance rather\n",
    "    # than doing it on the fly like we did\n",
    "    # before -- mainly because there are only\n",
    "    # 2 categories so it's simple.\n",
    "\n",
    "# now iterate through the data\n",
    "\n",
    "for idx, row in df.iterrows():\n",
    "    if row.category != 'novel':\n",
    "        continue\n",
    "        # not going to count things that\n",
    "        # aren't novels\n",
    "    else:\n",
    "        date = row.inferreddate\n",
    "        halfcent = (date // 50) * 50\n",
    "        # play with // in spyder to \n",
    "        # understand what this does\n",
    "        # try, e.g. 223 // 50 or \n",
    "        # 223 // 10.\n",
    "    \n",
    "    if halfcent not in half_centuries:\n",
    "        print('error: ', halfcent)\n",
    "        # this should never happen\n",
    "        continue\n",
    "    \n",
    "    if row.nationality in united_kingdom:\n",
    "        half_centuries[halfcent]['uk'] += 1\n",
    "    else:\n",
    "        half_centuries[halfcent]['non-uk'] += 1\n",
    "\n",
    "        \n",
    "        "
   ]
  },
  {
   "cell_type": "code",
   "execution_count": 10,
   "metadata": {
    "collapsed": false
   },
   "outputs": [
    {
     "data": {
      "image/png": "[encoded data removed]",
      "text/plain": [
       "<matplotlib.figure.Figure at 0x112edbb70>"
      ]
     },
     "metadata": {},
     "output_type": "display_data"
    }
   ],
   "source": [
    "x = []\n",
    "y = []\n",
    "\n",
    "for halfcent, nationalitydict in half_centuries.items():\n",
    "    x.append(halfcent + 25)\n",
    "    y.append(nationalitydict['uk'] / \n",
    "             (nationalitydict['uk'] + nationalitydict['non-uk']))\n",
    "\n",
    "plt.bar(x, y, width = 5)\n",
    "plt.show()"
   ]
  },
  {
   "cell_type": "code",
   "execution_count": 14,
   "metadata": {
    "collapsed": false
   },
   "outputs": [
    {
     "name": "stdout",
     "output_type": "stream",
     "text": [
      "men 423\n",
      "women 234\n"
     ]
    }
   ],
   "source": [
    "men = 0\n",
    "women = 0\n",
    "\n",
    "for g in df['gender']:\n",
    "    if pd.isnull(g):\n",
    "        continue\n",
    "    elif g == 'm':\n",
    "        men += 1\n",
    "    elif g == 'f':\n",
    "        women += 1\n",
    "    else:\n",
    "        continue\n",
    "\n",
    "print('men', men)\n",
    "print('women', women)\n",
    "\n",
    "\n"
   ]
  },
  {
   "cell_type": "code",
   "execution_count": 16,
   "metadata": {
    "collapsed": false
   },
   "outputs": [
    {
     "data": {
      "text/plain": [
       "234"
      ]
     },
     "execution_count": 16,
     "metadata": {},
     "output_type": "execute_result"
    }
   ],
   "source": [
    "sum(df['gender'] == 'f')\n"
   ]
  },
  {
   "cell_type": "code",
   "execution_count": null,
   "metadata": {
    "collapsed": true
   },
   "outputs": [],
   "source": []
  }
 ],
 "metadata": {
  "kernelspec": {
   "display_name": "Python [conda root]",
   "language": "python",
   "name": "conda-root-py"
  },
  "language_info": {
   "codemirror_mode": {
    "name": "ipython",
    "version": 3
   },
   "file_extension": ".py",
   "mimetype": "text/x-python",
   "name": "python",
   "nbconvert_exporter": "python",
   "pygments_lexer": "ipython3",
   "version": "3.5.2"
  }
 },
 "nbformat": 4,
 "nbformat_minor": 1
}
