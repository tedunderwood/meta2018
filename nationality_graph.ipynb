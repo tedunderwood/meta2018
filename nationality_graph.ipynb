{
 "cells": [
  {
   "cell_type": "markdown",
   "metadata": {},
   "source": [
    "# Graphing nationality\n",
    "\n",
    "Our goal here is\n",
    "\n",
    "1. To count up the books ascribed to different nationalities.\n",
    "\n",
    "2. To graph the uk proportion over time.\n",
    "\n",
    "First let's import modules you need."
   ]
  },
  {
   "cell_type": "code",
   "execution_count": 1,
   "metadata": {
    "collapsed": true
   },
   "outputs": [],
   "source": [
    "# familiar pandas\n",
    "import pandas as pd\n",
    "\n",
    "# we'll need this for visualization\n",
    "from matplotlib import pyplot as plt\n",
    "\n",
    "# you won't need to say this if you're doing it in spyder\n",
    "%matplotlib inline"
   ]
  },
  {
   "cell_type": "markdown",
   "metadata": {},
   "source": [
    "## read in the data\n",
    "\n",
    "Right now we'll just use Patrick's data; we can add Jessica's as it's available.\n"
   ]
  },
  {
   "cell_type": "code",
   "execution_count": 2,
   "metadata": {
    "collapsed": true
   },
   "outputs": [],
   "source": [
    "# I use df as the variable name because it's a\n",
    "# pandas DataFrame.\n",
    "\n",
    "df = pd.read_csv('patrick.tsv', sep = '\\t')"
   ]
  },
  {
   "cell_type": "code",
   "execution_count": 11,
   "metadata": {
    "collapsed": false
   },
   "outputs": [
    {
     "data": {
      "text/plain": [
       "Index(['docid', 'author', 'realname', 'pseudonym', 'gender', 'nationality',\n",
       "       'authordate', 'inferreddate', 'firstpub', 'latestcomp',\n",
       "       'allcopiesofwork', 'copiesin25yrs', 'enumcron', 'imprint', 'genres',\n",
       "       'subjects', 'category', 'shorttitle'],\n",
       "      dtype='object')"
      ]
     },
     "execution_count": 11,
     "metadata": {},
     "output_type": "execute_result"
    }
   ],
   "source": [
    "df.columns"
   ]
  },
  {
   "cell_type": "markdown",
   "metadata": {},
   "source": [
    "## table of nationalities\n",
    "\n",
    "Let's start by just counting how many we've got.\n",
    "\n",
    "We'll do it using a dictionary."
   ]
  },
  {
   "cell_type": "code",
   "execution_count": 8,
   "metadata": {
    "collapsed": false
   },
   "outputs": [],
   "source": [
    "nationalities = dict()\n",
    "\n",
    "for n in df.nationality:\n",
    "    if pd.isnull(n):\n",
    "        continue\n",
    "    elif n in nationalities:\n",
    "        # oh, we already have this one in the dictionary\n",
    "        nationalities[n] = nationalities[n] + 1\n",
    "        # just add one to the count\n",
    "    else:\n",
    "        # not in the dictionary; have to initialize it\n",
    "        nationalities[n] = 1\n"
   ]
  },
  {
   "cell_type": "code",
   "execution_count": 9,
   "metadata": {
    "collapsed": false
   },
   "outputs": [
    {
     "name": "stdout",
     "output_type": "stream",
     "text": [
      "23\n"
     ]
    }
   ],
   "source": [
    "# how many different codes are there?\n",
    "\n",
    "print(len(nationalities))"
   ]
  },
  {
   "cell_type": "code",
   "execution_count": 10,
   "metadata": {
    "collapsed": false
   },
   "outputs": [
    {
     "name": "stdout",
     "output_type": "stream",
     "text": [
      "us 126\n",
      "no 1\n",
      "ir 7\n",
      "nz 2\n",
      "in 4\n",
      "sw 2\n",
      "uk 122\n",
      "fr 11\n",
      "tr 1\n",
      "sa 4\n",
      "gr 1\n",
      "cl 1\n",
      "scott 1\n",
      "tu 1\n",
      "ba 1\n",
      "au 6\n",
      "cmr 1\n",
      "jp 1\n",
      "ca 2\n",
      "de 3\n",
      "scot 7\n",
      "es 2\n",
      "ru 3\n"
     ]
    }
   ],
   "source": [
    "# notice that you iterate through dictionaries\n",
    "# in a special way, using the .items() method\n",
    "\n",
    "for nationality, count in nationalities.items():\n",
    "    print(nationality, count)"
   ]
  },
  {
   "cell_type": "markdown",
   "metadata": {},
   "source": [
    "## Graphing the uk fraction\n",
    "\n",
    "Okay, now let's graph the fraction of \"uk\" nationalities across time. We're going to add a bit of complexity to count Scotland as part of UK. We're also only going to count rows where category == 'novel.'"
   ]
  },
  {
   "cell_type": "code",
   "execution_count": 16,
   "metadata": {
    "collapsed": false
   },
   "outputs": [],
   "source": [
    "# we create a set so we can check whether\n",
    "# a nationality is one of these\n",
    "\n",
    "united_kingdom = {'uk', 'scott', 'scot'}\n",
    "\n",
    "# We need to keep track of nationalities\n",
    "# in multiple periods, so let's create a dictionary\n",
    "# of periods.\n",
    "\n",
    "half_centuries = dict()\n",
    "\n",
    "# Then for each period, let's create a dictionary\n",
    "# that we can use to count uk or non-uk writers.\n",
    "\n",
    "for floor in range(1800, 2050, 50):\n",
    "    half_centuries[floor] = dict()\n",
    "    half_centuries[floor]['uk'] = 0\n",
    "    half_centuries[floor]['non-uk'] = 0\n",
    "    \n",
    "    # we're initializing the 'uk' and\n",
    "    # 'non-uk' categories in advance rather\n",
    "    # than doing it on the fly like we did\n",
    "    # before -- mainly because there are only\n",
    "    # 2 categories so it's simple.\n",
    "\n",
    "# now iterate through the data\n",
    "\n",
    "for idx, row in df.iterrows():\n",
    "    if row.category != 'novel':\n",
    "        continue\n",
    "        # not going to count things that\n",
    "        # aren't novels\n",
    "    else:\n",
    "        date = row.inferreddate\n",
    "        halfcent = (date // 50) * 50\n",
    "        # play with // in spyder to \n",
    "        # understand what this does\n",
    "        # try, e.g. 223 // 50 or \n",
    "        # 223 // 10.\n",
    "    \n",
    "    if halfcent not in half_centuries:\n",
    "        print('error: ', halfcent)\n",
    "        # this should never happen\n",
    "        continue\n",
    "    \n",
    "    if row.nationality in united_kingdom:\n",
    "        half_centuries[halfcent]['uk'] += 1\n",
    "    else:\n",
    "        half_centuries[halfcent]['non-uk'] += 1\n",
    "\n",
    "        \n",
    "        "
   ]
  },
  {
   "cell_type": "code",
   "execution_count": 20,
   "metadata": {
    "collapsed": false
   },
   "outputs": [
    {
     "data": {
      "image/png": "[encoded data removed]",
      "text/plain": [
       "<matplotlib.figure.Figure at 0x115c5cb00>"
      ]
     },
     "metadata": {},
     "output_type": "display_data"
    }
   ],
   "source": [
    "x = []\n",
    "y = []\n",
    "\n",
    "for halfcent, nationalitydict in half_centuries.items():\n",
    "    x.append(halfcent + 25)\n",
    "    y.append(nationalitydict['uk'] / \n",
    "             (nationalitydict['uk'] + nationalitydict['non-uk']))\n",
    "\n",
    "plt.bar(x, y, width = 5)\n",
    "plt.show()"
   ]
  },
  {
   "cell_type": "code",
   "execution_count": null,
   "metadata": {
    "collapsed": true
   },
   "outputs": [],
   "source": []
  }
 ],
 "metadata": {
  "kernelspec": {
   "display_name": "Python [conda root]",
   "language": "python",
   "name": "conda-root-py"
  },
  "language_info": {
   "codemirror_mode": {
    "name": "ipython",
    "version": 3
   },
   "file_extension": ".py",
   "mimetype": "text/x-python",
   "name": "python",
   "nbconvert_exporter": "python",
   "pygments_lexer": "ipython3",
   "version": "3.5.2"
  }
 },
 "nbformat": 4,
 "nbformat_minor": 1
}
