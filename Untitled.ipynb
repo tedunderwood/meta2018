{
 "cells": [
  {
   "cell_type": "markdown",
   "metadata": {},
   "source": [
    "# Change csv to tsv\n",
    "\n",
    "I can keep typing"
   ]
  },
  {
   "cell_type": "code",
   "execution_count": 1,
   "metadata": {
    "collapsed": true
   },
   "outputs": [],
   "source": [
    "import pandas as pd"
   ]
  },
  {
   "cell_type": "code",
   "execution_count": 3,
   "metadata": {
    "collapsed": true
   },
   "outputs": [],
   "source": [
    "import math\n"
   ]
  },
  {
   "cell_type": "code",
   "execution_count": 4,
   "metadata": {
    "collapsed": false
   },
   "outputs": [
    {
     "data": {
      "text/plain": [
       "2.302585092994046"
      ]
     },
     "execution_count": 4,
     "metadata": {},
     "output_type": "execute_result"
    }
   ],
   "source": [
    "math.log(10)"
   ]
  },
  {
   "cell_type": "code",
   "execution_count": 5,
   "metadata": {
    "collapsed": false
   },
   "outputs": [
    {
     "data": {
      "text/html": [
       "<div>\n",
       "<table border=\"1\" class=\"dataframe\">\n",
       "  <thead>\n",
       "    <tr style=\"text-align: right;\">\n",
       "      <th></th>\n",
       "      <th>docid</th>\n",
       "      <th>author</th>\n",
       "      <th>realname</th>\n",
       "      <th>pseudonym</th>\n",
       "      <th>gender</th>\n",
       "      <th>nationality</th>\n",
       "      <th>authordate</th>\n",
       "      <th>inferreddate</th>\n",
       "      <th>firstpub</th>\n",
       "      <th>latestcomp</th>\n",
       "      <th>allcopiesofwork</th>\n",
       "      <th>copiesin25yrs</th>\n",
       "      <th>enumcron</th>\n",
       "      <th>imprint</th>\n",
       "      <th>genres</th>\n",
       "      <th>subjects</th>\n",
       "      <th>category</th>\n",
       "      <th>shorttitle</th>\n",
       "    </tr>\n",
       "  </thead>\n",
       "  <tbody>\n",
       "    <tr>\n",
       "      <th>0</th>\n",
       "      <td>nyp.33433076025596</td>\n",
       "      <td>M'Henry, James</td>\n",
       "      <td>McHenry, James</td>\n",
       "      <td>NaN</td>\n",
       "      <td>m</td>\n",
       "      <td>us</td>\n",
       "      <td>1785-1845.</td>\n",
       "      <td>1848</td>\n",
       "      <td>1823.0</td>\n",
       "      <td>1845</td>\n",
       "      <td>1</td>\n",
       "      <td>1</td>\n",
       "      <td>v. 1-2</td>\n",
       "      <td>Pittsburgh;M. P. Morse;18</td>\n",
       "      <td>NaN</td>\n",
       "      <td>1732-1799|Fiction|Washing</td>\n",
       "      <td>novel</td>\n",
       "      <td>The wilderness : or, Braddock's times; A tale ...</td>\n",
       "    </tr>\n",
       "    <tr>\n",
       "      <th>1</th>\n",
       "      <td>wu.89087902169</td>\n",
       "      <td>Applin, Arthur</td>\n",
       "      <td>NaN</td>\n",
       "      <td>Smith, Julian</td>\n",
       "      <td>m</td>\n",
       "      <td>uk</td>\n",
       "      <td>1883-</td>\n",
       "      <td>1929</td>\n",
       "      <td>NaN</td>\n",
       "      <td>1929</td>\n",
       "      <td>1</td>\n",
       "      <td>1</td>\n",
       "      <td>NaN</td>\n",
       "      <td>New York|H. Liveright|192</td>\n",
       "      <td>NotFiction</td>\n",
       "      <td>NaN</td>\n",
       "      <td>novel</td>\n",
       "      <td>The chronicles of a gigolo</td>\n",
       "    </tr>\n",
       "    <tr>\n",
       "      <th>2</th>\n",
       "      <td>uc1.$b323629</td>\n",
       "      <td>March, William</td>\n",
       "      <td>NaN</td>\n",
       "      <td>NaN</td>\n",
       "      <td>m</td>\n",
       "      <td>us</td>\n",
       "      <td>1893-1954.</td>\n",
       "      <td>1939</td>\n",
       "      <td>NaN</td>\n",
       "      <td>1939</td>\n",
       "      <td>2</td>\n",
       "      <td>2</td>\n",
       "      <td>NaN</td>\n",
       "      <td>Boston|Little, Brown and</td>\n",
       "      <td>NotFiction</td>\n",
       "      <td>NaN</td>\n",
       "      <td>shortstories</td>\n",
       "      <td>Some like them short</td>\n",
       "    </tr>\n",
       "    <tr>\n",
       "      <th>3</th>\n",
       "      <td>uc1.$b318317</td>\n",
       "      <td>Rosny, J. H., aÃ®nÃ©, pseud. of J. H. BoÃ«x</td>\n",
       "      <td>Boex, Joseph Henri Honoré</td>\n",
       "      <td>Rosny aîné</td>\n",
       "      <td>m</td>\n",
       "      <td>fr</td>\n",
       "      <td>1856-1940.</td>\n",
       "      <td>1924</td>\n",
       "      <td>NaN</td>\n",
       "      <td>1924</td>\n",
       "      <td>1</td>\n",
       "      <td>1</td>\n",
       "      <td>NaN</td>\n",
       "      <td>New York|R. M. McBride|19</td>\n",
       "      <td>NotFiction</td>\n",
       "      <td>NaN</td>\n",
       "      <td>novel</td>\n",
       "      <td>The giant cat; or, The quest of Aoun and Zouhr</td>\n",
       "    </tr>\n",
       "    <tr>\n",
       "      <th>4</th>\n",
       "      <td>mdp.39015005144137</td>\n",
       "      <td>von Strassburg, Gottfried</td>\n",
       "      <td>NaN</td>\n",
       "      <td>NaN</td>\n",
       "      <td>NaN</td>\n",
       "      <td>NaN</td>\n",
       "      <td>d. 1210</td>\n",
       "      <td>1960</td>\n",
       "      <td>NaN</td>\n",
       "      <td>1960</td>\n",
       "      <td>1</td>\n",
       "      <td>1</td>\n",
       "      <td>NaN</td>\n",
       "      <td>Baltimore|Penguin Books|1</td>\n",
       "      <td>NotFiction</td>\n",
       "      <td>Tristan|(Anglo-Norman poe</td>\n",
       "      <td>reprint</td>\n",
       "      <td>Tristan</td>\n",
       "    </tr>\n",
       "  </tbody>\n",
       "</table>\n",
       "</div>"
      ],
      "text/plain": [
       "                docid                                       author  \\\n",
       "0  nyp.33433076025596                               M'Henry, James   \n",
       "1      wu.89087902169                               Applin, Arthur   \n",
       "2        uc1.$b323629                               March, William   \n",
       "3        uc1.$b318317  Rosny, J. H., aÃ®nÃ©, pseud. of J. H. BoÃ«x   \n",
       "4  mdp.39015005144137                    von Strassburg, Gottfried   \n",
       "\n",
       "                    realname      pseudonym gender nationality  authordate  \\\n",
       "0             McHenry, James            NaN      m          us  1785-1845.   \n",
       "1                        NaN  Smith, Julian      m          uk       1883-   \n",
       "2                        NaN            NaN      m          us  1893-1954.   \n",
       "3  Boex, Joseph Henri Honoré    Rosny aîné       m          fr  1856-1940.   \n",
       "4                        NaN            NaN    NaN         NaN     d. 1210   \n",
       "\n",
       "   inferreddate  firstpub  latestcomp  allcopiesofwork  copiesin25yrs  \\\n",
       "0          1848    1823.0        1845                1              1   \n",
       "1          1929       NaN        1929                1              1   \n",
       "2          1939       NaN        1939                2              2   \n",
       "3          1924       NaN        1924                1              1   \n",
       "4          1960       NaN        1960                1              1   \n",
       "\n",
       "  enumcron                    imprint      genres                   subjects  \\\n",
       "0   v. 1-2  Pittsburgh;M. P. Morse;18         NaN  1732-1799|Fiction|Washing   \n",
       "1      NaN  New York|H. Liveright|192  NotFiction                        NaN   \n",
       "2      NaN  Boston|Little, Brown and   NotFiction                        NaN   \n",
       "3      NaN  New York|R. M. McBride|19  NotFiction                        NaN   \n",
       "4      NaN  Baltimore|Penguin Books|1  NotFiction  Tristan|(Anglo-Norman poe   \n",
       "\n",
       "       category                                         shorttitle  \n",
       "0         novel  The wilderness : or, Braddock's times; A tale ...  \n",
       "1         novel                         The chronicles of a gigolo  \n",
       "2  shortstories                               Some like them short  \n",
       "3         novel     The giant cat; or, The quest of Aoun and Zouhr  \n",
       "4       reprint                                            Tristan  "
      ]
     },
     "execution_count": 5,
     "metadata": {},
     "output_type": "execute_result"
    }
   ],
   "source": [
    "p = pd.read_csv('patrick.tsv')\n",
    "p.head()"
   ]
  },
  {
   "cell_type": "code",
   "execution_count": 7,
   "metadata": {
    "collapsed": true
   },
   "outputs": [],
   "source": [
    "p.to_csv('patrick.tsv', sep='\\t', index = False)"
   ]
  },
  {
   "cell_type": "code",
   "execution_count": null,
   "metadata": {
    "collapsed": true
   },
   "outputs": [],
   "source": []
  }
 ],
 "metadata": {
  "anaconda-cloud": {},
  "kernelspec": {
   "display_name": "Python [conda root]",
   "language": "python",
   "name": "conda-root-py"
  },
  "language_info": {
   "codemirror_mode": {
    "name": "ipython",
    "version": 3
   },
   "file_extension": ".py",
   "mimetype": "text/x-python",
   "name": "python",
   "nbconvert_exporter": "python",
   "pygments_lexer": "ipython3",
   "version": "3.5.2"
  }
 },
 "nbformat": 4,
 "nbformat_minor": 1
}
