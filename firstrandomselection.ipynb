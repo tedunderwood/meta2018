{
 "cells": [
  {
   "cell_type": "markdown",
   "metadata": {},
   "source": [
    "# First 2000-volume sample of fiction\n",
    "\n",
    "This is straightforward, but I'm going to walk through it slowly to demonstrate different approaches one can use in basic Python and in Pandas."
   ]
  },
  {
   "cell_type": "code",
   "execution_count": 5,
   "metadata": {},
   "outputs": [],
   "source": [
    "# first, we \"import\" some modules we'll be using\n",
    "\n",
    "import pandas as pd\n",
    "import random"
   ]
  },
  {
   "cell_type": "markdown",
   "metadata": {},
   "source": [
    "Now actually read in the metadata."
   ]
  },
  {
   "cell_type": "code",
   "execution_count": 3,
   "metadata": {},
   "outputs": [
    {
     "data": {
      "text/html": [
       "<div>\n",
       "<table border=\"1\" class=\"dataframe\">\n",
       "  <thead>\n",
       "    <tr style=\"text-align: right;\">\n",
       "      <th></th>\n",
       "      <th>docid</th>\n",
       "      <th>oldauthor</th>\n",
       "      <th>author</th>\n",
       "      <th>authordate</th>\n",
       "      <th>inferreddate</th>\n",
       "      <th>latestcomp</th>\n",
       "      <th>datetype</th>\n",
       "      <th>startdate</th>\n",
       "      <th>enddate</th>\n",
       "      <th>imprint</th>\n",
       "      <th>...</th>\n",
       "      <th>recordid</th>\n",
       "      <th>instances</th>\n",
       "      <th>allcopiesofwork</th>\n",
       "      <th>copiesin25yrs</th>\n",
       "      <th>enumcron</th>\n",
       "      <th>volnum</th>\n",
       "      <th>title</th>\n",
       "      <th>parttitle</th>\n",
       "      <th>earlyedition</th>\n",
       "      <th>shorttitle</th>\n",
       "    </tr>\n",
       "  </thead>\n",
       "  <tbody>\n",
       "    <tr>\n",
       "      <th>0</th>\n",
       "      <td>mdp.39015031913893</td>\n",
       "      <td>Spencer, Louise Reid</td>\n",
       "      <td>Spencer, Louise Reid</td>\n",
       "      <td>NaN</td>\n",
       "      <td>0</td>\n",
       "      <td>2100</td>\n",
       "      <td>|</td>\n",
       "      <td>||||</td>\n",
       "      <td>||||</td>\n",
       "      <td>Thomas Y. Crowell company|1945</td>\n",
       "      <td>...</td>\n",
       "      <td>8744</td>\n",
       "      <td>1</td>\n",
       "      <td>1</td>\n",
       "      <td>1</td>\n",
       "      <td>NaN</td>\n",
       "      <td>NaN</td>\n",
       "      <td>Guerrilla wife | $c: [by] Louise Reid Spencer.</td>\n",
       "      <td>NaN</td>\n",
       "      <td>True</td>\n",
       "      <td>Guerrilla wife</td>\n",
       "    </tr>\n",
       "    <tr>\n",
       "      <th>1</th>\n",
       "      <td>mdp.39015003936864</td>\n",
       "      <td>Baker, Robert H</td>\n",
       "      <td>Baker, Robert H</td>\n",
       "      <td>NaN</td>\n",
       "      <td>0</td>\n",
       "      <td>2100</td>\n",
       "      <td>n</td>\n",
       "      <td></td>\n",
       "      <td></td>\n",
       "      <td>Port Washington, N.Y.|Ashley Books|197-?].</td>\n",
       "      <td>...</td>\n",
       "      <td>39757</td>\n",
       "      <td>1</td>\n",
       "      <td>1</td>\n",
       "      <td>1</td>\n",
       "      <td>NaN</td>\n",
       "      <td>NaN</td>\n",
       "      <td>The suburbs : | a novel / | $c: by Robert H. B...</td>\n",
       "      <td>NaN</td>\n",
       "      <td>True</td>\n",
       "      <td>The suburbs : a novel</td>\n",
       "    </tr>\n",
       "    <tr>\n",
       "      <th>2</th>\n",
       "      <td>mdp.39015068342305</td>\n",
       "      <td>Dickens, Charles</td>\n",
       "      <td>Dickens, Charles</td>\n",
       "      <td>1812-1870.</td>\n",
       "      <td>0</td>\n",
       "      <td>1870</td>\n",
       "      <td>n</td>\n",
       "      <td></td>\n",
       "      <td></td>\n",
       "      <td>New York|The American news company|n.d.</td>\n",
       "      <td>...</td>\n",
       "      <td>119996</td>\n",
       "      <td>1</td>\n",
       "      <td>1</td>\n",
       "      <td>1</td>\n",
       "      <td>NaN</td>\n",
       "      <td>NaN</td>\n",
       "      <td>Edwin Drood. | $c: By Charles Dickens. With il...</td>\n",
       "      <td>NaN</td>\n",
       "      <td>True</td>\n",
       "      <td>Edwin Drood</td>\n",
       "    </tr>\n",
       "    <tr>\n",
       "      <th>3</th>\n",
       "      <td>mdp.39015055066586</td>\n",
       "      <td>Stretton, Hesba</td>\n",
       "      <td>Stretton, Hesba</td>\n",
       "      <td>1832-1911.</td>\n",
       "      <td>0</td>\n",
       "      <td>1911</td>\n",
       "      <td>n</td>\n",
       "      <td></td>\n",
       "      <td></td>\n",
       "      <td>New York|Dodd, Mead &amp; co.|n.d.</td>\n",
       "      <td>...</td>\n",
       "      <td>122460</td>\n",
       "      <td>1</td>\n",
       "      <td>1</td>\n",
       "      <td>1</td>\n",
       "      <td>NaN</td>\n",
       "      <td>NaN</td>\n",
       "      <td>Carola, | $c: by Hesba Stretton.</td>\n",
       "      <td>NaN</td>\n",
       "      <td>True</td>\n",
       "      <td>Carola</td>\n",
       "    </tr>\n",
       "    <tr>\n",
       "      <th>4</th>\n",
       "      <td>mdp.39015055066594</td>\n",
       "      <td>Stretton,Hesba</td>\n",
       "      <td>Stretton, Hesba</td>\n",
       "      <td>1832-1911.</td>\n",
       "      <td>0</td>\n",
       "      <td>1911</td>\n",
       "      <td>n</td>\n",
       "      <td></td>\n",
       "      <td></td>\n",
       "      <td>New York|Dodd, Mead &amp; co.|n.d.</td>\n",
       "      <td>...</td>\n",
       "      <td>122464</td>\n",
       "      <td>1</td>\n",
       "      <td>1</td>\n",
       "      <td>1</td>\n",
       "      <td>NaN</td>\n",
       "      <td>NaN</td>\n",
       "      <td>In prison &amp; out. | $c: By Hesba Stretton.</td>\n",
       "      <td>NaN</td>\n",
       "      <td>True</td>\n",
       "      <td>In prison &amp; out</td>\n",
       "    </tr>\n",
       "  </tbody>\n",
       "</table>\n",
       "<p>5 rows × 28 columns</p>\n",
       "</div>"
      ],
      "text/plain": [
       "                docid             oldauthor                author  authordate  \\\n",
       "0  mdp.39015031913893  Spencer, Louise Reid  Spencer, Louise Reid         NaN   \n",
       "1  mdp.39015003936864       Baker, Robert H       Baker, Robert H         NaN   \n",
       "2  mdp.39015068342305      Dickens, Charles      Dickens, Charles  1812-1870.   \n",
       "3  mdp.39015055066586       Stretton, Hesba       Stretton, Hesba  1832-1911.   \n",
       "4  mdp.39015055066594        Stretton,Hesba       Stretton, Hesba  1832-1911.   \n",
       "\n",
       "   inferreddate  latestcomp datetype startdate enddate  \\\n",
       "0             0        2100        |      ||||    ||||   \n",
       "1             0        2100        n                     \n",
       "2             0        1870        n                     \n",
       "3             0        1911        n                     \n",
       "4             0        1911        n                     \n",
       "\n",
       "                                      imprint          ...           recordid  \\\n",
       "0              Thomas Y. Crowell company|1945          ...               8744   \n",
       "1  Port Washington, N.Y.|Ashley Books|197-?].          ...              39757   \n",
       "2     New York|The American news company|n.d.          ...             119996   \n",
       "3              New York|Dodd, Mead & co.|n.d.          ...             122460   \n",
       "4              New York|Dodd, Mead & co.|n.d.          ...             122464   \n",
       "\n",
       "  instances allcopiesofwork copiesin25yrs enumcron volnum  \\\n",
       "0         1               1             1      NaN    NaN   \n",
       "1         1               1             1      NaN    NaN   \n",
       "2         1               1             1      NaN    NaN   \n",
       "3         1               1             1      NaN    NaN   \n",
       "4         1               1             1      NaN    NaN   \n",
       "\n",
       "                                               title parttitle  earlyedition  \\\n",
       "0     Guerrilla wife | $c: [by] Louise Reid Spencer.       NaN          True   \n",
       "1  The suburbs : | a novel / | $c: by Robert H. B...       NaN          True   \n",
       "2  Edwin Drood. | $c: By Charles Dickens. With il...       NaN          True   \n",
       "3                   Carola, | $c: by Hesba Stretton.       NaN          True   \n",
       "4          In prison & out. | $c: By Hesba Stretton.       NaN          True   \n",
       "\n",
       "              shorttitle  \n",
       "0         Guerrilla wife  \n",
       "1  The suburbs : a novel  \n",
       "2            Edwin Drood  \n",
       "3                 Carola  \n",
       "4        In prison & out  \n",
       "\n",
       "[5 rows x 28 columns]"
      ]
     },
     "execution_count": 3,
     "metadata": {},
     "output_type": "execute_result"
    }
   ],
   "source": [
    "meta = pd.read_csv('../workmeta.tsv', sep = '\\t', low_memory = False)\n",
    "meta.head()"
   ]
  },
  {
   "cell_type": "code",
   "execution_count": 4,
   "metadata": {},
   "outputs": [
    {
     "data": {
      "text/plain": [
       "(138137, 28)"
      ]
     },
     "execution_count": 4,
     "metadata": {},
     "output_type": "execute_result"
    }
   ],
   "source": [
    "meta.shape\n"
   ]
  },
  {
   "cell_type": "markdown",
   "metadata": {},
   "source": [
    "That tells us we have 138,137 rows and 28 columns in the dataset."
   ]
  },
  {
   "cell_type": "code",
   "execution_count": 5,
   "metadata": {},
   "outputs": [
    {
     "data": {
      "text/plain": [
       "Index(['docid', 'oldauthor', 'author', 'authordate', 'inferreddate',\n",
       "       'latestcomp', 'datetype', 'startdate', 'enddate', 'imprint',\n",
       "       'imprintdate', 'contents', 'genres', 'subjects', 'geographics',\n",
       "       'locnum', 'oclc', 'place', 'recordid', 'instances', 'allcopiesofwork',\n",
       "       'copiesin25yrs', 'enumcron', 'volnum', 'title', 'parttitle',\n",
       "       'earlyedition', 'shorttitle'],\n",
       "      dtype='object')"
      ]
     },
     "execution_count": 5,
     "metadata": {},
     "output_type": "execute_result"
    }
   ],
   "source": [
    "meta.columns"
   ]
  },
  {
   "cell_type": "markdown",
   "metadata": {
    "collapsed": true
   },
   "source": [
    "Let's count the number of volumes that have \"earlyedition\" flagged.\n",
    "\n",
    "To start with, I'll do it in the ordinary Python way we practiced earlier."
   ]
  },
  {
   "cell_type": "code",
   "execution_count": 8,
   "metadata": {},
   "outputs": [
    {
     "name": "stdout",
     "output_type": "stream",
     "text": [
      "129023\n"
     ]
    }
   ],
   "source": [
    "ctr = 0\n",
    "for value in meta.earlyedition:\n",
    "    if value == True:\n",
    "        ctr += 1\n",
    "print(ctr)"
   ]
  },
  {
   "cell_type": "markdown",
   "metadata": {},
   "source": [
    "But there's a simpler way to do that. If you sum a list of Boolean (True/False) values, you get a count of the number of Trues. So, just:"
   ]
  },
  {
   "cell_type": "code",
   "execution_count": 9,
   "metadata": {},
   "outputs": [
    {
     "name": "stdout",
     "output_type": "stream",
     "text": [
      "129023\n"
     ]
    }
   ],
   "source": [
    "print(sum(meta.earlyedition))"
   ]
  },
  {
   "cell_type": "markdown",
   "metadata": {},
   "source": [
    "In any case, this tells us that only about 129,000 of our 138,000 volumes were printed within 25 years of their author's death. I'm going to sample randomly from that group. In fact, if it were possible, I'd restrict even further to books printed within 25 years of the first publication *of that title.* But we don't always directly know a first publication date.\n",
    "\n",
    "### Actually sampling\n",
    "\n",
    "I want to get 100 novels for each decade between 1800-09 and 2000-09. So, let's say 10 volumes a year. But I'm also conscious that we'll be rejecting a lot of books. So I'm going to initially sample 13 volumes a year, with the expectation that almost a third will be rejected.\n",
    "\n",
    "There are easy pandas-specific ways to do this. But I want to demonstrate Python logic, so I'm going to avoid easy things that look like magic tricks and do this a more laborious way.\n",
    "\n",
    "Let's just go through the whole dataset row by row and check the **document ID** and **date of publication.** If the date is between 1800 and 2010, we'll save the document ID and file it in a dictionary (set of file drawers) where the key for each drawer is a particular year, and the contents of each drawer are a list of doc IDs.\n",
    "\n",
    "Then, once we've got the volumes sorted in this manner by date, we can randomly sample 13 volumes from each drawer."
   ]
  },
  {
   "cell_type": "code",
   "execution_count": 11,
   "metadata": {},
   "outputs": [],
   "source": [
    "# To go through a pandas dataframe row by row, you can use the .iterrows() method.\n",
    "\n",
    "bydate = dict()\n",
    "# create the dictionary\n",
    "\n",
    "for idx, row in meta.iterrows():\n",
    "    date = row.inferreddate\n",
    "    docid = row.docid\n",
    "    early = row.earlyedition\n",
    "    \n",
    "    if early == False:\n",
    "        continue\n",
    "        # we're not going to use rows that aren't marked earlyedition\n",
    "        # so we \"continue\" to the next iteration of the loop, and don't\n",
    "        # do anything below\n",
    "    \n",
    "    else:\n",
    "        if date < 1800 or date > 2009:\n",
    "            continue\n",
    "        else:\n",
    "            \n",
    "            if date not in bydate:\n",
    "                # if we haven't encountered any volumes with this date yet,\n",
    "                # create a list with one member\n",
    "                bydate[date] = [docid]\n",
    "            else:\n",
    "                # otherwise, add this docid to the existing list\n",
    "                bydate[date].append(docid)\n",
    "        "
   ]
  },
  {
   "cell_type": "markdown",
   "metadata": {},
   "source": [
    "#### A little visualization\n",
    "\n",
    "What's the date distribution of these volumes, by the way?\n",
    "\n",
    "We can find out by counting the number of volumes in each \"file drawer.\"\n",
    "\n",
    "First we'll import a modules that's useful for plotting graphs. Then we'll go year by year from 1800 to 2009. We'll create a list of x coordinates that is simply the list of years, and a list of y coordinates that is the number of volumes in that year. The we just scatter plot (x, y)."
   ]
  },
  {
   "cell_type": "code",
   "execution_count": 12,
   "metadata": {},
   "outputs": [],
   "source": [
    "from matplotlib import pyplot as plt\n",
    "%matplotlib inline"
   ]
  },
  {
   "cell_type": "code",
   "execution_count": 13,
   "metadata": {},
   "outputs": [
    {
     "data": {
      "image/png": "[encoded data removed]",
      "text/plain": [
       "<matplotlib.figure.Figure at 0x106fba2e8>"
      ]
     },
     "metadata": {},
     "output_type": "display_data"
    }
   ],
   "source": [
    "x = []\n",
    "y = []\n",
    "for year in range(1800, 2010):\n",
    "    x.append(year)\n",
    "    y.append(len(bydate[year]))\n",
    "plt.scatter(x, y)\n",
    "plt.show()"
   ]
  },
  {
   "cell_type": "markdown",
   "metadata": {},
   "source": [
    "You can see that the advent of copyright at 1923 makes a big difference in the size of the collection. I'm not exactly sure why; our collection is not limited to public-domain works. But possibly libraries have been less enthusiastic about digitizing fiction when it can't be made publicly available.\n",
    "\n",
    "We're going to flatten that out and select an evenly-distributed sample."
   ]
  },
  {
   "cell_type": "markdown",
   "metadata": {},
   "source": [
    "#### okay, let's finally select volumes\n",
    "\n",
    "I'm going to go year by year. From the file drawer for each year (```bydate[year]```) I'm going to draw thirteen books.\n",
    "\n",
    "Then I'll add them to a constantly-growing list called ```selected.```\n",
    "\n",
    "Notice how this echoes the counting strategy. Create a counter outside the loop; set it to zero; then loop through a sequence and add one to the counter ... Here we're extending a list instead of adding to a counter."
   ]
  },
  {
   "cell_type": "code",
   "execution_count": 14,
   "metadata": {},
   "outputs": [
    {
     "name": "stdout",
     "output_type": "stream",
     "text": [
      "2730\n"
     ]
    }
   ],
   "source": [
    "selected = list()\n",
    "\n",
    "for yr in range(1800, 2010):\n",
    "    selected.extend(random.sample(bydate[yr], 13))\n",
    "\n",
    "print(len(selected))"
   ]
  },
  {
   "cell_type": "markdown",
   "metadata": {},
   "source": [
    "Once we have a list of document ids we want to select, we can use them to extract the relevant rows from the table ```meta.```"
   ]
  },
  {
   "cell_type": "code",
   "execution_count": 15,
   "metadata": {},
   "outputs": [
    {
     "data": {
      "text/plain": [
       "(2730, 27)"
      ]
     },
     "execution_count": 15,
     "metadata": {},
     "output_type": "execute_result"
    }
   ],
   "source": [
    "# To create a table limited to those document ids, we can just use the \"docid\"\n",
    "# column to *index* meta\n",
    "\n",
    "meta.set_index('docid', inplace = True)\n",
    "\n",
    "# and then select those rows\n",
    "\n",
    "our_meta = meta.loc[selected, : ]\n",
    "our_meta.shape"
   ]
  },
  {
   "cell_type": "markdown",
   "metadata": {},
   "source": [
    "Now actually write that to disk."
   ]
  },
  {
   "cell_type": "code",
   "execution_count": 16,
   "metadata": {},
   "outputs": [],
   "source": [
    "our_meta.to_csv('firstsample.tsv', sep = '\\t')"
   ]
  },
  {
   "cell_type": "markdown",
   "metadata": {},
   "source": [
    "But in exploring this data with you, I quickly found that 28 full-width columns are overwhelming. So let's select a smaller set of twelve columns, and truncate some of them at 25 or 50 characters."
   ]
  },
  {
   "cell_type": "code",
   "execution_count": 47,
   "metadata": {},
   "outputs": [
    {
     "name": "stdout",
     "output_type": "stream",
     "text": [
      "(2730, 18)\n"
     ]
    },
    {
     "data": {
      "text/html": [
       "<div>\n",
       "<table border=\"1\" class=\"dataframe\">\n",
       "  <thead>\n",
       "    <tr style=\"text-align: right;\">\n",
       "      <th></th>\n",
       "      <th>docid</th>\n",
       "      <th>author</th>\n",
       "      <th>realname</th>\n",
       "      <th>pseudonym</th>\n",
       "      <th>gender</th>\n",
       "      <th>nationality</th>\n",
       "      <th>authordate</th>\n",
       "      <th>inferreddate</th>\n",
       "      <th>firstpub</th>\n",
       "      <th>latestcomp</th>\n",
       "      <th>allcopiesofwork</th>\n",
       "      <th>copiesin25yrs</th>\n",
       "      <th>enumcron</th>\n",
       "      <th>imprint</th>\n",
       "      <th>genres</th>\n",
       "      <th>subjects</th>\n",
       "      <th>category</th>\n",
       "      <th>shorttitle</th>\n",
       "    </tr>\n",
       "  </thead>\n",
       "  <tbody>\n",
       "    <tr>\n",
       "      <th>0</th>\n",
       "      <td>nyp.33433074911573</td>\n",
       "      <td>Smith, Charlotte Turner</td>\n",
       "      <td></td>\n",
       "      <td></td>\n",
       "      <td></td>\n",
       "      <td></td>\n",
       "      <td>1749-1806.</td>\n",
       "      <td>1800</td>\n",
       "      <td></td>\n",
       "      <td>1800</td>\n",
       "      <td>1</td>\n",
       "      <td>1</td>\n",
       "      <td>v. 4</td>\n",
       "      <td>London;Printed by and for</td>\n",
       "      <td>Fiction</td>\n",
       "      <td>English fiction</td>\n",
       "      <td></td>\n",
       "      <td>The Hungarian</td>\n",
       "    </tr>\n",
       "    <tr>\n",
       "      <th>1</th>\n",
       "      <td>nyp.33433074911581</td>\n",
       "      <td>Smith, Charlotte Turner</td>\n",
       "      <td></td>\n",
       "      <td></td>\n",
       "      <td></td>\n",
       "      <td></td>\n",
       "      <td>1749-1806.</td>\n",
       "      <td>1800</td>\n",
       "      <td></td>\n",
       "      <td>1800</td>\n",
       "      <td>1</td>\n",
       "      <td>1</td>\n",
       "      <td>v. 5</td>\n",
       "      <td>London;Printed by and for</td>\n",
       "      <td>Fiction</td>\n",
       "      <td>English fiction</td>\n",
       "      <td></td>\n",
       "      <td>The Hungarian (con't.) Leonora.  Guilelmine de...</td>\n",
       "    </tr>\n",
       "    <tr>\n",
       "      <th>2</th>\n",
       "      <td>njp.32101037604772</td>\n",
       "      <td>Du Bois, Edward</td>\n",
       "      <td></td>\n",
       "      <td></td>\n",
       "      <td></td>\n",
       "      <td></td>\n",
       "      <td>1774-1850.</td>\n",
       "      <td>1800</td>\n",
       "      <td></td>\n",
       "      <td>1800</td>\n",
       "      <td>1</td>\n",
       "      <td>1</td>\n",
       "      <td>NaN</td>\n",
       "      <td>London;Printed for J. Wri</td>\n",
       "      <td>Fiction</td>\n",
       "      <td>Godwin, William|1756-1836</td>\n",
       "      <td></td>\n",
       "      <td>St. Godwin: a tale of the sixteenth, seventeen...</td>\n",
       "    </tr>\n",
       "    <tr>\n",
       "      <th>3</th>\n",
       "      <td>hvd.hn2he3</td>\n",
       "      <td>Kendall, Edward Augustus</td>\n",
       "      <td></td>\n",
       "      <td></td>\n",
       "      <td></td>\n",
       "      <td></td>\n",
       "      <td>1776?-1842.</td>\n",
       "      <td>1800</td>\n",
       "      <td></td>\n",
       "      <td>1800</td>\n",
       "      <td>1</td>\n",
       "      <td>1</td>\n",
       "      <td>NaN</td>\n",
       "      <td>London;Printed for E. New</td>\n",
       "      <td>Juvenile audience|Fiction</td>\n",
       "      <td>Conduct of life|Children'</td>\n",
       "      <td></td>\n",
       "      <td>The stories of Senex, or, Little histories of ...</td>\n",
       "    </tr>\n",
       "    <tr>\n",
       "      <th>4</th>\n",
       "      <td>hvd.hn2he5</td>\n",
       "      <td>NaN</td>\n",
       "      <td></td>\n",
       "      <td></td>\n",
       "      <td></td>\n",
       "      <td></td>\n",
       "      <td>NaN</td>\n",
       "      <td>1800</td>\n",
       "      <td></td>\n",
       "      <td>1800</td>\n",
       "      <td>1</td>\n",
       "      <td>1</td>\n",
       "      <td>NaN</td>\n",
       "      <td>London;Printed for Vernor</td>\n",
       "      <td>Fiction</td>\n",
       "      <td></td>\n",
       "      <td></td>\n",
       "      <td>The Governess, or, Evening amusements at a boa...</td>\n",
       "    </tr>\n",
       "  </tbody>\n",
       "</table>\n",
       "</div>"
      ],
      "text/plain": [
       "                docid                    author realname pseudonym gender  \\\n",
       "0  nyp.33433074911573   Smith, Charlotte Turner                             \n",
       "1  nyp.33433074911581   Smith, Charlotte Turner                             \n",
       "2  njp.32101037604772           Du Bois, Edward                             \n",
       "3          hvd.hn2he3  Kendall, Edward Augustus                             \n",
       "4          hvd.hn2he5                       NaN                             \n",
       "\n",
       "  nationality   authordate  inferreddate firstpub  latestcomp  \\\n",
       "0               1749-1806.          1800                 1800   \n",
       "1               1749-1806.          1800                 1800   \n",
       "2               1774-1850.          1800                 1800   \n",
       "3              1776?-1842.          1800                 1800   \n",
       "4                      NaN          1800                 1800   \n",
       "\n",
       "   allcopiesofwork  copiesin25yrs enumcron                    imprint  \\\n",
       "0                1              1     v. 4  London;Printed by and for   \n",
       "1                1              1     v. 5  London;Printed by and for   \n",
       "2                1              1      NaN  London;Printed for J. Wri   \n",
       "3                1              1      NaN  London;Printed for E. New   \n",
       "4                1              1      NaN  London;Printed for Vernor   \n",
       "\n",
       "                      genres                   subjects category  \\\n",
       "0                    Fiction            English fiction            \n",
       "1                    Fiction            English fiction            \n",
       "2                    Fiction  Godwin, William|1756-1836            \n",
       "3  Juvenile audience|Fiction  Conduct of life|Children'            \n",
       "4                    Fiction                                       \n",
       "\n",
       "                                          shorttitle  \n",
       "0                                      The Hungarian  \n",
       "1  The Hungarian (con't.) Leonora.  Guilelmine de...  \n",
       "2  St. Godwin: a tale of the sixteenth, seventeen...  \n",
       "3  The stories of Senex, or, Little histories of ...  \n",
       "4  The Governess, or, Evening amusements at a boa...  "
      ]
     },
     "execution_count": 47,
     "metadata": {},
     "output_type": "execute_result"
    }
   ],
   "source": [
    "def truncate25(afield):\n",
    "    if pd.isnull(afield):\n",
    "        return ''\n",
    "    elif len(afield) <= 25:\n",
    "        return afield\n",
    "    else:\n",
    "        return afield[0:25]\n",
    "\n",
    "def shrinkframe(indf):\n",
    "    df = indf.copy()\n",
    "    df.reset_index(inplace = True)\n",
    "    newdf = df[['docid', 'author', 'authordate', 'inferreddate', 'latestcomp', 'allcopiesofwork', 'copiesin25yrs', 'enumcron']]\n",
    "    newdf = newdf.assign(imprint = df.imprint.map(truncate25))\n",
    "    newdf = newdf.assign(genres = df.genres.map(truncate25))\n",
    "    newdf = newdf.assign(subjects = df.subjects.map(truncate25))\n",
    "    newdf = newdf.assign(shorttitle = df.shorttitle)\n",
    "    newdf = newdf.assign(realname = '')\n",
    "    newdf = newdf.assign(pseudonym = '')\n",
    "    newdf = newdf.assign(category = '')\n",
    "    newdf = newdf.assign(firstpub = '')\n",
    "    newdf = newdf.assign(realname = '')\n",
    "    newdf = newdf.assign(gender = '')\n",
    "    newdf = newdf.assign(nationality = '')\n",
    "    newdf = newdf[['docid', 'author', 'realname', 'pseudonym', 'gender', 'nationality', 'authordate', \n",
    "                   'inferreddate', 'firstpub', 'latestcomp', 'allcopiesofwork', 'copiesin25yrs',\n",
    "                   'enumcron', 'imprint', 'genres', 'subjects', 'category', 'shorttitle']]\n",
    "    \n",
    "    return newdf\n",
    "\n",
    "shrunk = shrinkframe(our_meta)\n",
    "print(shrunk.shape)\n",
    "shrunk.head()"
   ]
  },
  {
   "cell_type": "markdown",
   "metadata": {},
   "source": [
    "Now we need to divide this dataframe into three parts for the three of us. I'm giving 1200 rows to both of you, and taking 330 rows for myself as a sample, so I know what kind of problems you're encountering.\n",
    "\n",
    "#### divide in three parts\n",
    "\n",
    "We start by shuffling the index of our_meta, which is just a numeric index right now."
   ]
  },
  {
   "cell_type": "code",
   "execution_count": 37,
   "metadata": {},
   "outputs": [
    {
     "data": {
      "text/plain": [
       "[2230,\n",
       " 241,\n",
       " 61,\n",
       " 1823,\n",
       " 559,\n",
       " 1494,\n",
       " 344,\n",
       " 994,\n",
       " 72,\n",
       " 1604,\n",
       " 713,\n",
       " 29,\n",
       " 721,\n",
       " 2311,\n",
       " 2006,\n",
       " 1244,\n",
       " 506,\n",
       " 1890,\n",
       " 1412,\n",
       " 1582]"
      ]
     },
     "execution_count": 37,
     "metadata": {},
     "output_type": "execute_result"
    }
   ],
   "source": [
    "indices = our_meta.index.tolist()\n",
    "random.shuffle(indices)\n",
    "indices[0:20]"
   ]
  },
  {
   "cell_type": "markdown",
   "metadata": {},
   "source": [
    "Then divide that random sequence into chunks like so:"
   ]
  },
  {
   "cell_type": "code",
   "execution_count": 38,
   "metadata": {},
   "outputs": [],
   "source": [
    "forjessica = indices[0: 1200]\n",
    "forpatrick = indices[1200: 2400]\n",
    "forted = indices[2400 : ]"
   ]
  },
  {
   "cell_type": "code",
   "execution_count": 48,
   "metadata": {},
   "outputs": [],
   "source": [
    "teddf = shrinkframe(our_meta.loc[forted, ])\n",
    "teddf.to_csv('ted.tsv', sep = '\\t', index = False)"
   ]
  },
  {
   "cell_type": "code",
   "execution_count": 49,
   "metadata": {},
   "outputs": [],
   "source": [
    "jessdf = shrinkframe(our_meta.loc[forjessica, ])\n",
    "jessdf.to_csv('jessica.tsv', sep = '\\t', index = False)"
   ]
  },
  {
   "cell_type": "code",
   "execution_count": 50,
   "metadata": {},
   "outputs": [],
   "source": [
    "patdf = shrinkframe(our_meta.loc[forpatrick, ])\n",
    "patdf.to_csv('patrick.tsv', sep = '\\t', index = False)"
   ]
  },
  {
   "cell_type": "markdown",
   "metadata": {},
   "source": [
    "### Sanity checks"
   ]
  },
  {
   "cell_type": "code",
   "execution_count": 51,
   "metadata": {},
   "outputs": [
    {
     "data": {
      "image/png": "[encoded data removed]",
      "text/plain": [
       "<matplotlib.figure.Figure at 0x1315409e8>"
      ]
     },
     "metadata": {},
     "output_type": "display_data"
    }
   ],
   "source": [
    "plt.hist(our_meta.inferreddate)\n",
    "plt.show()"
   ]
  },
  {
   "cell_type": "markdown",
   "metadata": {},
   "source": [
    "Good. even distribution across time"
   ]
  },
  {
   "cell_type": "code",
   "execution_count": 52,
   "metadata": {},
   "outputs": [
    {
     "data": {
      "text/plain": [
       "2009"
      ]
     },
     "execution_count": 52,
     "metadata": {},
     "output_type": "execute_result"
    }
   ],
   "source": [
    "max(our_meta.inferreddate)"
   ]
  },
  {
   "cell_type": "code",
   "execution_count": 53,
   "metadata": {},
   "outputs": [
    {
     "data": {
      "text/plain": [
       "1800"
      ]
     },
     "execution_count": 53,
     "metadata": {},
     "output_type": "execute_result"
    }
   ],
   "source": [
    "min(our_meta.inferreddate)"
   ]
  },
  {
   "cell_type": "code",
   "execution_count": null,
   "metadata": {},
   "outputs": [],
   "source": []
  }
 ],
 "metadata": {
  "anaconda-cloud": {},
  "kernelspec": {
   "display_name": "Python 3",
   "language": "python",
   "name": "python3"
  },
  "language_info": {
   "codemirror_mode": {
    "name": "ipython",
    "version": 3
   },
   "file_extension": ".py",
   "mimetype": "text/x-python",
   "name": "python",
   "nbconvert_exporter": "python",
   "pygments_lexer": "ipython3",
   "version": "3.5.2"
  }
 },
 "nbformat": 4,
 "nbformat_minor": 1
}
