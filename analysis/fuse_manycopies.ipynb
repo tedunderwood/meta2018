{
 "cells": [
  {
   "cell_type": "markdown",
   "metadata": {},
   "source": [
    "# Fuse manycopies data\n",
    "\n",
    "This unites the three \"manycopies\" files, which then will be used to supplement our existing data to produce a reprint-proportional sample."
   ]
  },
  {
   "cell_type": "code",
   "execution_count": 1,
   "metadata": {
    "collapsed": true
   },
   "outputs": [],
   "source": [
    "import pandas as pd"
   ]
  },
  {
   "cell_type": "code",
   "execution_count": 2,
   "metadata": {
    "collapsed": true
   },
   "outputs": [],
   "source": [
    "jmc = pd.read_csv('../copies/jessicamanycopies.csv', index_col = 'docid')\n",
    "tmc = pd.read_csv('../copies/tedmanycopies.csv', index_col = 'docid')\n",
    "pmc = pd.read_csv('../copies/patrickmanycopies.csv', index_col = 'docid')"
   ]
  },
  {
   "cell_type": "code",
   "execution_count": 4,
   "metadata": {
    "collapsed": false
   },
   "outputs": [
    {
     "data": {
      "text/plain": [
       "['author',\n",
       " 'realname',\n",
       " 'pseudonym',\n",
       " 'gender',\n",
       " 'nationality',\n",
       " 'authordate',\n",
       " 'inferreddate',\n",
       " 'firstpub',\n",
       " 'latestcomp',\n",
       " 'allcopiesofwork',\n",
       " 'copiesin25yrs',\n",
       " 'enumcron',\n",
       " 'imprint',\n",
       " 'genres',\n",
       " 'subjects',\n",
       " 'category',\n",
       " 'shorttitle']"
      ]
     },
     "execution_count": 4,
     "metadata": {},
     "output_type": "execute_result"
    }
   ],
   "source": [
    "columns = tmc.columns.tolist()\n",
    "columns"
   ]
  },
  {
   "cell_type": "code",
   "execution_count": 17,
   "metadata": {
    "collapsed": true
   },
   "outputs": [],
   "source": [
    "def reconcile_rows(existingrow, newrow):\n",
    "    ''' Accepts two rows as dicts and reconciles them\n",
    "    to produce a consensus. Generally the rule\n",
    "    '''\n",
    "    consensus = dict()\n",
    "    \n",
    "    takelonger = ['realname', 'pseudonym', 'nationality', 'gender',\n",
    "                  'authordate', 'enumcron', 'imprint', 'genres',\n",
    "                 'subjects', 'shorttitle', 'latestcomp']\n",
    "    shouldagree = ['author', 'copiesin25yrs', 'allcopiesofwork', \n",
    "                   'inferreddate']\n",
    "    \n",
    "    takelonger.extend(shouldagree)\n",
    "    \n",
    "    # The columns 'firstpub' and 'category' are special cases,\n",
    "    # governed by separate rules\n",
    "    \n",
    "    for col in takelonger:\n",
    "        if pd.isnull(existingrow[col]): \n",
    "            existinglen = 0\n",
    "        else:\n",
    "            existinglen = len(str(existingrow[col]))\n",
    "            \n",
    "        if pd.isnull(newrow[col]):\n",
    "            newlen = 0\n",
    "        else:\n",
    "            newlen = len(str(newrow[col]))\n",
    "        \n",
    "        if newlen > existinglen:\n",
    "            consensus[col] = newrow[col]\n",
    "        else:\n",
    "            # notice that in cases of a tie, the\n",
    "            # existing value remains\n",
    "            consensus[col] = existingrow[col]\n",
    "    \n",
    "        if existingrow[col] != newrow[col] and col in shouldagree:\n",
    "            print('Disagreement: ', col, existingrow[col], newrow[col])\n",
    "    \n",
    "    if pd.isnull(existingrow['firstpub']):\n",
    "        existfirst = 3000\n",
    "    else:\n",
    "        existfirst = int(existingrow['firstpub'])\n",
    "        \n",
    "    if pd.isnull(newrow['firstpub']):\n",
    "        newfirst = 3000\n",
    "    else:\n",
    "        newfirst = int(newrow['firstpub'])\n",
    "    \n",
    "    if newfirst < existfirst:\n",
    "        consensus['firstpub'] = newfirst\n",
    "    elif existfirst > 2050:\n",
    "        consensus['firstpub'] = float('nan')\n",
    "    else:\n",
    "        consensus['firstpub'] = existfirst     \n",
    "    \n",
    "    if not pd.isnull(consensus['firstpub']):\n",
    "        firstpub = int(consensus['firstpub'])\n",
    "        if firstpub < int(consensus['latestcomp']):\n",
    "            consensus['latestcomp'] == firstpub\n",
    "        \n",
    "        # we take the earliest date as latestcomp;\n",
    "        # we leave nulls in the firstpub row because they\n",
    "        # may indicate cases where there was no new\n",
    "        # information discovered; this may affect our certainty\n",
    "    \n",
    "    if existingrow['category'] == newrow['category']:\n",
    "        consensus['category'] = existingrow['category']\n",
    "        \n",
    "    # before 1890 we are pretty skeptical about short stories\n",
    "    \n",
    "    elif int(consensus['latestcomp']) < 1890 and newrow['category'] == 'shortstories':\n",
    "        consensus['category'] = existingrow['category']\n",
    "    \n",
    "    elif int(consensus['latestcomp']) < 1890 and existingrow['category'] == 'shortstories':\n",
    "        consensus['category'] = newrow['category']\n",
    "    \n",
    "    # if people say this is a reprint, we believe them\n",
    "    elif newrow['category'] == 'reprint':\n",
    "        consensus['category'] = 'reprint'\n",
    "        \n",
    "    else:\n",
    "        consensus['category'] = existingrow['category']\n",
    "        # be default we trust the existing testimony\n",
    "        \n",
    "    return consensus\n",
    "    "
   ]
  },
  {
   "cell_type": "code",
   "execution_count": 18,
   "metadata": {
    "collapsed": false
   },
   "outputs": [
    {
     "name": "stdout",
     "output_type": "stream",
     "text": [
      "Disagreement:  author nan nan\n",
      "Disagreement:  author Hill, Herbert, ed. Hill, Herbert\n",
      "Disagreement:  author nan nan\n",
      "Disagreement:  author nan nan\n",
      "482\n"
     ]
    }
   ],
   "source": [
    "sequence = [tmc, jmc, pmc]\n",
    "\n",
    "exist = dict()\n",
    "\n",
    "def get_dict(row):\n",
    "    global columns\n",
    "    adict = dict()\n",
    "    for col in columns:\n",
    "        adict[col] = row[col]\n",
    "    \n",
    "    if pd.isnull(adict['firstpub']):\n",
    "        first = 3000\n",
    "    else:\n",
    "        first = int(adict['firstpub'])\n",
    "    \n",
    "    if first < int(adict['latestcomp']):\n",
    "        adict['latestcomp'] = first\n",
    "        \n",
    "    return adict\n",
    "        \n",
    "\n",
    "for df in sequence:\n",
    "    for idx, row in df.iterrows():\n",
    "        if idx not in exist:\n",
    "            exist[idx] = get_dict(row)\n",
    "        else:\n",
    "            exist_row = exist[idx]\n",
    "            new_row = get_dict(row)\n",
    "            consensus = reconcile_rows(exist_row, new_row)\n",
    "            exist[idx] = consensus\n",
    "\n",
    "print(len(exist))"
   ]
  },
  {
   "cell_type": "code",
   "execution_count": 19,
   "metadata": {
    "collapsed": false
   },
   "outputs": [
    {
     "data": {
      "text/html": [
       "<div>\n",
       "<table border=\"1\" class=\"dataframe\">\n",
       "  <thead>\n",
       "    <tr style=\"text-align: right;\">\n",
       "      <th></th>\n",
       "      <th>enumcron</th>\n",
       "      <th>subjects</th>\n",
       "      <th>shorttitle</th>\n",
       "      <th>authordate</th>\n",
       "      <th>inferreddate</th>\n",
       "      <th>latestcomp</th>\n",
       "      <th>nationality</th>\n",
       "      <th>copiesin25yrs</th>\n",
       "      <th>author</th>\n",
       "      <th>category</th>\n",
       "      <th>allcopiesofwork</th>\n",
       "      <th>gender</th>\n",
       "      <th>pseudonym</th>\n",
       "      <th>genres</th>\n",
       "      <th>realname</th>\n",
       "      <th>firstpub</th>\n",
       "      <th>imprint</th>\n",
       "    </tr>\n",
       "  </thead>\n",
       "  <tbody>\n",
       "    <tr>\n",
       "      <th>coo.31924022000370</th>\n",
       "      <td>v.2</td>\n",
       "      <td>NaN</td>\n",
       "      <td>Tower of ivory; a novel</td>\n",
       "      <td>1857-1948.</td>\n",
       "      <td>1910</td>\n",
       "      <td>1910</td>\n",
       "      <td>us</td>\n",
       "      <td>7</td>\n",
       "      <td>Atherton, Gertrude Franklin Horn</td>\n",
       "      <td>novel</td>\n",
       "      <td>7</td>\n",
       "      <td>f</td>\n",
       "      <td>NaN</td>\n",
       "      <td>Fiction|NotFiction</td>\n",
       "      <td>NaN</td>\n",
       "      <td>NaN</td>\n",
       "      <td>Leipzig;B. Tauchnitz;1910.</td>\n",
       "    </tr>\n",
       "    <tr>\n",
       "      <th>coo.31924060446899</th>\n",
       "      <td>v.2</td>\n",
       "      <td>NaN</td>\n",
       "      <td>Temptation</td>\n",
       "      <td>1860-1921.</td>\n",
       "      <td>1907</td>\n",
       "      <td>1907</td>\n",
       "      <td>uk</td>\n",
       "      <td>2</td>\n",
       "      <td>Bagot, Richard</td>\n",
       "      <td>novel</td>\n",
       "      <td>2</td>\n",
       "      <td>m</td>\n",
       "      <td>NaN</td>\n",
       "      <td>NotFiction</td>\n",
       "      <td>NaN</td>\n",
       "      <td>NaN</td>\n",
       "      <td>Leipzig;B. Tauchnitz;1907.</td>\n",
       "    </tr>\n",
       "    <tr>\n",
       "      <th>coo.31924064975323</th>\n",
       "      <td>v.2</td>\n",
       "      <td>NaN</td>\n",
       "      <td>The extermination of love, a fragmentary study...</td>\n",
       "      <td>1849-1905.</td>\n",
       "      <td>1901</td>\n",
       "      <td>1901</td>\n",
       "      <td>NaN</td>\n",
       "      <td>2</td>\n",
       "      <td>Gerard, E. (Emily)</td>\n",
       "      <td>nonfic</td>\n",
       "      <td>2</td>\n",
       "      <td>NaN</td>\n",
       "      <td>NaN</td>\n",
       "      <td>NotFiction</td>\n",
       "      <td>NaN</td>\n",
       "      <td>NaN</td>\n",
       "      <td>Leipzig;B. Tauchnitz;1901.</td>\n",
       "    </tr>\n",
       "    <tr>\n",
       "      <th>coo.31924065002358</th>\n",
       "      <td>v.2</td>\n",
       "      <td>823Y8TW</td>\n",
       "      <td>The two sides of the shield</td>\n",
       "      <td>1823-1901.</td>\n",
       "      <td>1885</td>\n",
       "      <td>1885</td>\n",
       "      <td>uk</td>\n",
       "      <td>7</td>\n",
       "      <td>Yonge, Charlotte M. (Charlotte Mary)</td>\n",
       "      <td>novel</td>\n",
       "      <td>7</td>\n",
       "      <td>f</td>\n",
       "      <td>NaN</td>\n",
       "      <td>Fiction|NotFiction</td>\n",
       "      <td>Yonge, Charlotte Mary</td>\n",
       "      <td>NaN</td>\n",
       "      <td>Leipzig;B. Tauchnitz;1885.</td>\n",
       "    </tr>\n",
       "    <tr>\n",
       "      <th>dul1.ark+=13960=t2b85xw79</th>\n",
       "      <td>v.1</td>\n",
       "      <td>Utopias</td>\n",
       "      <td>Our own Pompeii</td>\n",
       "      <td>1856-1941.</td>\n",
       "      <td>1887</td>\n",
       "      <td>1887</td>\n",
       "      <td>uk</td>\n",
       "      <td>2</td>\n",
       "      <td>Fox, S. M</td>\n",
       "      <td>novel</td>\n",
       "      <td>2</td>\n",
       "      <td>m</td>\n",
       "      <td>NaN</td>\n",
       "      <td>NaN</td>\n",
       "      <td>NaN</td>\n",
       "      <td>NaN</td>\n",
       "      <td>Edinburgh;W. Blackwood and Sons;1887.</td>\n",
       "    </tr>\n",
       "  </tbody>\n",
       "</table>\n",
       "</div>"
      ],
      "text/plain": [
       "                          enumcron subjects  \\\n",
       "coo.31924022000370             v.2      NaN   \n",
       "coo.31924060446899             v.2      NaN   \n",
       "coo.31924064975323             v.2      NaN   \n",
       "coo.31924065002358             v.2  823Y8TW   \n",
       "dul1.ark+=13960=t2b85xw79      v.1  Utopias   \n",
       "\n",
       "                                                                  shorttitle  \\\n",
       "coo.31924022000370                                   Tower of ivory; a novel   \n",
       "coo.31924060446899                                                Temptation   \n",
       "coo.31924064975323         The extermination of love, a fragmentary study...   \n",
       "coo.31924065002358                               The two sides of the shield   \n",
       "dul1.ark+=13960=t2b85xw79                                    Our own Pompeii   \n",
       "\n",
       "                           authordate  inferreddate  latestcomp nationality  \\\n",
       "coo.31924022000370         1857-1948.          1910        1910          us   \n",
       "coo.31924060446899         1860-1921.          1907        1907          uk   \n",
       "coo.31924064975323         1849-1905.          1901        1901         NaN   \n",
       "coo.31924065002358         1823-1901.          1885        1885          uk   \n",
       "dul1.ark+=13960=t2b85xw79  1856-1941.          1887        1887          uk   \n",
       "\n",
       "                           copiesin25yrs  \\\n",
       "coo.31924022000370                     7   \n",
       "coo.31924060446899                     2   \n",
       "coo.31924064975323                     2   \n",
       "coo.31924065002358                     7   \n",
       "dul1.ark+=13960=t2b85xw79              2   \n",
       "\n",
       "                                                         author category  \\\n",
       "coo.31924022000370             Atherton, Gertrude Franklin Horn    novel   \n",
       "coo.31924060446899                               Bagot, Richard    novel   \n",
       "coo.31924064975323                           Gerard, E. (Emily)   nonfic   \n",
       "coo.31924065002358         Yonge, Charlotte M. (Charlotte Mary)    novel   \n",
       "dul1.ark+=13960=t2b85xw79                             Fox, S. M    novel   \n",
       "\n",
       "                           allcopiesofwork gender pseudonym  \\\n",
       "coo.31924022000370                       7      f       NaN   \n",
       "coo.31924060446899                       2      m       NaN   \n",
       "coo.31924064975323                       2    NaN       NaN   \n",
       "coo.31924065002358                       7      f       NaN   \n",
       "dul1.ark+=13960=t2b85xw79                2      m       NaN   \n",
       "\n",
       "                                       genres               realname  \\\n",
       "coo.31924022000370         Fiction|NotFiction                    NaN   \n",
       "coo.31924060446899                 NotFiction                    NaN   \n",
       "coo.31924064975323                 NotFiction                    NaN   \n",
       "coo.31924065002358         Fiction|NotFiction  Yonge, Charlotte Mary   \n",
       "dul1.ark+=13960=t2b85xw79                 NaN                    NaN   \n",
       "\n",
       "                           firstpub                                imprint  \n",
       "coo.31924022000370              NaN             Leipzig;B. Tauchnitz;1910.  \n",
       "coo.31924060446899              NaN             Leipzig;B. Tauchnitz;1907.  \n",
       "coo.31924064975323              NaN             Leipzig;B. Tauchnitz;1901.  \n",
       "coo.31924065002358              NaN             Leipzig;B. Tauchnitz;1885.  \n",
       "dul1.ark+=13960=t2b85xw79       NaN  Edinburgh;W. Blackwood and Sons;1887.  "
      ]
     },
     "execution_count": 19,
     "metadata": {},
     "output_type": "execute_result"
    }
   ],
   "source": [
    "df = pd.DataFrame.from_dict(exist, orient = 'index')\n",
    "df.head()"
   ]
  },
  {
   "cell_type": "code",
   "execution_count": 20,
   "metadata": {
    "collapsed": true
   },
   "outputs": [],
   "source": [
    "reconciled = df[columns]\n",
    "reconciled.sort_values(by = 'latestcomp', inplace = True)"
   ]
  },
  {
   "cell_type": "code",
   "execution_count": 13,
   "metadata": {
    "collapsed": false
   },
   "outputs": [
    {
     "name": "stdout",
     "output_type": "stream",
     "text": [
      "compare_manycopies.ipynb  fuse_manycopies.ipynb\r\n"
     ]
    }
   ],
   "source": [
    "ls"
   ]
  },
  {
   "cell_type": "code",
   "execution_count": 21,
   "metadata": {
    "collapsed": true
   },
   "outputs": [],
   "source": [
    "reconciled.to_csv('manycopies_reconciled.tsv', sep = '\\t', index_label = 'docid')"
   ]
  },
  {
   "cell_type": "code",
   "execution_count": 22,
   "metadata": {
    "collapsed": false
   },
   "outputs": [
    {
     "data": {
      "text/plain": [
       "392"
      ]
     },
     "execution_count": 22,
     "metadata": {},
     "output_type": "execute_result"
    }
   ],
   "source": [
    "sum(reconciled.category == 'novel')"
   ]
  },
  {
   "cell_type": "code",
   "execution_count": null,
   "metadata": {
    "collapsed": true
   },
   "outputs": [],
   "source": []
  }
 ],
 "metadata": {
  "anaconda-cloud": {},
  "kernelspec": {
   "display_name": "Python [conda root]",
   "language": "python",
   "name": "conda-root-py"
  },
  "language_info": {
   "codemirror_mode": {
    "name": "ipython",
    "version": 3
   },
   "file_extension": ".py",
   "mimetype": "text/x-python",
   "name": "python",
   "nbconvert_exporter": "python",
   "pygments_lexer": "ipython3",
   "version": "3.5.2"
  }
 },
 "nbformat": 4,
 "nbformat_minor": 1
}
