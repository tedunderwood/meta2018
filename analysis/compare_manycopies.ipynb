{
 "cells": [
  {
   "cell_type": "markdown",
   "metadata": {},
   "source": [
    "# Starting to compare the original and reprint-proportional samples\n",
    "\n"
   ]
  },
  {
   "cell_type": "code",
   "execution_count": 1,
   "metadata": {
    "collapsed": true
   },
   "outputs": [],
   "source": [
    "import pandas as pd"
   ]
  },
  {
   "cell_type": "code",
   "execution_count": 7,
   "metadata": {
    "collapsed": false
   },
   "outputs": [
    {
     "name": "stdout",
     "output_type": "stream",
     "text": [
      "oft_reprinted.csv      patrickmanycopies.csv\r\n",
      "oldjessmanycopies.csv  tedmanycopies.csv\r\n"
     ]
    }
   ],
   "source": [
    "ls ../copies"
   ]
  },
  {
   "cell_type": "code",
   "execution_count": 11,
   "metadata": {
    "collapsed": false
   },
   "outputs": [],
   "source": [
    "jmc = pd.read_csv('../copies/jessicamanycopies.csv', index_col = 'docid')"
   ]
  },
  {
   "cell_type": "code",
   "execution_count": 12,
   "metadata": {
    "collapsed": true
   },
   "outputs": [],
   "source": [
    "pmc = pd.read_csv('../copies/patrickmanycopies.csv', index_col = 'docid')"
   ]
  },
  {
   "cell_type": "code",
   "execution_count": 13,
   "metadata": {
    "collapsed": false
   },
   "outputs": [
    {
     "name": "stdout",
     "output_type": "stream",
     "text": [
      "reprint novel\n",
      "Fiction novel\n",
      "Fiction|NotFiction novel\n",
      "Fiction|NotFiction novel\n",
      "Fiction novel\n",
      "Fiction shortstories\n",
      "Domestic fiction|ContainsBiogMaterial|NotFiction|Bibliographies|Fiction|UnknownGenre novel\n",
      "nan novel\n",
      "nan nonfic\n",
      "nan novel\n",
      "Autobiography|NotFiction|Pastoral fiction|Fiction|UnknownGenre novel\n",
      "nan novel\n",
      "nan novel\n",
      "Fiction novel\n",
      "Fiction|NotFiction novel\n",
      "NotFiction novel\n",
      "novel shortstories\n",
      "UnknownGenre|NotFiction reprint\n",
      "nan novel\n",
      "Fiction novel\n",
      "NotFiction nonfic\n",
      "novel shortstories\n",
      "novel shortstories\n",
      "0.4339622641509434\n"
     ]
    }
   ],
   "source": [
    "agree = 0\n",
    "disagree = 0\n",
    "\n",
    "for idx in jmc.index:\n",
    "    if idx not in pmc.index:\n",
    "        continue\n",
    "    else:\n",
    "        onecat = jmc.loc[idx, 'category']\n",
    "        othercat = pmc.loc[idx, 'category']\n",
    "        if onecat == othercat:\n",
    "            agree += 1\n",
    "        else:\n",
    "            print(onecat, othercat)\n",
    "            disagree +=1\n",
    "\n",
    "print(disagree / (agree + disagree))"
   ]
  },
  {
   "cell_type": "code",
   "execution_count": null,
   "metadata": {
    "collapsed": true
   },
   "outputs": [],
   "source": []
  }
 ],
 "metadata": {
  "anaconda-cloud": {},
  "kernelspec": {
   "display_name": "Python [default]",
   "language": "python",
   "name": "python3"
  },
  "language_info": {
   "codemirror_mode": {
    "name": "ipython",
    "version": 3
   },
   "file_extension": ".py",
   "mimetype": "text/x-python",
   "name": "python",
   "nbconvert_exporter": "python",
   "pygments_lexer": "ipython3",
   "version": "3.5.2"
  }
 },
 "nbformat": 4,
 "nbformat_minor": 2
}
