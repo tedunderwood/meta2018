{
 "cells": [
  {
   "cell_type": "markdown",
   "metadata": {},
   "source": [
    "# Starting to compare the original and reprint-proportional samples\n",
    "\n"
   ]
  },
  {
   "cell_type": "code",
   "execution_count": 1,
   "metadata": {
    "collapsed": true
   },
   "outputs": [],
   "source": [
    "import pandas as pd"
   ]
  },
  {
   "cell_type": "code",
   "execution_count": 2,
   "metadata": {
    "collapsed": false
   },
   "outputs": [
    {
     "name": "stdout",
     "output_type": "stream",
     "text": [
      "jessicamanycopies.csv   oldjessmanycopies.csv   tedmanycopies.csv\r\n",
      "oft_reprinted.csv       patrickmanycopies.csv   tedmanycopiesexcel.csv\r\n"
     ]
    }
   ],
   "source": [
    "ls ../copies"
   ]
  },
  {
   "cell_type": "code",
   "execution_count": 3,
   "metadata": {
    "collapsed": false
   },
   "outputs": [],
   "source": [
    "jmc = pd.read_csv('../copies/jessicamanycopies.csv', index_col = 'docid')"
   ]
  },
  {
   "cell_type": "code",
   "execution_count": 4,
   "metadata": {
    "collapsed": true
   },
   "outputs": [],
   "source": [
    "pmc = pd.read_csv('../copies/patrickmanycopies.csv', index_col = 'docid')"
   ]
  },
  {
   "cell_type": "code",
   "execution_count": 5,
   "metadata": {
    "collapsed": false
   },
   "outputs": [
    {
     "name": "stdout",
     "output_type": "stream",
     "text": [
      "reprint novel\n",
      "nonfic novel\n",
      "shortstories nonfic\n",
      "novel shortstories\n",
      "shortstories reprint\n",
      "reprint nonfic\n",
      "novel shortstories\n",
      "novel shortstories\n",
      "0.1509433962264151\n"
     ]
    }
   ],
   "source": [
    "agree = 0\n",
    "disagree = 0\n",
    "\n",
    "for idx in jmc.index:\n",
    "    if idx not in pmc.index:\n",
    "        continue\n",
    "    else:\n",
    "        onecat = jmc.loc[idx, 'category']\n",
    "        othercat = pmc.loc[idx, 'category']\n",
    "        if onecat == othercat:\n",
    "            agree += 1\n",
    "        else:\n",
    "            print(onecat, othercat)\n",
    "            disagree +=1\n",
    "\n",
    "print(disagree / (agree + disagree))"
   ]
  },
  {
   "cell_type": "code",
   "execution_count": 6,
   "metadata": {
    "collapsed": true
   },
   "outputs": [],
   "source": [
    "tmc = pd.read_csv('../copies/tedmanycopies.csv', index_col = 'docid')"
   ]
  },
  {
   "cell_type": "code",
   "execution_count": 7,
   "metadata": {
    "collapsed": false
   },
   "outputs": [
    {
     "name": "stdout",
     "output_type": "stream",
     "text": [
      "juvenile | shortstories novel\n",
      "nonfic novel\n",
      "shortstories novel\n",
      "novel nonfic\n",
      "novel shortstories\n",
      "nonfic shortstories\n",
      "0.10526315789473684\n"
     ]
    }
   ],
   "source": [
    "agree = 0\n",
    "disagree = 0\n",
    "\n",
    "for idx in jmc.index:\n",
    "    if idx not in tmc.index:\n",
    "        continue\n",
    "    else:\n",
    "        onecat = jmc.loc[idx, 'category']\n",
    "        othercat = tmc.loc[idx, 'category']\n",
    "        if onecat == othercat:\n",
    "            agree += 1\n",
    "        else:\n",
    "            print(onecat, othercat)\n",
    "            disagree +=1\n",
    "\n",
    "print(disagree / (agree + disagree))"
   ]
  },
  {
   "cell_type": "code",
   "execution_count": 8,
   "metadata": {
    "collapsed": false
   },
   "outputs": [
    {
     "name": "stdout",
     "output_type": "stream",
     "text": [
      "shortstories novel\n",
      "shortstories novel\n",
      "novel nonfic\n",
      "reprint novel\n",
      "shortstories novel\n",
      "0.09615384615384616\n"
     ]
    }
   ],
   "source": [
    "agree = 0\n",
    "disagree = 0\n",
    "\n",
    "for idx in pmc.index:\n",
    "    if idx not in tmc.index:\n",
    "        continue\n",
    "    else:\n",
    "        onecat = pmc.loc[idx, 'category']\n",
    "        othercat = tmc.loc[idx, 'category']\n",
    "        if onecat == othercat:\n",
    "            agree += 1\n",
    "        else:\n",
    "            print(onecat, othercat)\n",
    "            disagree +=1\n",
    "\n",
    "print(disagree / (agree + disagree))"
   ]
  },
  {
   "cell_type": "code",
   "execution_count": 14,
   "metadata": {
    "collapsed": false
   },
   "outputs": [
    {
     "name": "stdout",
     "output_type": "stream",
     "text": [
      "jessica <=> patrick\n",
      "Agreement on  45\n",
      "Disagreement on  8\n",
      "Percent disagreement  0.1509433962264151\n",
      "\n",
      "jessica <=> ted\n",
      "Agreement on  51\n",
      "Disagreement on  6\n",
      "Percent disagreement  0.10526315789473684\n",
      "\n",
      "patrick <=> ted\n",
      "Agreement on  47\n",
      "Disagreement on  5\n",
      "Percent disagreement  0.09615384615384616\n",
      "\n",
      "TOTAL: \n",
      "Agreement on  143\n",
      "Disagreement on  19\n",
      "Percent disagreement  0.11728395061728394\n"
     ]
    }
   ],
   "source": [
    "names = ['jessica', 'patrick', 'ted']\n",
    "\n",
    "def compare_categories(dfa, dfb):\n",
    "    agree = 0\n",
    "    disagree = 0\n",
    "\n",
    "    for idx in dfa.index:\n",
    "        if idx not in dfb.index:\n",
    "            continue\n",
    "        else:\n",
    "            onecat = dfa.loc[idx, 'category']\n",
    "            othercat = dfb.loc[idx, 'category']\n",
    "            if onecat == othercat:\n",
    "                agree += 1\n",
    "            else:\n",
    "                disagree +=1\n",
    "    print(\"Agreement on \", agree)\n",
    "    print(\"Disagreement on \", disagree)\n",
    "    percent = disagree / (agree + disagree)\n",
    "    print('Percent disagreement ', percent)\n",
    "    \n",
    "    return agree, disagree\n",
    "\n",
    "frames = [jmc, pmc, tmc]\n",
    "\n",
    "allagree = 0\n",
    "alldisagree = 0\n",
    "\n",
    "for idx, dfa in enumerate(frames):\n",
    "    for idx2, dfb in enumerate(frames[idx + 1 : ]):\n",
    "        print(names[idx], '<=>', names[idx2 + idx + 1])\n",
    "        agree, disagree = compare_categories(dfa, dfb)\n",
    "        allagree += agree\n",
    "        alldisagree += disagree\n",
    "        print()\n",
    "\n",
    "print(\"TOTAL: \")\n",
    "print(\"Agreement on \", allagree)\n",
    "print(\"Disagreement on \", alldisagree)\n",
    "percent = alldisagree / (allagree + alldisagree)\n",
    "print('Percent disagreement ', percent)    \n"
   ]
  },
  {
   "cell_type": "code",
   "execution_count": 19,
   "metadata": {
    "collapsed": false
   },
   "outputs": [
    {
     "name": "stdout",
     "output_type": "stream",
     "text": [
      "jessica <=> patrick\n",
      "Agreement on  40\n",
      "Disagreement on  5\n",
      "Percent disagreement  0.1111111111111111\n",
      "\n",
      "jessica <=> ted\n",
      "Agreement on  47\n",
      "Disagreement on  5\n",
      "Percent disagreement  0.09615384615384616\n",
      "\n",
      "patrick <=> ted\n",
      "Agreement on  41\n",
      "Disagreement on  5\n",
      "Percent disagreement  0.10869565217391304\n",
      "\n",
      "TOTAL: \n",
      "Agreement on  128\n",
      "Disagreement on  15\n",
      "Percent disagreement  0.1048951048951049\n"
     ]
    }
   ],
   "source": [
    "def compare_novel_opinions(dfa, dfb):\n",
    "    agree = 0\n",
    "    disagree = 0\n",
    "\n",
    "    for idx in dfa.index:\n",
    "        if idx not in dfb.index:\n",
    "            continue\n",
    "        else:\n",
    "            onecat = dfa.loc[idx, 'category']\n",
    "            othercat = dfb.loc[idx, 'category']\n",
    "            \n",
    "            if onecat != 'novel' and othercat != 'novel':\n",
    "                continue\n",
    "                \n",
    "            if onecat == othercat:\n",
    "                agree += 1\n",
    "            else:\n",
    "                disagree +=1\n",
    "        \n",
    "    print(\"Agreement on \", agree)\n",
    "    print(\"Disagreement on \", disagree)\n",
    "    percent = disagree / (agree + disagree)\n",
    "    print('Percent disagreement ', percent)\n",
    "    \n",
    "    return agree, disagree\n",
    "\n",
    "frames = [jmc, pmc, tmc]\n",
    "\n",
    "allagree = 0\n",
    "alldisagree = 0\n",
    "\n",
    "for idx, dfa in enumerate(frames):\n",
    "    for idx2, dfb in enumerate(frames[idx + 1 : ]):\n",
    "        print(names[idx], '<=>', names[idx2 + idx + 1])\n",
    "        agree, disagree = compare_novel_opinions(dfa, dfb)\n",
    "        allagree += agree\n",
    "        alldisagree += disagree\n",
    "        print()\n",
    "\n",
    "print(\"TOTAL: \")\n",
    "print(\"Agreement on \", allagree)\n",
    "print(\"Disagreement on \", alldisagree)\n",
    "percent = alldisagree / (allagree + alldisagree)\n",
    "print('Percent disagreement ', percent)   "
   ]
  },
  {
   "cell_type": "code",
   "execution_count": 23,
   "metadata": {
    "collapsed": false
   },
   "outputs": [
    {
     "name": "stdout",
     "output_type": "stream",
     "text": [
      "jessica <=> patrick\n",
      "Agreement on  49\n",
      "Disagreement on  4\n",
      "Percent disagreement  0.07547169811320754\n",
      "\n",
      "jessica <=> ted\n",
      "10.0\n",
      "Home life in Russia\n",
      "Home life in Russia | alternate title: Dead Souls\n",
      "5.0\n",
      "By nature equal\n",
      "By nature equal\n",
      "3.0\n",
      "The daughter\n",
      "The daughter; the diary of an Israeli girl\n",
      "Agreement on  52\n",
      "Disagreement on  5\n",
      "Percent disagreement  0.08771929824561403\n",
      "\n",
      "patrick <=> ted\n",
      "85.0\n",
      "Within a budding grove\n",
      "Within a budding grove\n",
      "5.0\n",
      "By nature equal\n",
      "By nature equal\n",
      "Agreement on  46\n",
      "Disagreement on  6\n",
      "Percent disagreement  0.11538461538461539\n",
      "\n",
      "TOTAL: \n",
      "Agreement on  147\n",
      "Disagreement on  15\n",
      "Percent disagreement  0.09259259259259259\n"
     ]
    }
   ],
   "source": [
    "def compare_firstpub_dates(dfa, dfb):\n",
    "    agree = 0\n",
    "    disagree = 0\n",
    "\n",
    "    for idx in dfa.index:\n",
    "        if idx not in dfb.index:\n",
    "            continue\n",
    "        else:\n",
    "            onedate = dfa.loc[idx, 'firstpub']\n",
    "            if pd.isnull(onedate):\n",
    "                onedate = dfa.loc[idx, 'latestcomp']\n",
    "            otherdate = dfb.loc[idx, 'firstpub']\n",
    "            if pd.isnull(otherdate):\n",
    "                otherdate = dfb.loc[idx, 'latestcomp']\n",
    "                \n",
    "            if onedate == otherdate:\n",
    "                agree += 1\n",
    "            else:\n",
    "                difference = abs(onedate - otherdate)\n",
    "                if difference > 1:\n",
    "                    print(difference)\n",
    "                    print(dfa.loc[idx, 'shorttitle'])\n",
    "                    print(dfb.loc[idx, 'shorttitle'])\n",
    "                disagree +=1\n",
    "        \n",
    "    print(\"Agreement on \", agree)\n",
    "    print(\"Disagreement on \", disagree)\n",
    "    percent = disagree / (agree + disagree)\n",
    "    print('Percent disagreement ', percent)\n",
    "    \n",
    "    return agree, disagree\n",
    "\n",
    "frames = [jmc, pmc, tmc]\n",
    "\n",
    "allagree = 0\n",
    "alldisagree = 0\n",
    "\n",
    "for idx, dfa in enumerate(frames):\n",
    "    for idx2, dfb in enumerate(frames[idx + 1 : ]):\n",
    "        print(names[idx], '<=>', names[idx2 + idx + 1])\n",
    "        agree, disagree = compare_firstpub_dates(dfa, dfb)\n",
    "        allagree += agree\n",
    "        alldisagree += disagree\n",
    "        print()\n",
    "\n",
    "print(\"TOTAL: \")\n",
    "print(\"Agreement on \", allagree)\n",
    "print(\"Disagreement on \", alldisagree)\n",
    "percent = alldisagree / (allagree + alldisagree)\n",
    "print('Percent disagreement ', percent)   "
   ]
  },
  {
   "cell_type": "code",
   "execution_count": null,
   "metadata": {
    "collapsed": true
   },
   "outputs": [],
   "source": []
  }
 ],
 "metadata": {
  "anaconda-cloud": {},
  "kernelspec": {
   "display_name": "Python [default]",
   "language": "python",
   "name": "python3"
  },
  "language_info": {
   "codemirror_mode": {
    "name": "ipython",
    "version": 3
   },
   "file_extension": ".py",
   "mimetype": "text/x-python",
   "name": "python",
   "nbconvert_exporter": "python",
   "pygments_lexer": "ipython3",
   "version": "3.5.2"
  }
 },
 "nbformat": 4,
 "nbformat_minor": 2
}
