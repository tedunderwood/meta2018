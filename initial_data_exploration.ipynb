{
 "cells": [
  {
   "cell_type": "markdown",
   "metadata": {},
   "source": [
    "# Merge sources and explore the data\n",
    "\n",
    "Just some initial exploration of the data in progress. "
   ]
  },
  {
   "cell_type": "code",
   "execution_count": 1,
   "metadata": {},
   "outputs": [],
   "source": [
    "import pandas as pd\n",
    "import numpy as np\n",
    "from matplotlib import pyplot as plt\n",
    "%matplotlib inline"
   ]
  },
  {
   "cell_type": "markdown",
   "metadata": {},
   "source": [
    "### Read in Jessica's data"
   ]
  },
  {
   "cell_type": "code",
   "execution_count": 26,
   "metadata": {},
   "outputs": [],
   "source": [
    "j = pd.read_csv('jessica.tsv', sep = '\\t')"
   ]
  },
  {
   "cell_type": "code",
   "execution_count": 3,
   "metadata": {},
   "outputs": [
    {
     "data": {
      "text/plain": [
       "(1200, 18)"
      ]
     },
     "execution_count": 3,
     "metadata": {},
     "output_type": "execute_result"
    }
   ],
   "source": [
    "j.shape"
   ]
  },
  {
   "cell_type": "code",
   "execution_count": 4,
   "metadata": {},
   "outputs": [
    {
     "data": {
      "text/html": [
       "<div>\n",
       "<table border=\"1\" class=\"dataframe\">\n",
       "  <thead>\n",
       "    <tr style=\"text-align: right;\">\n",
       "      <th></th>\n",
       "      <th>docid</th>\n",
       "      <th>author</th>\n",
       "      <th>realname</th>\n",
       "      <th>pseudonym</th>\n",
       "      <th>gender</th>\n",
       "      <th>nationality</th>\n",
       "      <th>authordate</th>\n",
       "      <th>inferreddate</th>\n",
       "      <th>firstpub</th>\n",
       "      <th>latestcomp</th>\n",
       "      <th>allcopiesofwork</th>\n",
       "      <th>copiesin25yrs</th>\n",
       "      <th>enumcron</th>\n",
       "      <th>imprint</th>\n",
       "      <th>genres</th>\n",
       "      <th>subjects</th>\n",
       "      <th>shorttitle</th>\n",
       "      <th>category</th>\n",
       "    </tr>\n",
       "  </thead>\n",
       "  <tbody>\n",
       "    <tr>\n",
       "      <th>0</th>\n",
       "      <td>mdp.49015000838012</td>\n",
       "      <td>Fraser, Peter</td>\n",
       "      <td>NaN</td>\n",
       "      <td>NaN</td>\n",
       "      <td>m</td>\n",
       "      <td>us</td>\n",
       "      <td>1932-</td>\n",
       "      <td>1971</td>\n",
       "      <td>1971.0</td>\n",
       "      <td>1971</td>\n",
       "      <td>1</td>\n",
       "      <td>1</td>\n",
       "      <td>NaN</td>\n",
       "      <td>Boston|Plays inc.|1971</td>\n",
       "      <td>Bibliographies|NotFiction</td>\n",
       "      <td>Puppet theater</td>\n",
       "      <td>Puppet circus</td>\n",
       "      <td>nonfiction</td>\n",
       "    </tr>\n",
       "    <tr>\n",
       "      <th>1</th>\n",
       "      <td>mdp.39015063561586</td>\n",
       "      <td>Ferrier, Susan</td>\n",
       "      <td>Ferrier, Susan Edmonstone</td>\n",
       "      <td>NaN</td>\n",
       "      <td>f</td>\n",
       "      <td>uk</td>\n",
       "      <td>1782-1854.</td>\n",
       "      <td>1818</td>\n",
       "      <td>1818.0</td>\n",
       "      <td>1818</td>\n",
       "      <td>5</td>\n",
       "      <td>3</td>\n",
       "      <td>v.2</td>\n",
       "      <td>Edinburgh;W. Blackwood an</td>\n",
       "      <td>Bibliographies|Fiction</td>\n",
       "      <td>English fiction</td>\n",
       "      <td>Marriage, a novel</td>\n",
       "      <td>novel</td>\n",
       "    </tr>\n",
       "    <tr>\n",
       "      <th>2</th>\n",
       "      <td>uiuo.ark+=13960=t8nc6b618</td>\n",
       "      <td>Neri, Mary Anne</td>\n",
       "      <td>Neri, Mary Anne</td>\n",
       "      <td>NaN</td>\n",
       "      <td>f</td>\n",
       "      <td>it</td>\n",
       "      <td>NaN</td>\n",
       "      <td>1804</td>\n",
       "      <td>1804.0</td>\n",
       "      <td>1804</td>\n",
       "      <td>1</td>\n",
       "      <td>1</td>\n",
       "      <td>v.1</td>\n",
       "      <td>London;Printed for T. Cad</td>\n",
       "      <td>Novel|Fiction</td>\n",
       "      <td>NaN</td>\n",
       "      <td>The eve of San-Pietro</td>\n",
       "      <td>novel</td>\n",
       "    </tr>\n",
       "    <tr>\n",
       "      <th>3</th>\n",
       "      <td>uc1.$b473613</td>\n",
       "      <td>Mann, Erika</td>\n",
       "      <td>Mann, Erika</td>\n",
       "      <td>NaN</td>\n",
       "      <td>f</td>\n",
       "      <td>de</td>\n",
       "      <td>1905-1969.</td>\n",
       "      <td>1940</td>\n",
       "      <td>NaN</td>\n",
       "      <td>1940</td>\n",
       "      <td>1</td>\n",
       "      <td>1</td>\n",
       "      <td>NaN</td>\n",
       "      <td>New York|Toronto|Farrar &amp;</td>\n",
       "      <td>NotFiction</td>\n",
       "      <td>Social life and customs</td>\n",
       "      <td>The lights go down</td>\n",
       "      <td>novel</td>\n",
       "    </tr>\n",
       "    <tr>\n",
       "      <th>4</th>\n",
       "      <td>nyp.33433074931597</td>\n",
       "      <td>Forrester, Charles Robert</td>\n",
       "      <td>Forrester, Charles Robert</td>\n",
       "      <td>Crowquill, Alfred; Willis, Hal</td>\n",
       "      <td>m</td>\n",
       "      <td>uk</td>\n",
       "      <td>1803-1850.</td>\n",
       "      <td>1843</td>\n",
       "      <td>NaN</td>\n",
       "      <td>1843</td>\n",
       "      <td>2</td>\n",
       "      <td>2</td>\n",
       "      <td>v. 2</td>\n",
       "      <td>London;R. Bentley;1843.</td>\n",
       "      <td>NotFiction</td>\n",
       "      <td>NaN</td>\n",
       "      <td>Phantasmagoria of fun</td>\n",
       "      <td>juvenile</td>\n",
       "    </tr>\n",
       "  </tbody>\n",
       "</table>\n",
       "</div>"
      ],
      "text/plain": [
       "                       docid                     author  \\\n",
       "0         mdp.49015000838012              Fraser, Peter   \n",
       "1         mdp.39015063561586             Ferrier, Susan   \n",
       "2  uiuo.ark+=13960=t8nc6b618            Neri, Mary Anne   \n",
       "3               uc1.$b473613                Mann, Erika   \n",
       "4         nyp.33433074931597  Forrester, Charles Robert   \n",
       "\n",
       "                    realname                       pseudonym gender  \\\n",
       "0                        NaN                             NaN      m   \n",
       "1  Ferrier, Susan Edmonstone                             NaN      f   \n",
       "2            Neri, Mary Anne                             NaN      f   \n",
       "3                Mann, Erika                             NaN      f   \n",
       "4  Forrester, Charles Robert  Crowquill, Alfred; Willis, Hal      m   \n",
       "\n",
       "  nationality  authordate  inferreddate  firstpub  latestcomp  \\\n",
       "0          us       1932-          1971    1971.0        1971   \n",
       "1          uk  1782-1854.          1818    1818.0        1818   \n",
       "2          it         NaN          1804    1804.0        1804   \n",
       "3          de  1905-1969.          1940       NaN        1940   \n",
       "4          uk  1803-1850.          1843       NaN        1843   \n",
       "\n",
       "   allcopiesofwork copiesin25yrs enumcron                    imprint  \\\n",
       "0                1             1      NaN     Boston|Plays inc.|1971   \n",
       "1                5             3      v.2  Edinburgh;W. Blackwood an   \n",
       "2                1             1      v.1  London;Printed for T. Cad   \n",
       "3                1             1      NaN  New York|Toronto|Farrar &   \n",
       "4                2             2     v. 2    London;R. Bentley;1843.   \n",
       "\n",
       "                      genres                 subjects             shorttitle  \\\n",
       "0  Bibliographies|NotFiction           Puppet theater          Puppet circus   \n",
       "1     Bibliographies|Fiction          English fiction      Marriage, a novel   \n",
       "2              Novel|Fiction                      NaN  The eve of San-Pietro   \n",
       "3                 NotFiction  Social life and customs     The lights go down   \n",
       "4                 NotFiction                      NaN  Phantasmagoria of fun   \n",
       "\n",
       "     category  \n",
       "0  nonfiction  \n",
       "1       novel  \n",
       "2       novel  \n",
       "3       novel  \n",
       "4    juvenile  "
      ]
     },
     "execution_count": 4,
     "metadata": {},
     "output_type": "execute_result"
    }
   ],
   "source": [
    "j.head()"
   ]
  },
  {
   "cell_type": "markdown",
   "metadata": {},
   "source": [
    "### Read in Patrick's data"
   ]
  },
  {
   "cell_type": "code",
   "execution_count": 9,
   "metadata": {},
   "outputs": [],
   "source": [
    "p = pd.read_csv('patrick.tsv', sep = '\\t')"
   ]
  },
  {
   "cell_type": "code",
   "execution_count": 10,
   "metadata": {},
   "outputs": [
    {
     "data": {
      "text/plain": [
       "(1200, 1)"
      ]
     },
     "execution_count": 10,
     "metadata": {},
     "output_type": "execute_result"
    }
   ],
   "source": [
    "p.shape"
   ]
  },
  {
   "cell_type": "markdown",
   "metadata": {},
   "source": [
    "Ooops; there's only one column. This is probably a sign that there aren't any tabs in the file; it's gotten accidentally saved as a csv, which happens very easily on Windows.\n",
    "\n",
    "That's fine, actually, and maybe we shouldn't worry about it, because it's easily addressed."
   ]
  },
  {
   "cell_type": "code",
   "execution_count": 11,
   "metadata": {},
   "outputs": [
    {
     "data": {
      "text/plain": [
       "(1200, 18)"
      ]
     },
     "execution_count": 11,
     "metadata": {},
     "output_type": "execute_result"
    }
   ],
   "source": [
    "p = pd.read_csv('patrick.tsv')\n",
    "p.shape"
   ]
  },
  {
   "cell_type": "markdown",
   "metadata": {},
   "source": [
    "There, solved."
   ]
  },
  {
   "cell_type": "code",
   "execution_count": 12,
   "metadata": {},
   "outputs": [
    {
     "data": {
      "text/html": [
       "<div>\n",
       "<table border=\"1\" class=\"dataframe\">\n",
       "  <thead>\n",
       "    <tr style=\"text-align: right;\">\n",
       "      <th></th>\n",
       "      <th>docid</th>\n",
       "      <th>author</th>\n",
       "      <th>realname</th>\n",
       "      <th>pseudonym</th>\n",
       "      <th>gender</th>\n",
       "      <th>nationality</th>\n",
       "      <th>authordate</th>\n",
       "      <th>inferreddate</th>\n",
       "      <th>firstpub</th>\n",
       "      <th>latestcomp</th>\n",
       "      <th>allcopiesofwork</th>\n",
       "      <th>copiesin25yrs</th>\n",
       "      <th>enumcron</th>\n",
       "      <th>imprint</th>\n",
       "      <th>genres</th>\n",
       "      <th>subjects</th>\n",
       "      <th>category</th>\n",
       "      <th>shorttitle</th>\n",
       "    </tr>\n",
       "  </thead>\n",
       "  <tbody>\n",
       "    <tr>\n",
       "      <th>0</th>\n",
       "      <td>nyp.33433076025596</td>\n",
       "      <td>M'Henry, James</td>\n",
       "      <td>McHenry, James</td>\n",
       "      <td>NaN</td>\n",
       "      <td>m</td>\n",
       "      <td>us</td>\n",
       "      <td>1785-1845.</td>\n",
       "      <td>1848</td>\n",
       "      <td>1823.0</td>\n",
       "      <td>1845</td>\n",
       "      <td>1</td>\n",
       "      <td>1</td>\n",
       "      <td>v. 1-2</td>\n",
       "      <td>Pittsburgh;M. P. Morse;18</td>\n",
       "      <td>NaN</td>\n",
       "      <td>1732-1799|Fiction|Washing</td>\n",
       "      <td>novel</td>\n",
       "      <td>The wilderness : or, Braddock's times; A tale ...</td>\n",
       "    </tr>\n",
       "    <tr>\n",
       "      <th>1</th>\n",
       "      <td>wu.89087902169</td>\n",
       "      <td>Applin, Arthur</td>\n",
       "      <td>NaN</td>\n",
       "      <td>Smith, Julian</td>\n",
       "      <td>m</td>\n",
       "      <td>uk</td>\n",
       "      <td>1883-</td>\n",
       "      <td>1929</td>\n",
       "      <td>NaN</td>\n",
       "      <td>1929</td>\n",
       "      <td>1</td>\n",
       "      <td>1</td>\n",
       "      <td>NaN</td>\n",
       "      <td>New York|H. Liveright|192</td>\n",
       "      <td>NotFiction</td>\n",
       "      <td>NaN</td>\n",
       "      <td>novel</td>\n",
       "      <td>The chronicles of a gigolo</td>\n",
       "    </tr>\n",
       "    <tr>\n",
       "      <th>2</th>\n",
       "      <td>uc1.$b323629</td>\n",
       "      <td>March, William</td>\n",
       "      <td>NaN</td>\n",
       "      <td>NaN</td>\n",
       "      <td>m</td>\n",
       "      <td>us</td>\n",
       "      <td>1893-1954.</td>\n",
       "      <td>1939</td>\n",
       "      <td>NaN</td>\n",
       "      <td>1939</td>\n",
       "      <td>2</td>\n",
       "      <td>2</td>\n",
       "      <td>NaN</td>\n",
       "      <td>Boston|Little, Brown and</td>\n",
       "      <td>NotFiction</td>\n",
       "      <td>NaN</td>\n",
       "      <td>shortstories</td>\n",
       "      <td>Some like them short</td>\n",
       "    </tr>\n",
       "    <tr>\n",
       "      <th>3</th>\n",
       "      <td>uc1.$b318317</td>\n",
       "      <td>Rosny, J. H., aÃ®nÃ©, pseud. of J. H. BoÃ«x</td>\n",
       "      <td>Boex, Joseph Henri Honoré</td>\n",
       "      <td>Rosny aîné</td>\n",
       "      <td>m</td>\n",
       "      <td>fr</td>\n",
       "      <td>1856-1940.</td>\n",
       "      <td>1924</td>\n",
       "      <td>NaN</td>\n",
       "      <td>1924</td>\n",
       "      <td>1</td>\n",
       "      <td>1</td>\n",
       "      <td>NaN</td>\n",
       "      <td>New York|R. M. McBride|19</td>\n",
       "      <td>NotFiction</td>\n",
       "      <td>NaN</td>\n",
       "      <td>novel</td>\n",
       "      <td>The giant cat; or, The quest of Aoun and Zouhr</td>\n",
       "    </tr>\n",
       "    <tr>\n",
       "      <th>4</th>\n",
       "      <td>mdp.39015005144137</td>\n",
       "      <td>von Strassburg, Gottfried</td>\n",
       "      <td>NaN</td>\n",
       "      <td>NaN</td>\n",
       "      <td>u</td>\n",
       "      <td>NaN</td>\n",
       "      <td>d. 1210</td>\n",
       "      <td>1960</td>\n",
       "      <td>NaN</td>\n",
       "      <td>1960</td>\n",
       "      <td>1</td>\n",
       "      <td>1</td>\n",
       "      <td>NaN</td>\n",
       "      <td>Baltimore|Penguin Books|1</td>\n",
       "      <td>NotFiction</td>\n",
       "      <td>Tristan|(Anglo-Norman poe</td>\n",
       "      <td>reprint</td>\n",
       "      <td>Tristan</td>\n",
       "    </tr>\n",
       "  </tbody>\n",
       "</table>\n",
       "</div>"
      ],
      "text/plain": [
       "                docid                                       author  \\\n",
       "0  nyp.33433076025596                               M'Henry, James   \n",
       "1      wu.89087902169                               Applin, Arthur   \n",
       "2        uc1.$b323629                               March, William   \n",
       "3        uc1.$b318317  Rosny, J. H., aÃ®nÃ©, pseud. of J. H. BoÃ«x   \n",
       "4  mdp.39015005144137                    von Strassburg, Gottfried   \n",
       "\n",
       "                    realname      pseudonym gender nationality  authordate  \\\n",
       "0             McHenry, James            NaN      m          us  1785-1845.   \n",
       "1                        NaN  Smith, Julian      m          uk       1883-   \n",
       "2                        NaN            NaN      m          us  1893-1954.   \n",
       "3  Boex, Joseph Henri Honoré    Rosny aîné       m          fr  1856-1940.   \n",
       "4                        NaN            NaN      u         NaN     d. 1210   \n",
       "\n",
       "   inferreddate  firstpub  latestcomp  allcopiesofwork  copiesin25yrs  \\\n",
       "0          1848    1823.0        1845                1              1   \n",
       "1          1929       NaN        1929                1              1   \n",
       "2          1939       NaN        1939                2              2   \n",
       "3          1924       NaN        1924                1              1   \n",
       "4          1960       NaN        1960                1              1   \n",
       "\n",
       "  enumcron                    imprint      genres                   subjects  \\\n",
       "0   v. 1-2  Pittsburgh;M. P. Morse;18         NaN  1732-1799|Fiction|Washing   \n",
       "1      NaN  New York|H. Liveright|192  NotFiction                        NaN   \n",
       "2      NaN  Boston|Little, Brown and   NotFiction                        NaN   \n",
       "3      NaN  New York|R. M. McBride|19  NotFiction                        NaN   \n",
       "4      NaN  Baltimore|Penguin Books|1  NotFiction  Tristan|(Anglo-Norman poe   \n",
       "\n",
       "       category                                         shorttitle  \n",
       "0         novel  The wilderness : or, Braddock's times; A tale ...  \n",
       "1         novel                         The chronicles of a gigolo  \n",
       "2  shortstories                               Some like them short  \n",
       "3         novel     The giant cat; or, The quest of Aoun and Zouhr  \n",
       "4       reprint                                            Tristan  "
      ]
     },
     "execution_count": 12,
     "metadata": {},
     "output_type": "execute_result"
    }
   ],
   "source": [
    "p.head()"
   ]
  },
  {
   "cell_type": "markdown",
   "metadata": {},
   "source": [
    "### Explore format and allowable values"
   ]
  },
  {
   "cell_type": "code",
   "execution_count": 13,
   "metadata": {},
   "outputs": [
    {
     "data": {
      "text/plain": [
       "False"
      ]
     },
     "execution_count": 13,
     "metadata": {},
     "output_type": "execute_result"
    }
   ],
   "source": [
    "# Do the files have the same columns in the same order?\n",
    "\n",
    "list(p.columns) == list(j.columns)"
   ]
  },
  {
   "cell_type": "code",
   "execution_count": 14,
   "metadata": {},
   "outputs": [
    {
     "data": {
      "text/plain": [
       "True"
      ]
     },
     "execution_count": 14,
     "metadata": {},
     "output_type": "execute_result"
    }
   ],
   "source": [
    "set(p.columns) == set(j.columns)"
   ]
  },
  {
   "cell_type": "markdown",
   "metadata": {},
   "source": [
    "No, but they have the same columns, just in a different order. I think it's mainly that \"category\" and \"shorttitle\" are reversed at the end. That's fine; the mere ordering of columns won't bother Pandas at all."
   ]
  },
  {
   "cell_type": "markdown",
   "metadata": {},
   "source": [
    "#### gender\n",
    "\n",
    "According to our data model in [**process.md**](https://github.com/tedunderwood/meta2018/blob/master/process.md), the only allowable values here are m(ale), f(emale), u(nknown), and o(ther).\n",
    "\n",
    "What values do we actually have?"
   ]
  },
  {
   "cell_type": "code",
   "execution_count": 15,
   "metadata": {},
   "outputs": [
    {
     "data": {
      "text/plain": [
       "{nan, 'm | m', 'in', 'F | m', 'm', 'm | f', 'f'}"
      ]
     },
     "execution_count": 15,
     "metadata": {},
     "output_type": "execute_result"
    }
   ],
   "source": [
    "set(j.gender)"
   ]
  },
  {
   "cell_type": "code",
   "execution_count": 16,
   "metadata": {},
   "outputs": [
    {
     "data": {
      "text/plain": [
       "{'u', nan, 'm', 'f'}"
      ]
     },
     "execution_count": 16,
     "metadata": {},
     "output_type": "execute_result"
    }
   ],
   "source": [
    "set(p.gender)"
   ]
  },
  {
   "cell_type": "markdown",
   "metadata": {},
   "source": [
    "The multiple values in Jessica's table should probably be simplified. If these are multiple-author situations, and the authors have different genders, just go with **o**ther.\n",
    "\n",
    "If they have the same gender, go with **m** or **f**. Don't use pipes \"|\" in this column.\n",
    "\n",
    "Same thing applies to \"us | us\" below. Remember that these datasets are going to be interpreted mostly by computers, not human beings. The computer won't know what to make of the pipe separator \"|\" unless I tell it to expect pipes in this column, and tell it what to do when it encounters one. So we only want to use pipes in columns where we have an explicit plan to do so."
   ]
  },
  {
   "cell_type": "markdown",
   "metadata": {},
   "source": [
    "#### nationality"
   ]
  },
  {
   "cell_type": "code",
   "execution_count": 17,
   "metadata": {},
   "outputs": [
    {
     "data": {
      "text/plain": [
       "{nan,\n",
       " 'fi',\n",
       " 'ger',\n",
       " 'uk',\n",
       " 'us | us',\n",
       " 'ir',\n",
       " 'ne',\n",
       " 'in',\n",
       " 'ko',\n",
       " 'cmr',\n",
       " 'it',\n",
       " 'ca',\n",
       " 'be',\n",
       " 'au',\n",
       " 'ni',\n",
       " 'fr',\n",
       " 'th',\n",
       " 'ru',\n",
       " 'pk',\n",
       " 'jp',\n",
       " 'ukr',\n",
       " 'uy',\n",
       " 'me',\n",
       " 'si',\n",
       " 'swe',\n",
       " 'gk',\n",
       " 'us',\n",
       " 'no',\n",
       " 'cu',\n",
       " 'de',\n",
       " 'aus',\n",
       " 'le',\n",
       " 'is'}"
      ]
     },
     "execution_count": 17,
     "metadata": {},
     "output_type": "execute_result"
    }
   ],
   "source": [
    "set(j.nationality)"
   ]
  },
  {
   "cell_type": "code",
   "execution_count": 18,
   "metadata": {},
   "outputs": [
    {
     "data": {
      "text/plain": [
       "{nan,\n",
       " 'iran',\n",
       " 'hun',\n",
       " 'ar',\n",
       " 'uk',\n",
       " 'ir',\n",
       " 'nic',\n",
       " 'in',\n",
       " 'cmr',\n",
       " 'tr',\n",
       " 'it',\n",
       " 'ca',\n",
       " 'nor',\n",
       " 'au',\n",
       " 'ni',\n",
       " 'fr',\n",
       " 'lit',\n",
       " 'ru',\n",
       " 'jp',\n",
       " 'ukr',\n",
       " 'me',\n",
       " 'sw',\n",
       " 'den',\n",
       " 'cl',\n",
       " 'gk',\n",
       " 'ba',\n",
       " 'us',\n",
       " 'no',\n",
       " 'tu',\n",
       " 'de',\n",
       " 'gr',\n",
       " 'al',\n",
       " 'es',\n",
       " 'nz',\n",
       " 'pol',\n",
       " 'tri',\n",
       " 'arm',\n",
       " 'aus',\n",
       " 'pr',\n",
       " 'sa',\n",
       " 'ph',\n",
       " 'sri'}"
      ]
     },
     "execution_count": 18,
     "metadata": {},
     "output_type": "execute_result"
    }
   ],
   "source": [
    "set(p.nationality)"
   ]
  },
  {
   "cell_type": "markdown",
   "metadata": {},
   "source": [
    "#### category\n",
    "\n",
    "According to our data dictionary in [**process.md**](https://github.com/tedunderwood/meta2018/blob/master/process.md) the allowable codes here are\n",
    "\n",
    "    nonfic\n",
    "    reprint\n",
    "    novel\n",
    "    poetry\n",
    "    shortstories\n",
    "    juvenile\n",
    "\n",
    "In subsequent conversation we added\n",
    "\n",
    "    drama, and\n",
    "    shortstories|juvenile\n",
    "    juvenile|shortstories (order doesn't matter here)\n",
    " \n",
    "What categories are we actually getting?"
   ]
  },
  {
   "cell_type": "code",
   "execution_count": 19,
   "metadata": {},
   "outputs": [
    {
     "data": {
      "text/plain": [
       "{nan,\n",
       " 'nonfiction',\n",
       " 'notfiction',\n",
       " 'reprint',\n",
       " 'poetry',\n",
       " 'juvenile',\n",
       " 'Shortstories | poetry',\n",
       " 'novel',\n",
       " 'Juvenile | shortstories',\n",
       " 'drama',\n",
       " 'shortstories',\n",
       " 'Shortstories | juvenile'}"
      ]
     },
     "execution_count": 19,
     "metadata": {},
     "output_type": "execute_result"
    }
   ],
   "source": [
    "set(j.category)"
   ]
  },
  {
   "cell_type": "code",
   "execution_count": 20,
   "metadata": {},
   "outputs": [
    {
     "data": {
      "text/plain": [
       "{nan,\n",
       " 'nonfic|juvenile',\n",
       " 'reprint',\n",
       " 'poetry',\n",
       " 'juvenile',\n",
       " 'nonfic|poetry',\n",
       " 'novel|juvenile',\n",
       " 'novel',\n",
       " 'shortstories|juvenile',\n",
       " 'shortstories|poetry',\n",
       " 'juvenile|shortstories',\n",
       " 'nonfic',\n",
       " 'shortstories'}"
      ]
     },
     "execution_count": 20,
     "metadata": {},
     "output_type": "execute_result"
    }
   ],
   "source": [
    "set(p.category)"
   ]
  },
  {
   "cell_type": "markdown",
   "metadata": {},
   "source": [
    "Most of the variants here are no problem. It's normal practice to lowercase everything, and strip spaces, so \"Shortstories | juvenile\" will be easy to interpret.\n",
    "\n",
    "But *nonfiction / notfiction / nonfic* are material variants; we want to standardize to *nonfic.*\n",
    "\n",
    "I can do that quickly now to illustrate."
   ]
  },
  {
   "cell_type": "code",
   "execution_count": 27,
   "metadata": {},
   "outputs": [
    {
     "name": "stdout",
     "output_type": "stream",
     "text": [
      "We changed 46 rows.\n"
     ]
    }
   ],
   "source": [
    "ctr = 0\n",
    "# we want to count changes\n",
    "# so initialize a counter to zero\n",
    "\n",
    "for idx in j.index:\n",
    "    # let's go through every row in this dataframe\n",
    "    # by using the \"index\" number\n",
    "    \n",
    "    this_category = j.loc[idx, 'category']\n",
    "    # Get the category each time, using the syntax:\n",
    "    # dataframe.loc[row, column]\n",
    "    # (loc for location)\n",
    "    \n",
    "    if this_category == 'notfiction' or this_category == 'nonfiction':\n",
    "        # if it's a variant\n",
    "        \n",
    "        j.loc[idx, 'category'] = 'nonfic'\n",
    "        # replace it with the version we expect\n",
    "        ctr += 1\n",
    "    \n",
    "    else:\n",
    "        # otherwise\n",
    "        pass       # do nothing\n",
    "                # this isn't really necessary, but I'm demonstrating\n",
    "                # if-else syntax\n",
    "\n",
    "print('We changed ' + str(ctr) + ' rows.')\n",
    "        "
   ]
  },
  {
   "cell_type": "markdown",
   "metadata": {},
   "source": [
    "#### What percentage nonfic?"
   ]
  },
  {
   "cell_type": "code",
   "execution_count": 30,
   "metadata": {},
   "outputs": [
    {
     "name": "stdout",
     "output_type": "stream",
     "text": [
      "In Jessica's set:  0.0656205420827\n",
      "In Patrick's set:  0.0941176470588\n"
     ]
    }
   ],
   "source": [
    "#### what percentage nonfic?\n",
    "\n",
    "j_pct = sum(j.category == 'nonfic') / sum(~pd.isnull(j.category))\n",
    "print(\"In Jessica's set: \", j_pct)\n",
    "\n",
    "\n",
    "p_pct = sum(p.category == 'nonfic') / sum(~pd.isnull(p.category))\n",
    "print(\"In Patrick's set: \", p_pct)"
   ]
  },
  {
   "cell_type": "markdown",
   "metadata": {},
   "source": [
    "Pretty close agreement; that makes sense."
   ]
  },
  {
   "cell_type": "markdown",
   "metadata": {},
   "source": [
    "#### How often is firstpub filled out?"
   ]
  },
  {
   "cell_type": "code",
   "execution_count": 32,
   "metadata": {},
   "outputs": [
    {
     "name": "stdout",
     "output_type": "stream",
     "text": [
      "In Jessica's set:  0.0114122681883\n",
      "In Patrick's set:  0.135828877005\n"
     ]
    }
   ],
   "source": [
    "j_pct = sum(~pd.isnull(j.firstpub)) / sum(~pd.isnull(j.category))\n",
    "print(\"In Jessica's set: \", j_pct)\n",
    "\n",
    "p_pct = sum(~pd.isnull(p.firstpub)) / sum(~pd.isnull(p.category))\n",
    "print(\"In Patrick's set: \", p_pct)"
   ]
  },
  {
   "cell_type": "markdown",
   "metadata": {},
   "source": [
    "That's a pretty dramatic difference, which we need to look into.\n",
    "\n",
    "13-14% of the time Patrick is able to identify a first publication date earlier than the \"inferreddate\"; in Jessica's data, it's only happening around 1% of the time."
   ]
  },
  {
   "cell_type": "code",
   "execution_count": null,
   "metadata": {},
   "outputs": [],
   "source": []
  }
 ],
 "metadata": {
  "kernelspec": {
   "display_name": "Python 3",
   "language": "python",
   "name": "python3"
  },
  "language_info": {
   "codemirror_mode": {
    "name": "ipython",
    "version": 3
   },
   "file_extension": ".py",
   "mimetype": "text/x-python",
   "name": "python",
   "nbconvert_exporter": "python",
   "pygments_lexer": "ipython3",
   "version": "3.5.2"
  }
 },
 "nbformat": 4,
 "nbformat_minor": 2
}
